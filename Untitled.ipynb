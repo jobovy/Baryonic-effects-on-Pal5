{
 "cells": [
  {
   "cell_type": "code",
   "execution_count": 1,
   "metadata": {
    "collapsed": false
   },
   "outputs": [
    {
     "name": "stdout",
     "output_type": "stream",
     "text": [
      "galpyWarning: A major change in versions > 1.1 is that all galpy.potential functions and methods take the potential as the first argument; previously methods such as evaluatePotentials, evaluateDensities, etc. would be called with (R,z,Pot), now they are called as (Pot,R,z) for greater consistency across the codebase\n",
      "Populating the interactive namespace from numpy and matplotlib\n"
     ]
    }
   ],
   "source": [
    "import numpy\n",
    "from galpy.potential import MWPotential2014\n",
    "from galpy.orbit import Orbit\n",
    "from galpy.actionAngle import actionAngleIsochroneApprox\n",
    "from galpy.util import bovy_plot\n",
    "_R0, _V0= 8., 220.\n",
    "%pylab inline"
   ]
  },
  {
   "cell_type": "code",
   "execution_count": 2,
   "metadata": {
    "collapsed": false
   },
   "outputs": [
    {
     "name": "stdout",
     "output_type": "stream",
     "text": [
      "galpyWarning: Using C implementation to integrate orbits\n"
     ]
    }
   ],
   "source": [
    "pal5= Orbit([229.018,-0.124,23.2,-2.296,-2.257,-58.7],radec=True,ro=_R0,vo=_V0,solarmotion=[-11.1,24.,7.25])  \n",
    "aAIA= actionAngleIsochroneApprox(pot=MWPotential2014,b=0.8)\n",
    "\n",
    "_,_,_,Or,Op,Oz= aAIA.actionsFreqs(pal5)"
   ]
  },
  {
   "cell_type": "code",
   "execution_count": 7,
   "metadata": {
    "collapsed": false
   },
   "outputs": [
    {
     "name": "stdout",
     "output_type": "stream",
     "text": [
      "[ 20.18936491]\n"
     ]
    }
   ],
   "source": [
    "print Or*_V0/_R0"
   ]
  },
  {
   "cell_type": "code",
   "execution_count": 6,
   "metadata": {
    "collapsed": false
   },
   "outputs": [
    {
     "name": "stdout",
     "output_type": "stream",
     "text": [
      "[ 0.04843209] [ 0.06846948] [ 0.06647789]\n"
     ]
    }
   ],
   "source": [
    "from galpy.util import bovy_conversion\n",
    "\n",
    "kpc_to_km= 1000.*bovy_conversion._PCIN10p18CM*(10**18.)/(10**5.)\n",
    "Gyr_to_s = 1000.*bovy_conversion._MyrIn1013Sec*10**13.\n",
    "ar= 1./(Or*_V0/_R0/kpc_to_km) \n",
    "ap= 1./(Op*_V0/_R0/kpc_to_km)\n",
    "az= 1./(Oz*_V0/_R0/kpc_to_km)#s\n",
    "\n",
    "print ar/Gyr_to_s, ap/Gyr_to_s, az/Gyr_to_s\n"
   ]
  },
  {
   "cell_type": "code",
   "execution_count": 12,
   "metadata": {
    "collapsed": false
   },
   "outputs": [
    {
     "name": "stdout",
     "output_type": "stream",
     "text": [
      "[ 0.04843209]\n"
     ]
    }
   ],
   "source": [
    "print 1./(Or*_V0/_R0/kpc_to_km)/ Gyr_to_s"
   ]
  },
  {
   "cell_type": "code",
   "execution_count": null,
   "metadata": {
    "collapsed": true
   },
   "outputs": [],
   "source": []
  }
 ],
 "metadata": {
  "kernelspec": {
   "display_name": "Python 2",
   "language": "python",
   "name": "python2"
  },
  "language_info": {
   "codemirror_mode": {
    "name": "ipython",
    "version": 2
   },
   "file_extension": ".py",
   "mimetype": "text/x-python",
   "name": "python",
   "nbconvert_exporter": "python",
   "pygments_lexer": "ipython2",
   "version": "2.7.13"
  }
 },
 "nbformat": 4,
 "nbformat_minor": 2
}
