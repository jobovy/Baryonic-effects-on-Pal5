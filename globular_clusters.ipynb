{
 "cells": [
  {
   "cell_type": "code",
   "execution_count": null,
   "metadata": {},
   "outputs": [],
   "source": [
    "import numpy as np\n",
    "import pickle\n",
    "from astropy.io import fits\n",
    "import matplotlib.pyplot as plt\n",
    "from galpy.util import bovy_conversion, bovy_coords, save_pickles, bovy_plot\n",
    "from galpy.potential import MWPotential2014, turn_physical_off, vcirc\n",
    "import astropy.units as u\n",
    "%pylab inline\n",
    "from galpy.orbit import Orbit\n",
    "import pandas as pd\n",
    "import GMC_GC_util\n",
    "\n",
    "#R0 = 8.2 ± 0.1 kpc, z0 = 25 ± 5 pc, and the solar velocity vector {vR, vφ, vz} = {−10 ± 1, 248 ± #3, 7 ± 1} km/s\n",
    "\n",
    "ro=8.\n",
    "vo=220."
   ]
  },
  {
   "cell_type": "markdown",
   "metadata": {},
   "source": [
    "# The catalog below is a combination of the catalog of globular clusters from Helmi et al https://arxiv.org/abs/1804.09381 and Vasiliev's paper https://arxiv.org/abs/1807.09775."
   ]
  },
  {
   "cell_type": "code",
   "execution_count": null,
   "metadata": {},
   "outputs": [],
   "source": [
    "#Helmi et al's values take precedence, wherever they are missing, I have used the values from Vasiliev.\n",
    "#The entire distance column is from Vasiliev's paper. ESO 456-78 (BH 261) and Terzan 10's Vlos were missing, so\n",
    "#I have removed them.\n",
    "\n",
    "#mass of GC from https://arxiv.org/pdf/1804.08359.pdf , GCs missing mass were set to the GC_mass_max\n",
    "\n",
    "dat=pd.io.parsers.read_csv(\"globular_clusters/catalogue_Helmi_combined_GCmass_max.txt\",sep=\"\\t\",header=0,\n",
    "                           usecols=(1,2,3,4,5,6,7,8),dtype=float,skiprows=[1])\n",
    "\n",
    "#print (dat.index)\n",
    "#print (dat.values)\n",
    "print (dat.columns)\n",
    "\n",
    "print (dat)\n",
    "print (len(dat))"
   ]
  },
  {
   "cell_type": "markdown",
   "metadata": {},
   "source": [
    "### setup the orbits of the globular clusters"
   ]
  },
  {
   "cell_type": "code",
   "execution_count": null,
   "metadata": {},
   "outputs": [],
   "source": [
    "coord= []\n",
    "\n",
    "t_age= np.linspace(0.,5.,1001)/bovy_conversion.time_in_Gyr(vo,ro)\n",
    "\n",
    "for ii in range(len(dat)):\n",
    "    coord.append(list(dat[['RA','DEC','D','PMRA','PMDEC','Vlos']].values[ii]))\n",
    "\n",
    "    \n",
    "#plot r vs M\n",
    "rs=np.radians(dat['rmaxdegr'].values)*(dat['D'].values)\n",
    "M=dat['Mass'].values\n",
    "\n",
    "print (min(M),max(M))\n",
    "\n",
    "plt.figure()\n",
    "plt.scatter(rs*1000.,M)\n",
    "plt.xlabel(r'$r_{s}$ (pc)')\n",
    "plt.ylabel(r'N_member')\n",
    "plt.xscale('log')\n",
    "plt.yscale('log')\n",
    "plt.show()\n",
    "    \n",
    " "
   ]
  },
  {
   "cell_type": "markdown",
   "metadata": {},
   "source": [
    "## Integrate the GCs orbit 5 Gyrs back"
   ]
  },
  {
   "cell_type": "code",
   "execution_count": null,
   "metadata": {},
   "outputs": [],
   "source": [
    "orbits= []\n",
    "\n",
    "N=len(dat)\n",
    "\n",
    "print (N)\n",
    "\n",
    "for ii in range(N):\n",
    "    orbits.append(Orbit(coord[ii],radec=True,ro=8.,vo=220.,solarmotion=[-11.1,24.,7.25]).flip()) # flip flips the velocities for backwards integration\n",
    "    orbits[ii].integrate(t_age,MWPotential2014)\n"
   ]
  },
  {
   "cell_type": "code",
   "execution_count": null,
   "metadata": {},
   "outputs": [],
   "source": [
    "orbits[5].plot(d1='x',d2='y')"
   ]
  },
  {
   "cell_type": "markdown",
   "metadata": {},
   "source": [
    "### Load streampeppered object"
   ]
  },
  {
   "cell_type": "code",
   "execution_count": null,
   "metadata": {},
   "outputs": [],
   "source": [
    "import pal5_util\n",
    "sdf_smooth= pal5_util.setup_pal5model()"
   ]
  },
  {
   "cell_type": "code",
   "execution_count": null,
   "metadata": {},
   "outputs": [],
   "source": [
    "#assume hernquist\n",
    "with open('../GMC/pkl_files/pal5pepper_2048sampling_MW2014.pkl','rb') as savefile:\n",
    "            #sdf_smooth= pickle.load(savefile,encoding='latin1')\n",
    "            sdf_pepper= pickle.load(savefile,encoding='latin1')"
   ]
  },
  {
   "cell_type": "markdown",
   "metadata": {},
   "source": [
    "### compute minimum separation at each timpact for every GC"
   ]
  },
  {
   "cell_type": "code",
   "execution_count": null,
   "metadata": {},
   "outputs": [],
   "source": [
    "timpact=sdf_pepper._timpact\n",
    "\n",
    "#for each MC store min sep and apar of closest approach at each timpact\n",
    "min_sep_matrix=np.empty([len(orbits),len(timpact)])\n",
    "apar_matrix=np.empty([len(orbits),len(timpact)])\n",
    "\n",
    "\n",
    "for kk in range(len(timpact)):\n",
    "    \n",
    "    apar=[]\n",
    "    x=[]\n",
    "    y=[]\n",
    "    z=[]\n",
    "    vx=[]\n",
    "    vy=[]\n",
    "    vz=[]\n",
    "    \n",
    "    a= sdf_pepper._sgapdfs_coordtransform[timpact[kk]]._kick_interpolatedObsTrackXY\n",
    "    apar_all=sdf_pepper._sgapdfs_coordtransform[timpact[kk]]._kick_interpolatedThetasTrack\n",
    "      \n",
    "            \n",
    "    #at each timpact compute apar_max\n",
    "    apar_max=sdf_smooth.length(tdisrupt=sdf_pepper._tdisrupt-timpact[kk])*sdf_pepper._length_factor\n",
    "    \n",
    "    #considering the stream until apar_max, store xyzvxvyvz \n",
    "    for ii in range(len(apar_all)):\n",
    "        if apar_all[ii] <= apar_max :\n",
    "            apar.append(apar_all[ii])\n",
    "            x.append(a[:,0][ii])\n",
    "            y.append(a[:,1][ii])\n",
    "            z.append(a[:,2][ii])\n",
    "            vx.append(a[:,3][ii])\n",
    "            vy.append(a[:,4][ii])\n",
    "            vz.append(a[:,5][ii])\n",
    "            \n",
    "    x_stream=np.array(x)\n",
    "    y_stream=np.array(y)\n",
    "    z_stream=np.array(z)\n",
    "    vx_stream=np.array(vx)\n",
    "    vy_stream=np.array(vy)\n",
    "    vz_stream=np.array(vz)\n",
    "    apar=np.array(apar)\n",
    "    \n",
    "      \n",
    "    #compute min_sep of each MC\n",
    "    for jj in range(len(orbits)) :\n",
    "        x_mc=orbits[jj].x(timpact[kk])\n",
    "        y_mc=orbits[jj].y(timpact[kk])\n",
    "        z_mc=orbits[jj].z(timpact[kk])\n",
    "        \n",
    "        min_sep,apar_min=GMC_GC_util.compute_min_separation(x_mc,y_mc,z_mc,apar,x_stream,y_stream,z_stream)\n",
    "        \n",
    "        min_sep_matrix[jj,kk]=min_sep\n",
    "        apar_matrix[jj,kk]=apar_min\n",
    "           \n"
   ]
  },
  {
   "cell_type": "code",
   "execution_count": null,
   "metadata": {},
   "outputs": [],
   "source": [
    "#from the constructed matrices of min_sep and min_apar, compute the min separation for each GC for all timpact\n",
    "#and the corresponding apar_min, also compute velocity of the GC at that timpact\n",
    "\n",
    "#impactb=np.empty(len(orbits))\n",
    "#impact_angle=np.empty(len(orbits))\n",
    "#vx_mc=np.empty(len(orbits))\n",
    "#vy_mc=np.empty(len(orbits))\n",
    "#vz_mc=np.empty(len(orbits))\n",
    "#timpact_at_min=np.empty(len(orbits))\n",
    "\n",
    "impactb=[]\n",
    "impact_angle=[]\n",
    "vx_mc=[]\n",
    "vy_mc=[]\n",
    "vz_mc=[]\n",
    "timpact_at_min=[]\n",
    "rs_mc=[]\n",
    "M_mc=[]\n",
    "\n",
    "\n",
    "c=0\n",
    "for ii in range(len(orbits)):\n",
    "    \n",
    "    bmax=0.5/ro  #use a fixed distance of 500 pc\n",
    "    \n",
    "    if min(min_sep_matrix[ii]) <= bmax :\n",
    "        c+=1\n",
    "        \n",
    "        min_timpact_ind=np.argmin(min_sep_matrix[ii])\n",
    "        print (ii)\n",
    "        impactb.append(min_sep_matrix[ii,min_timpact_ind])\n",
    "        impact_angle.append(sdf_pepper._sigMeanSign*apar_matrix[ii,min_timpact_ind]) # _sigMeanSign = -/+ = trail/lead\n",
    "        timpact_at_min.append(timpact[min_timpact_ind])\n",
    "        rs_mc.append(rs[ii]/ro)\n",
    "        M_mc.append(M[ii]/bovy_conversion.mass_in_msol(vo,ro))\n",
    "        #flip velocities\n",
    "        vx_mc.append(-orbits[ii].vx(timpact[min_timpact_ind]))\n",
    "        vy_mc.append(-orbits[ii].vy(timpact[min_timpact_ind]))\n",
    "        vz_mc.append(-orbits[ii].vz(timpact[min_timpact_ind]))\n",
    "\n",
    "#combine vx,vy,vz to v\n",
    "v_mc=np.c_[vx_mc,vy_mc,vz_mc]\n",
    "print (\"There were %i impacts\"%c)"
   ]
  },
  {
   "cell_type": "code",
   "execution_count": null,
   "metadata": {},
   "outputs": [],
   "source": [
    "#for each MC plot min separation at all timpact\n",
    "\n",
    "ind=14\n",
    "\n",
    "aa=min_sep_matrix[ind]\n",
    "\n",
    "print (0.5/ro,aa[aa<0.5/ro]) #print min_sep everytime it closer than 5r_s\n",
    "\n",
    "\n",
    "\n",
    "plt.figure(figsize=(12,6))\n",
    "plt.scatter(timpact,min_sep_matrix[ind])\n",
    "plt.hlines(0.5/ro,-1.,150.,label=r'0.5 kpc')\n",
    "plt.xlabel('timpact (galpy units)')\n",
    "plt.ylabel('min separation')\n",
    "plt.legend(loc='upper right')\n",
    "#plt.savefig('min_separation_MC{}.pdf'.format(ind))\n",
    "plt.show()"
   ]
  },
  {
   "cell_type": "code",
   "execution_count": null,
   "metadata": {},
   "outputs": [],
   "source": [
    "#a) histogram of timpact\n",
    "#b) histogram of M (and maybe compare to the full histogram of M)\n",
    "#c) histogram of impactb\n",
    "#d) histogram of impact angle\n",
    "#e) timpact vs. impact angle\n",
    "\n",
    "#plot histogram of min separation vs timpact\n",
    "\n",
    "dt=timpact[1]-timpact[0]\n",
    "tbin_edges=[timpact[0] - 0.5*(dt) + i*dt for i in range(len(timpact)+1)] \n",
    "\n",
    "print (timpact_at_min)\n",
    "\n",
    "plt.figure(figsize=(17,10))\n",
    "plt.subplot(2,3,1)\n",
    "plt.title('timpact')\n",
    "plt.hist(timpact_at_min,bins=50)\n",
    "\n",
    "plt.subplot(2,3,2)\n",
    "mbins=np.linspace(min(M),max(M),20)\n",
    "\n",
    "plt.title('M')\n",
    "plt.hist(np.array(M_mc)*bovy_conversion.mass_in_msol(vo,ro),bins=mbins,histtype='step',lw=2)\n",
    "plt.hist(M,bins=mbins,histtype='step',lw=2)\n",
    "plt.xscale('log')\n",
    "#plt.legend(loc='upper right')\n",
    "\n",
    "\n",
    "\n",
    "plt.subplot(2,3,3)\n",
    "plt.title('impactb')\n",
    "plt.hist(impactb,bins=30,histtype='step',lw=2)\n",
    "\n",
    "\n",
    "\n",
    "\n",
    "\n",
    "plt.subplot(2,3,4)\n",
    "plt.title('impact angle')\n",
    "plt.hist(impact_angle,bins=30,histtype='step',lw=2)\n",
    "\n",
    "\n",
    "\n",
    "\n",
    "plt.subplot(2,3,5)\n",
    "plt.title('timpact vs impact angle')\n",
    "plt.scatter(timpact_at_min,impact_angle)\n",
    "plt.xlabel('timpact')\n",
    "plt.ylabel('impact angle')\n",
    "\n",
    "#plt.savefig('plots/MC_impact_test_{}timpacts.pdf'.format(len(timpact)))\n",
    "\n",
    "plt.show()\n",
    "\n",
    "\n",
    "\n",
    "\n"
   ]
  },
  {
   "cell_type": "code",
   "execution_count": null,
   "metadata": {},
   "outputs": [],
   "source": [
    "import streampepperdf\n",
    "\n",
    "sdf_pepper.set_impacts(impactb=impactb,subhalovel=v_mc,impact_angle=impact_angle,timpact=timpact_at_min,rs=rs_mc,GM=M_mc)\n",
    "\n"
   ]
  },
  {
   "cell_type": "code",
   "execution_count": null,
   "metadata": {},
   "outputs": [],
   "source": [
    "apar=numpy.arange(0.,1.75,0.01)\n",
    "\n",
    "dens_unp= [sdf_smooth._density_par(a) for a in apar]\n",
    "omega_unp= [sdf_smooth.meanOmega(a,oned=True) for a in apar]\n",
    "densOmega= numpy.array([sdf_pepper._densityAndOmega_par_approx(a) for a in apar]).T"
   ]
  },
  {
   "cell_type": "code",
   "execution_count": null,
   "metadata": {},
   "outputs": [],
   "source": [
    "from scipy import ndimage, signal, interpolate\n",
    "import simulate_streampepper\n",
    "\n",
    "def convert_dens_to_obs(apars,dens,dens_smooth,mO,poly_deg=3):\n",
    "    \"\"\"\n",
    "    NAME:\n",
    "        convert_dens_to_obs\n",
    "    PURPOSE:\n",
    "        Convert track to observed coordinates\n",
    "    INPUT:\n",
    "        apars - parallel angles\n",
    "        dens - density(apars)\n",
    "        dens_smooth - smooth-stream density(apars)\n",
    "        mO= (None) mean parallel frequency (1D) \n",
    "            [needs to be set to get density on same grid as track]\n",
    "        poly_deg= (3) degree of the polynomial to fit for the 'smooth' stream\n",
    "    OUTPUT:\n",
    "        (xi,dens/smooth)\n",
    "    \"\"\"\n",
    "    mT= sdf_pepper.meanTrack(apars,_mO=mO,coord='lb')\n",
    "    mradec= bovy_coords.lb_to_radec(mT[0],mT[1],degree=True)\n",
    "    mxieta= pal5_util.radec_to_pal5xieta(mradec[:,0],mradec[:,1],degree=True)\n",
    "    outll= numpy.arange(0.25,14.35,0.1)\n",
    "    # Interpolate density\n",
    "    ipll= interpolate.InterpolatedUnivariateSpline(mxieta[:,0],apars)\n",
    "    ipdens= interpolate.InterpolatedUnivariateSpline(apars,dens/dens_smooth)\n",
    "    return (outll,ipdens(ipll(outll)))\n",
    "\n",
    "\n",
    "def set_ranges_and_labels_dens():\n",
    "    bovy_plot.bovy_text(r'$\\sqrt{\\delta\\delta}$',top_left=True,size=18.)\n",
    "    xlabel(r'$1/k_{\\xi}\\,(\\mathrm{deg})$',size=18)\n",
    "    ylim(0.0001,10.)\n",
    "    xlim(1,150.)\n",
    "    for axis in [gca().xaxis,gca().yaxis]:\n",
    "        axis.set_major_formatter(FuncFormatter(\n",
    "                lambda y,pos: (r'${{:.{:1d}f}}$'.format(int(numpy.maximum(-numpy.log10(y),0)))).format(y)))\n",
    "    return None\n",
    "\n",
    "def compute_Pk(ll,tdata):\n",
    "    \n",
    "    px,py= signal.csd(tdata,tdata,fs=1./(ll[1]-ll[0]),scaling='spectrum',nperseg=len(ll))\n",
    "    py= py.real\n",
    "    px= 1./px\n",
    "    py= numpy.sqrt(py*(ll[-1]-ll[0]))\n",
    "    #return 180./px/numpy.pi, py, py_err #if apars\n",
    "    \n",
    "    return (px,py)"
   ]
  },
  {
   "cell_type": "code",
   "execution_count": null,
   "metadata": {},
   "outputs": [],
   "source": [
    "#convert to physical coordinates and plot power\n",
    "\n",
    "ll,tdata= convert_dens_to_obs(apar,densOmega[0],dens_unp,densOmega[1],poly_deg=3)\n",
    "\n",
    "plt.figure()\n",
    "plt.plot(ll,tdata)\n",
    "plt.show()\n",
    "\n",
    "px,py=compute_Pk(ll,tdata)\n",
    "\n",
    "bovy_plot.bovy_print(axes_labelsize=18.,xtick_labelsize=14.,ytick_labelsize=14.)\n",
    "figsize(7,8)\n",
    "loglog(px,py,color='k',zorder=1)\n",
    "\n",
    "#legend(loc='lower right',fontsize=16)\n",
    "#set_ranges_and_labels_dens()"
   ]
  },
  {
   "cell_type": "code",
   "execution_count": null,
   "metadata": {},
   "outputs": [],
   "source": [
    "def add_GC():\n",
    "    dat=pd.io.parsers.read_csv(\"globular_clusters/catalogue_Helmi_combined.txt\",sep=\"\\t\",header=0,\n",
    "                           usecols=(1,2,3,4,5,6,7,9),dtype=float,skiprows=[1])\n",
    "    \n",
    "    coord=[]\n",
    "    for ii in range(len(dat)):\n",
    "        coord.append(list(dat[['RA','DEC','D','PMRA','PMDEC','Vlos']].values[ii]))\n",
    "        \n",
    "    rs=np.radians(dat['rmaxdegr'].values)*(dat['D'].values)\n",
    "    M=np.radians(dat['Nmember'].values)\n",
    "    \n",
    "    return (M,rs,coord)"
   ]
  },
  {
   "cell_type": "code",
   "execution_count": null,
   "metadata": {},
   "outputs": [],
   "source": [
    "import GMC_GC_util\n",
    "\n",
    "a,x,y,z,_,_,_=GMC_GC_util.aparxv_stream(sdf_smooth,sdf_pepper)"
   ]
  },
  {
   "cell_type": "code",
   "execution_count": null,
   "metadata": {},
   "outputs": [],
   "source": [
    "timp=sdf_pepper._timpact\n",
    "\n",
    "impactMC_ind,M_mc,rs_mc,v_mc,impactb,impact_angle,tmin=compute_impact_parameters_GC(timp,a,x,y,z,pot=MWPotential2014,nchunks=1,sampling_low=1024,max_imp_kpc=0.5)"
   ]
  },
  {
   "cell_type": "code",
   "execution_count": null,
   "metadata": {},
   "outputs": [],
   "source": [
    "print (impactMC_ind)"
   ]
  },
  {
   "cell_type": "code",
   "execution_count": null,
   "metadata": {},
   "outputs": [],
   "source": [
    "print (np.array(M_mc)*bovy_conversion.mass_in_msol(vo,ro))"
   ]
  },
  {
   "cell_type": "code",
   "execution_count": null,
   "metadata": {},
   "outputs": [],
   "source": [
    "print (M)"
   ]
  },
  {
   "cell_type": "code",
   "execution_count": null,
   "metadata": {},
   "outputs": [],
   "source": []
  }
 ],
 "metadata": {
  "kernelspec": {
   "display_name": "Python 3",
   "language": "python",
   "name": "python3"
  },
  "language_info": {
   "codemirror_mode": {
    "name": "ipython",
    "version": 3
   },
   "file_extension": ".py",
   "mimetype": "text/x-python",
   "name": "python",
   "nbconvert_exporter": "python",
   "pygments_lexer": "ipython3",
   "version": "3.6.6"
  }
 },
 "nbformat": 4,
 "nbformat_minor": 2
}
