{
 "cells": [
  {
   "cell_type": "code",
   "execution_count": null,
   "metadata": {},
   "outputs": [],
   "source": [
    "import numpy as np\n",
    "import pickle\n",
    "from astropy.io import fits\n",
    "import matplotlib.pyplot as plt\n",
    "from galpy.util import bovy_conversion, bovy_coords, save_pickles, bovy_plot\n",
    "from galpy.potential import MWPotential2014, turn_physical_off, vcirc\n",
    "import astropy.units as u\n",
    "%pylab inline\n",
    "from galpy.orbit import Orbit\n",
    "import GMC_util\n",
    "import pal5_util\n",
    "\n",
    "\n",
    "ro=8.\n",
    "#paper on MC used R0=8.5 kpc, using ro=8. as of now.\n",
    "vo=220."
   ]
  },
  {
   "cell_type": "code",
   "execution_count": null,
   "metadata": {},
   "outputs": [],
   "source": [
    "timpact,apar,x_stream,y_stream,z_stream,_,_,_=GMC_util.aparxv_stream_from_pkl(sampling=2048,nchunks=1)"
   ]
  },
  {
   "cell_type": "code",
   "execution_count": null,
   "metadata": {},
   "outputs": [],
   "source": [
    "print (apar)"
   ]
  },
  {
   "cell_type": "code",
   "execution_count": null,
   "metadata": {},
   "outputs": [],
   "source": [
    "impactMC_ind,M_mc,rs_mc,v_mc,impactb,impact_angle,tmin=GMC_util.compute_impact_parameters(timpact,apar,x_stream,y_stream,z_stream,nchunks=1,imp_fac=5.,Mmin=10**6.)"
   ]
  },
  {
   "cell_type": "code",
   "execution_count": null,
   "metadata": {},
   "outputs": [],
   "source": [
    "print (tmin)"
   ]
  },
  {
   "cell_type": "code",
   "execution_count": null,
   "metadata": {},
   "outputs": [],
   "source": [
    "#load the lower timpact pkl file\n",
    "with open('pkl_files/pal5pepper_128sampling_MW2014.pkl','rb') as savefile:\n",
    "            sdf_pepper= pickle.load(savefile,encoding='latin1')\n",
    "        \n",
    "sdf_smooth= pal5_util.setup_pal5model()\n",
    "\n",
    "sdf_pepper.set_impacts(impactb=impactb,subhalovel=v_mc,impact_angle=impact_angle,timpact=tmin,rs=rs_mc,GM=M_mc)\n",
    "\n",
    "\n"
   ]
  },
  {
   "cell_type": "code",
   "execution_count": null,
   "metadata": {},
   "outputs": [],
   "source": [
    "apar=np.arange(0.,1.75,0.01)\n",
    "\n",
    "densOmega= numpy.array([sdf_pepper._densityAndOmega_par_approx(a) for a in apar]).T\n",
    "\n",
    "dens=densOmega[0]\n",
    "Omega=densOmega[1]\n",
    "\n",
    "dens_unp= [sdf_smooth._density_par(a) for a in apar]"
   ]
  },
  {
   "cell_type": "code",
   "execution_count": null,
   "metadata": {},
   "outputs": [],
   "source": [
    "plt.figure()\n",
    "plt.plot(apar,dens/dens_unp)\n",
    "\n",
    "plt.xlabel(r'$\\theta_{\\parallel}$')\n",
    "plt.ylabel(r'density/smooth density')\n",
    "#plt.savefig('plots/MC_106-107Msun_den_MCs_{}timpacts.pdf'.format(len(timpact)))\n",
    "plt.show()"
   ]
  },
  {
   "cell_type": "code",
   "execution_count": null,
   "metadata": {},
   "outputs": [],
   "source": [
    "timp=sdf_pepper._timpact\n",
    "\n",
    "impactMC_ind,M_mc,rs_mc,v_mc,impactb,impact_angle,tmin_impact=compute_impact_parameters_one_pkl(timp,apar,x,y,z)"
   ]
  },
  {
   "cell_type": "code",
   "execution_count": null,
   "metadata": {},
   "outputs": [],
   "source": [
    "sdf_pepper.set_impacts(impactb=impactb,subhalovel=v_mc,impact_angle=impact_angle,timpact=tmin_impact,rs=rs_mc,GM=M_mc)"
   ]
  },
  {
   "cell_type": "code",
   "execution_count": null,
   "metadata": {},
   "outputs": [],
   "source": [
    "#load the lower timpact pkl file\n",
    "with open('pkl_files/pal5pepper_128sampling_MW2014.pkl','rb') as savefile:\n",
    "            sdf_pepper_128= pickle.load(savefile,encoding='latin1')\n",
    "\n",
    "sdf_smooth= pal5_util.setup_pal5model()        \n",
    "#set impacts\n",
    "sdf_pepper_128.set_impacts(impactb=impactb,subhalovel=v_mc,impact_angle=impact_angle,timpact=tmin_low,rs=rs_mc,GM=M_mc)"
   ]
  },
  {
   "cell_type": "code",
   "execution_count": null,
   "metadata": {},
   "outputs": [],
   "source": [
    "apar=np.arange(0.,1.75,0.01)\n",
    "\n",
    "\n",
    "densOmega= numpy.array([sdf_pepper_128._densityAndOmega_par_approx(a) for a in apar]).T\n",
    "\n",
    "dens=densOmega[0]\n",
    "Omega=densOmega[1]\n",
    "\n",
    "dens_unp= [sdf_smooth._density_par(a) for a in apar]"
   ]
  },
  {
   "cell_type": "code",
   "execution_count": null,
   "metadata": {},
   "outputs": [],
   "source": [
    "import pal5_util\n",
    "from scipy import ndimage, signal, interpolate\n",
    "\n",
    "#with open('Pal5_64impact_MC.pkl','rb') as savefile:\n",
    "#            sdf_smooth=pickle.load(savefile,encoding='latin1')\n",
    "#            sdf_pepper= pickle.load(savefile,encoding='latin1')\n",
    "\n",
    "\n",
    "def convert_dens_to_obs(apars,dens,dens_smooth,mO,sdf_pepper,poly_deg=3):\n",
    "    \"\"\"\n",
    "    NAME:\n",
    "        convert_dens_to_obs\n",
    "    PURPOSE:\n",
    "        Convert track to observed coordinates\n",
    "    INPUT:\n",
    "        apars - parallel angles\n",
    "        dens - density(apars)\n",
    "        dens_smooth - smooth-stream density(apars)\n",
    "        mO= (None) mean parallel frequency (1D) \n",
    "            [needs to be set to get density on same grid as track]\n",
    "        poly_deg= (3) degree of the polynomial to fit for the 'smooth' stream\n",
    "    OUTPUT:\n",
    "        (xi,dens/smooth)\n",
    "    \"\"\"\n",
    "    mT= sdf_pepper.meanTrack(apars,_mO=mO,coord='lb')\n",
    "    mradec= bovy_coords.lb_to_radec(mT[0],mT[1],degree=True)\n",
    "    mxieta= pal5_util.radec_to_pal5xieta(mradec[:,0],mradec[:,1],degree=True)\n",
    "    outll= numpy.arange(0.25,14.35,0.1)\n",
    "    # Interpolate density\n",
    "    ipll= interpolate.InterpolatedUnivariateSpline(mxieta[:,0],apars)\n",
    "    ipdens= interpolate.InterpolatedUnivariateSpline(apars,dens/dens_smooth)\n",
    "    return (outll,ipdens(ipll(outll)))\n",
    "\n",
    "\n",
    "def set_ranges_and_labels_dens():\n",
    "    bovy_plot.bovy_text(r'$\\sqrt{\\delta\\delta}$',top_left=True,size=18.)\n",
    "    xlabel(r'$1/k_{\\xi}\\,(\\mathrm{deg})$',size=18)\n",
    "    ylim(0.0001,10.)\n",
    "    xlim(1,150.)\n",
    "    for axis in [gca().xaxis,gca().yaxis]:\n",
    "        axis.set_major_formatter(FuncFormatter(\n",
    "                lambda y,pos: (r'${{:.{:1d}f}}$'.format(int(numpy.maximum(-numpy.log10(y),0)))).format(y)))\n",
    "    return None"
   ]
  },
  {
   "cell_type": "code",
   "execution_count": null,
   "metadata": {},
   "outputs": [],
   "source": [
    "dat256=np.loadtxt('dens_MC_impact_Pal5_256timpacts.dat')\n",
    "\n",
    "ll,tdata= convert_dens_to_obs(apar,dens,dens_unp,Omega,sdf_pepper=sdf_pepper_128,poly_deg=3)\n",
    "\n",
    "plt.figure()\n",
    "plt.plot(ll,tdata,label='256 on 128')\n",
    "plt.plot(dat256[:,0],dat256[:,1],label='full 256')\n",
    "\n",
    "plt.xlabel(r'$\\theta_{\\parallel}$')\n",
    "plt.ylabel(r'density/smooth density')\n",
    "plt.legend(loc='lower right')\n",
    "plt.savefig('plots/MC_106-107Msun_den_MCs_256timpactsfullvs_on128.pdf'.format(len(timpact)))\n",
    "plt.show()"
   ]
  },
  {
   "cell_type": "markdown",
   "metadata": {},
   "source": [
    "# Using impactb,velocity and impact angle of the low resolution, test to see if this produces the same results as the full sdf_pepper\n"
   ]
  },
  {
   "cell_type": "code",
   "execution_count": null,
   "metadata": {},
   "outputs": [],
   "source": [
    "#from the constructed matrices of min_sep and min_apar, compute the min separation for each MC for all timpact\n",
    "#and the corresponding apar_min, also compute velocity of the MC at that timpact\n",
    "\n",
    "\n",
    "#\n",
    "#use timpact_at_min_low to compute (x,v) of MC'\n",
    "\n",
    "#impactMC_ind,M_mc,rs_mc,v_mc,impactb,impact_angle,tmin_low\n",
    "\n",
    "\n",
    "#load the GMCs\n",
    "M,rs,coord=GMC_util.add_MCs()\n",
    "\n",
    "#integrate their orbits 5 Gyr back,\n",
    "t_age= np.linspace(0.,5.,1001)/bovy_conversion.time_in_Gyr(vo,ro)\n",
    "\n",
    "orbits=[]\n",
    "\n",
    "N=len(M)\n",
    "\n",
    "for ii in range(N):\n",
    "\n",
    "    orbits.append(Orbit(coord[ii]).flip()) # flip flips the velocities for backwards integration\n",
    "    orbits[ii].integrate(t_age,MWPotential2014)\n",
    "\n",
    "impactb128=[]\n",
    "impact_angle128=[]\n",
    "vx_mc128=[]\n",
    "vy_mc128=[]\n",
    "vz_mc128=[]\n",
    "\n",
    "\n",
    "sdf_smooth= pal5_util.setup_pal5model()\n",
    "with open('pkl_files/pal5pepper_128sampling_MW2014.pkl','rb') as savefile:\n",
    "        sdf_pepper_128= pickle.load(savefile,encoding='latin1')\n",
    "\n",
    "timpact128=sdf_pepper_128._timpact\n",
    "\n",
    "#print (timpact128)\n",
    "\n",
    "ap_128,x_128,y_128,z_128,_,_,_= GMC_util.aparxv_stream(sdf_smooth,sdf_pepper_128)\n",
    "\n",
    "\n",
    "\n",
    "#compute min_sep of each MC\n",
    "for kk in range(len(tmin_low)):\n",
    "    \n",
    "    #find the index in timpact128 at which min sep was reached\n",
    "    t_ind=list(timpact128).index(tmin_low[kk])\n",
    "    t128=timpact128[t_ind]\n",
    "    \n",
    "    print (t128,tmin_low[kk])\n",
    "    print (impactMC_ind[kk])\n",
    "    x_mc=orbits[impactMC_ind[kk]].x(t128)\n",
    "    y_mc=orbits[impactMC_ind[kk]].y(t128)\n",
    "    z_mc=orbits[impactMC_ind[kk]].z(t128)\n",
    "        \n",
    "    min_sep_128,apar_min_128=GMC_util.compute_min_separation(x_mc,y_mc,z_mc,ap_128[t_ind],x_128[t_ind],y_128[t_ind],z_128[t_ind])\n",
    "        \n",
    "    impactb128.append(min_sep_128)\n",
    "    impact_angle128.append(apar_min_128)\n",
    "    #flip velocities\n",
    "    vx_mc128.append(-orbits[impactMC_ind[kk]].vx(t128))\n",
    "    vy_mc128.append(-orbits[impactMC_ind[kk]].vy(t128))\n",
    "    vz_mc128.append(-orbits[impactMC_ind[kk]].vz(t128))\n",
    "\n",
    "v_mc128=np.c_[vx_mc128,vy_mc128,vz_mc128]\n",
    "        \n",
    "\n",
    "\n"
   ]
  },
  {
   "cell_type": "code",
   "execution_count": null,
   "metadata": {},
   "outputs": [],
   "source": [
    "print (v_mc-v_mc128)\n",
    "\n",
    "print (np.array(impact_angle)-np.array(impact_angle128))\n",
    "\n"
   ]
  },
  {
   "cell_type": "code",
   "execution_count": null,
   "metadata": {},
   "outputs": [],
   "source": [
    "sdf_pepper_128.set_impacts(impactb=impactb128,subhalovel=v_mc128,impact_angle=impact_angle128,timpact=tmin_low,rs=rs_mc,GM=M_mc)\n",
    "\n",
    "#compute dens in smaller intervals separately and then combine\n",
    "\n",
    "apar=np.arange(0.,1.75,0.01)\n",
    "\n",
    "\n",
    "densOmega= numpy.array([sdf_pepper_128._densityAndOmega_par_approx(a) for a in apar]).T\n",
    "\n",
    "dens=densOmega[0]\n",
    "Omega=densOmega[1]\n",
    "\n",
    "dens_unp= [sdf_smooth._density_par(a) for a in apar]"
   ]
  },
  {
   "cell_type": "code",
   "execution_count": null,
   "metadata": {},
   "outputs": [],
   "source": [
    "plt.figure()\n",
    "plt.plot(apar,dens/dens_unp)\n",
    "\n",
    "plt.xlabel(r'$\\theta_{\\parallel}$')\n",
    "plt.ylabel(r'density/smooth density')\n",
    "#plt.savefig('plots/MC_106-107Msun_den_MCs_{}timpacts.pdf'.format(len(timpact)))\n",
    "plt.show()"
   ]
  },
  {
   "cell_type": "code",
   "execution_count": null,
   "metadata": {},
   "outputs": [],
   "source": [
    "#write xi dens/dens_smooth out\n",
    "\n",
    "ll,tdata= convert_dens_to_obs(apar,dens,dens_unp,Omega,poly_deg=3)\n",
    "\n",
    "fo=open('dens_MC_impact_Pal5_256timpacts_from128sdf_pepper.dat','w')\n",
    "fo.write('#xi   dens/dens_smooth' + '\\n')\n",
    "\n",
    "for ii in range(len(ll)):\n",
    "    fo.write(str(ll[ii]) + '   ' + str(tdata[ii]) + '\\n')\n",
    "    \n",
    "fo.close()"
   ]
  },
  {
   "cell_type": "code",
   "execution_count": null,
   "metadata": {},
   "outputs": [],
   "source": [
    "def compute_Pk(filename=''):\n",
    "    dat=np.loadtxt(filename)\n",
    "    ll=dat[:,0]\n",
    "    tdata=dat[:,1]\n",
    "    px,py= signal.csd(tdata,tdata,fs=1./(ll[1]-ll[0]),scaling='spectrum',nperseg=len(ll))\n",
    "    py= py.real\n",
    "    px= 1./px\n",
    "    py= numpy.sqrt(py*(ll[-1]-ll[0]))\n",
    "    #return 180./px/numpy.pi, py, py_err #if apars\n",
    "    \n",
    "    return (px,py)\n",
    "\n",
    "\n",
    "f2='dens_MC_impact_Pal5_256timpacts.dat'\n",
    "f3='dens_MC_impact_Pal5_256timpacts_from128sdf_pepper.dat'\n",
    "\n",
    "\n",
    "\n",
    "px2,py2=compute_Pk(filename=f2)\n",
    "px3,py3=compute_Pk(filename=f3)\n",
    "   \n",
    "\n",
    "\n",
    "bovy_plot.bovy_print(axes_labelsize=18.,xtick_labelsize=14.,ytick_labelsize=14.)\n",
    "figsize(7,8)\n",
    "\n",
    "\n",
    "loglog(px2,py2,color='r',zorder=1,label=r'$10^{6} - 10^{7} \\ \\rm{M}_{\\odot}$ 256 timpact')\n",
    "loglog(px3,py3,color='b',zorder=1,label=r'$10^{6} - 10^{7} \\ \\rm{M}_{\\odot}$ 256 timpact on 128sdfpepper')\n",
    "\n",
    "\n",
    "legend(loc='lower right',fontsize=16)\n",
    "set_ranges_and_labels_dens()\n",
    "savefig('power_MC_Pal5_timpact256_compare_256from128sdf_pepper.pdf')"
   ]
  }
 ],
 "metadata": {
  "kernelspec": {
   "display_name": "Python 3",
   "language": "python",
   "name": "python3"
  },
  "language_info": {
   "codemirror_mode": {
    "name": "ipython",
    "version": 3
   },
   "file_extension": ".py",
   "mimetype": "text/x-python",
   "name": "python",
   "nbconvert_exporter": "python",
   "pygments_lexer": "ipython3",
   "version": "3.6.5"
  }
 },
 "nbformat": 4,
 "nbformat_minor": 2
}
