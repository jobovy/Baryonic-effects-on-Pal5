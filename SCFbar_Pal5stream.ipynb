{
 "cells": [
  {
   "cell_type": "code",
   "execution_count": null,
   "metadata": {
    "collapsed": true
   },
   "outputs": [],
   "source": [
    "# import os, os.path\n",
    "import glob\n",
    "import pickle\n",
    "import numpy as np\n",
    "from numpy.polynomial import Polynomial\n",
    "from scipy import ndimage, signal, interpolate\n",
    "#import matplotlib\n",
    "#matplotlib.use('PDF')\n",
    "from galpy.orbit import Orbit\n",
    "from galpy.potential import MWPotential2014\n",
    "from galpy.util import bovy_conversion, save_pickles, bovy_coords, bovy_plot\n",
    "import pal5_util\n",
    "from gd1_util import R0, V0\n",
    "import custom_stripping_df\n",
    "import seaborn as sns\n",
    "import astropy.units as u\n",
    "from galpy import potential\n",
    "%pylab inline\n",
    "from matplotlib import cm, pyplot\n",
    "from __future__ import print_function\n",
    "\n",
    "#from matplotlib.ticker import FuncFormatter, NullFormatter\n",
    "\n",
    "def galcencyl_to_lbd(R,phi,Z,degree=True):\n",
    "    xyz=bovy_coords.galcencyl_to_XYZ(R,phi,Z)\n",
    "    lbd=bovy_coords.XYZ_to_lbd(xyz[0],xyz[1],xyz[2],degree=degree)\n",
    "    return lbd[0], lbd[1], lbd[2]"
   ]
  }
 ],
 "metadata": {
  "kernelspec": {
   "display_name": "Python 2",
   "language": "python",
   "name": "python2"
  },
  "language_info": {
   "codemirror_mode": {
    "name": "ipython",
    "version": 2
   },
   "file_extension": ".py",
   "mimetype": "text/x-python",
   "name": "python",
   "nbconvert_exporter": "python",
   "pygments_lexer": "ipython2",
   "version": "2.7.13"
  }
 },
 "nbformat": 4,
 "nbformat_minor": 2
}
