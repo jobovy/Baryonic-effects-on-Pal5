{
 "cells": [
  {
   "cell_type": "code",
   "execution_count": 1,
   "metadata": {
    "collapsed": false,
    "deletable": true,
    "editable": true
   },
   "outputs": [
    {
     "name": "stdout",
     "output_type": "stream",
     "text": [
      "galpyWarning: A major change in versions > 1.1 is that all galpy.potential functions and methods take the potential as the first argument; previously methods such as evaluatePotentials, evaluateDensities, etc. would be called with (R,z,Pot), now they are called as (Pot,R,z) for greater consistency across the codebase\n",
      "Populating the interactive namespace from numpy and matplotlib\n"
     ]
    }
   ],
   "source": [
    "import os, os.path\n",
    "import glob\n",
    "import pickle\n",
    "import numpy\n",
    "from numpy.polynomial import Polynomial\n",
    "from scipy import ndimage, signal, interpolate\n",
    "#import matplotlib\n",
    "#matplotlib.use('PDF')\n",
    "from galpy.orbit import Orbit\n",
    "from galpy.potential import MWPotential2014\n",
    "from galpy.util import bovy_conversion, save_pickles, bovy_coords, bovy_plot\n",
    "import pal5_util\n",
    "from gd1_util import R0, V0\n",
    "import custom_stripping_df\n",
    "import seaborn as sns\n",
    "import astropy.units as u\n",
    "from galpy import potential\n",
    "%pylab inline\n",
    "from matplotlib import cm, pyplot"
   ]
  },
  {
   "cell_type": "code",
   "execution_count": 2,
   "metadata": {
    "collapsed": false,
    "deletable": true,
    "editable": true
   },
   "outputs": [],
   "source": [
    "dir1 = '/home/nil/Dropbox/streamgap-pepper/sampled_Dehnenbar/'\n",
    "allfilenames= glob.glob(dir1 + '*.dat')\n",
    "\n",
    "xiall=[]\n",
    "\n",
    "for ii in range(len(allfilenames)):\n",
    "        xiall.append(numpy.loadtxt(allfilenames[ii])[:,0])\n",
    "        \n",
    "xialll = [item for sublist in xiall for item in sublist]\n",
    "\n"
   ]
  },
  {
   "cell_type": "code",
   "execution_count": 3,
   "metadata": {
    "collapsed": false,
    "deletable": true,
    "editable": true
   },
   "outputs": [
    {
     "name": "stdout",
     "output_type": "stream",
     "text": [
      "994000\n"
     ]
    }
   ],
   "source": [
    "print len(xialll)"
   ]
  },
  {
   "cell_type": "code",
   "execution_count": 9,
   "metadata": {
    "collapsed": false,
    "deletable": true,
    "editable": true
   },
   "outputs": [
    {
     "name": "stdout",
     "output_type": "stream",
     "text": [
      "141.0\n"
     ]
    },
    {
     "data": {
      "text/plain": [
       "<matplotlib.text.Text at 0x7f87486f3a10>"
      ]
     },
     "execution_count": 9,
     "metadata": {},
     "output_type": "execute_result"
    },
    {
     "data": {
      "image/png": "[encoded data removed]",
      "text/plain": [
       "<matplotlib.figure.Figure at 0x7f8748ceded0>"
      ]
     },
     "metadata": {},
     "output_type": "display_data"
    }
   ],
   "source": [
    "N=len(xialll)\n",
    "minxi = 0.25\n",
    "maxxi= 14.35\n",
    "bw= 0.1\n",
    "\n",
    "nbins= (maxxi - minxi)/bw\n",
    "print nbins\n",
    "\n",
    "xibin_edge=[(minxi-0.5*bw) + i*bw for i in range(int(nbins)+2)]\n",
    "\n",
    "#print xibin_edge\n",
    "\n",
    "midxi=[0.5*(xibin_edge[i] + xibin_edge[i+1]) for i in range(int(nbins)+1)]\n",
    "#print len(midxi)\n",
    "\n",
    "nden=np.histogram(xialll,xibin_edge,density=True)[0]\n",
    "Ndn=np.histogram(xialll,xibin_edge)[0]\n",
    "\n",
    "shot_noise=numpy.sqrt(Ndn)\n",
    "\n",
    "err=shot_noise/(N*bw)\n",
    "\n",
    "\n",
    "bovy_plot.bovy_print(axes_labelsize=18.,xtick_labelsize=14.,ytick_labelsize=14.)\n",
    "figsize(12,10.)\n",
    "xrange=[0.,14.5]\n",
    "#hist(xi,xibin_edge,normed=True)\n",
    "plot(midxi,nden,ls='steps-mid')\n",
    "errorbar(midxi,nden,err,marker='None',ls='None')\n",
    "xlabel(r'$\\xi$ (deg)')\n",
    "ylabel('dens contrast')"
   ]
  },
  {
   "cell_type": "code",
   "execution_count": 10,
   "metadata": {
    "collapsed": true
   },
   "outputs": [],
   "source": [
    "#write the mean density\n",
    "\n",
    "fo=open(dir1 + 'density_994000samples_Dehnenbar.dat','w')\n",
    "fo.write(\"#xi    den_contrast    shot_noise\" + '\\n')\n",
    "\n",
    "for j in range(len(nden)):\n",
    "    fo.write(str(midxi[j]) + \"   \" + str(nden[j]) + \"   \" + str(err[j]) + \"\\n\")\n",
    "    \n",
    "fo.close()"
   ]
  },
  {
   "cell_type": "code",
   "execution_count": 20,
   "metadata": {
    "collapsed": true
   },
   "outputs": [],
   "source": [
    "def compute_Pk(filename, scaling = 'spectrum'):\n",
    "    data= numpy.loadtxt(filename)\n",
    "    p1=data[:,0]\n",
    "    tdata=data[:,1]\n",
    "    data_err=data[:,2]\n",
    "    \n",
    "    px,py= signal.csd(tdata,tdata,fs=1./(p1[1]-p1[0]),scaling=scaling,nperseg=len(p1))\n",
    "    py= py.real\n",
    "    px= 1./px\n",
    "    py= numpy.sqrt(py*(p1[-1]-p1[0]))\n",
    "    \n",
    "            \n",
    "    # Perform simulations of the noise to determine the power in the noise\n",
    "    nerrsim= 10000\n",
    "    ppy_err= numpy.empty((nerrsim,len(px)))\n",
    "    for ii in range(nerrsim):\n",
    "        tmock= data_err*numpy.random.normal(size=len(p1))\n",
    "        ppy_err[ii]= signal.csd(tmock,tmock,\n",
    "                                fs=1./(p1[1]-p1[0]),scaling=scaling,\n",
    "                                nperseg=len(p1))[1].real\n",
    "    py_err= numpy.sqrt(numpy.median(ppy_err,axis=0)*(p1[-1]-p1[0]))\n",
    "    \n",
    "    #return 180./px/numpy.pi, py, py_err #if apars\n",
    "    return px, py, py_err\n",
    "\n",
    "\n",
    "\n",
    "\n",
    "def set_ranges_and_labels_dens():\n",
    "    bovy_plot.bovy_text(r'$\\sqrt{\\delta\\delta}$',top_left=True,size=18.)\n",
    "    xlabel(r'$1/k_{\\xi}\\,(\\mathrm{deg})$',size=18)\n",
    "    ylim(0.001,10.)\n",
    "    xlim(1.,150.)\n",
    "    for axis in [gca().xaxis,gca().yaxis]:\n",
    "        axis.set_major_formatter(FuncFormatter(\n",
    "                lambda y,pos: (r'${{:.{:1d}f}}$'.format(int(numpy.maximum(-numpy.log10(y),0)))).format(y)))\n",
    "    return None"
   ]
  },
  {
   "cell_type": "code",
   "execution_count": 21,
   "metadata": {
    "collapsed": false
   },
   "outputs": [
    {
     "name": "stdout",
     "output_type": "stream",
     "text": [
      "/home/nil/.local/share/canopy/edm/envs/User/lib/python2.7/site-packages/ipykernel/__main__.py:9: RuntimeWarning: divide by zero encountered in divide\n",
      "\n"
     ]
    },
    {
     "data": {
      "image/png": "[encoded data removed]",
      "text/plain": [
       "<matplotlib.figure.Figure at 0x7f87486e4b10>"
      ]
     },
     "metadata": {},
     "output_type": "display_data"
    }
   ],
   "source": [
    "filename=dir1 + 'density_994000samples_Dehnenbar.dat'\n",
    "px1,py1,pyerr1=compute_Pk(filename, scaling = 'spectrum')\n",
    "\n",
    "bovy_plot.bovy_print(axes_labelsize=18.,xtick_labelsize=14.,ytick_labelsize=14.)\n",
    "figsize(7,7)\n",
    "\n",
    "\n",
    "loglog(px1,py1,color='k',zorder=1,)\n",
    "loglog(px1,pyerr1,lw=2.,color='r',zorder=1,ls='--')\n",
    "set_ranges_and_labels_dens()\n",
    "\n"
   ]
  },
  {
   "cell_type": "code",
   "execution_count": null,
   "metadata": {
    "collapsed": true
   },
   "outputs": [],
   "source": []
  }
 ],
 "metadata": {
  "kernelspec": {
   "display_name": "Python 2",
   "language": "python",
   "name": "python2"
  },
  "language_info": {
   "codemirror_mode": {
    "name": "ipython",
    "version": 2
   },
   "file_extension": ".py",
   "mimetype": "text/x-python",
   "name": "python",
   "nbconvert_exporter": "python",
   "pygments_lexer": "ipython2",
   "version": "2.7.13"
  }
 },
 "nbformat": 4,
 "nbformat_minor": 2
}
