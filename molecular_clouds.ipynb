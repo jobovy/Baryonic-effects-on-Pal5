{
 "cells": [
  {
   "cell_type": "code",
   "execution_count": 1,
   "metadata": {},
   "outputs": [
    {
     "name": "stdout",
     "output_type": "stream",
     "text": [
      "/home/nil/anaconda3/lib/python3.6/site-packages/h5py/__init__.py:36: FutureWarning: Conversion of the second argument of issubdtype from `float` to `np.floating` is deprecated. In future, it will be treated as `np.float64 == np.dtype(float).type`.\n",
      "  from ._conv import register_converters as _register_converters\n",
      "\n",
      "Populating the interactive namespace from numpy and matplotlib\n"
     ]
    }
   ],
   "source": [
    "import numpy as np\n",
    "import pickle\n",
    "from astropy.io import fits\n",
    "import matplotlib.pyplot as plt\n",
    "from galpy.util import bovy_conversion, bovy_coords, save_pickles, bovy_plot\n",
    "from galpy.potential import MWPotential2014, turn_physical_off, vcirc\n",
    "import astropy.units as u\n",
    "%pylab inline\n",
    "from galpy.orbit import Orbit\n",
    "\n",
    "\n",
    "\n",
    "ro=8.\n",
    "#paper on MC used R0=8.5 kpc, using ro=8. as of now.\n",
    "vo=220."
   ]
  },
  {
   "cell_type": "code",
   "execution_count": 22,
   "metadata": {},
   "outputs": [
    {
     "name": "stdout",
     "output_type": "stream",
     "text": [
      "ColDefs(\n",
      "    name = 'Cloud'; format = 'I4'; disp = 'I4'; start = 1\n",
      "    name = 'Ncomp'; format = 'I3'; disp = 'I3'; start = 6\n",
      "    name = 'Npix'; format = 'I3'; disp = 'I3'; start = 10\n",
      "    name = 'Area'; format = 'E12.6'; unit = 'deg2'; disp = 'E12.6'; start = 14\n",
      "    name = 'GLON'; format = 'E13.6'; unit = 'deg'; disp = 'E13.6'; start = 27\n",
      "    name = 'Sigb'; format = 'E12.6'; unit = 'deg'; disp = 'E12.6'; start = 41\n",
      "    name = 'GLAT'; format = 'E13.6'; unit = 'deg'; disp = 'E13.6'; start = 54\n",
      "    name = 'Sigl'; format = 'E12.6'; unit = 'deg'; disp = 'E12.6'; start = 68\n",
      "    name = 'theta'; format = 'E13.6'; unit = 'deg'; disp = 'E13.6'; start = 81\n",
      "    name = 'WCO'; format = 'E12.6'; unit = 'K.km/s'; disp = 'E12.6'; start = 95\n",
      "    name = 'NH2'; format = 'E12.6'; unit = 'cm-2'; disp = 'E12.6'; start = 108\n",
      "    name = 'Sigma'; format = 'E12.6'; unit = 'Msun/pc2'; disp = 'E12.6'; start = 121\n",
      "    name = 'Vcent'; format = 'E13.6'; unit = 'km/s'; disp = 'E13.6'; start = 134\n",
      "    name = 'SigV'; format = 'E12.6'; unit = 'km/s'; disp = 'E12.6'; start = 148\n",
      "    name = 'Rmax'; format = 'E12.6'; unit = 'deg'; disp = 'E12.6'; start = 161\n",
      "    name = 'Rmin'; format = 'E12.6'; unit = 'deg'; disp = 'E12.6'; start = 174\n",
      "    name = 'Rang'; format = 'E12.6'; unit = 'deg'; disp = 'E12.6'; start = 187\n",
      "    name = 'Rgal'; format = 'E12.6'; unit = 'kpc'; disp = 'E12.6'; start = 200\n",
      "    name = 'INF'; format = 'I1'; disp = 'I1'; start = 213\n",
      "    name = 'Dnear'; format = 'E12.6'; unit = 'kpc'; disp = 'E12.6'; start = 215\n",
      "    name = 'Dfar'; format = 'E12.6'; unit = 'kpc'; disp = 'E12.6'; start = 228\n",
      "    name = 'znear'; format = 'E13.6'; unit = 'kpc'; disp = 'E13.6'; start = 241\n",
      "    name = 'zfar'; format = 'E13.6'; unit = 'kpc'; disp = 'E13.6'; start = 255\n",
      "    name = 'Snear'; format = 'E12.6'; unit = 'pc2'; disp = 'E12.6'; start = 269\n",
      "    name = 'Sfar'; format = 'E12.6'; unit = 'pc2'; disp = 'E12.6'; start = 282\n",
      "    name = 'Rnear'; format = 'E12.6'; unit = 'pc'; disp = 'E12.6'; start = 295\n",
      "    name = 'Rfar'; format = 'E12.6'; unit = 'pc'; disp = 'E12.6'; start = 308\n",
      "    name = 'Mnear'; format = 'E12.6'; unit = 'Msun'; disp = 'E12.6'; start = 321\n",
      "    name = 'Mfar'; format = 'E12.6'; unit = 'Msun'; disp = 'E12.6'; start = 334\n",
      ")\n"
     ]
    }
   ],
   "source": [
    "hdulist=fits.open('molecular_clouds/J_ApJ_834_57_table1.dat.gz.fits')\n",
    "print (hdulist[1].columns)\n",
    "aa=hdulist[1].data"
   ]
  },
  {
   "cell_type": "markdown",
   "metadata": {},
   "source": [
    "#To setup the orbits of the MCs, take (l,b,d) --> galactocentric rectangular coordinates\n",
    "\n",
    "[R,vR,vT(,z,vz,phi)]"
   ]
  },
  {
   "cell_type": "code",
   "execution_count": 23,
   "metadata": {},
   "outputs": [],
   "source": [
    "l=aa['GLON']\n",
    "b=aa['GLAT']\n",
    "#Near or far distance flag (0=near; 1=far) \n",
    "flag=aa['INF']\n",
    "Dnear=aa['Dnear']\n",
    "Dfar=aa['Dfar']\n",
    "znear=aa['znear']\n",
    "zfar=aa['zfar']\n",
    "R_sph_gal=aa['Rgal']\n",
    "Rnear=aa['Rnear']\n",
    "Rfar=aa['Rfar']\n",
    "Mnear=aa['Mnear']\n",
    "Mfar=aa['Mfar']"
   ]
  },
  {
   "cell_type": "code",
   "execution_count": 24,
   "metadata": {},
   "outputs": [],
   "source": [
    "def lbd_to_galcencyl(l,b,d,degree=True):\n",
    "    xyz=bovy_coords.lbd_to_XYZ(l,b,d,degree=degree)\n",
    "    Rphiz=bovy_coords.XYZ_to_galcencyl(xyz[:,0],xyz[:,1],xyz[:,2],Xsun=1.,Zsun=0.)\n",
    "    \n",
    "    return (Rphiz[:,0],Rphiz[:,1],Rphiz[:,2])\n",
    "\n",
    "D_all=np.empty(len(l))\n",
    "zfile=np.empty(len(l))\n",
    "rs_all=np.empty(len(l))\n",
    "M_all=np.empty(len(l))\n",
    "\n",
    "\n",
    "for ii in range(len(l)):\n",
    "    if flag[ii] == 0 :\n",
    "        D_all[ii]=Dnear[ii]\n",
    "        zfile[ii]=znear[ii]\n",
    "        rs_all[ii]=Rnear[ii]*0.001  #convert to kpc\n",
    "        M_all[ii]=Mnear[ii]\n",
    "        \n",
    "        \n",
    "    else :\n",
    "        D_all[ii]=Dfar[ii]\n",
    "        zfile[ii]=zfar[ii]\n",
    "        rs_all[ii]=Rfar[ii]*0.001 #convert to kpc\n",
    "        M_all[ii]=Mfar[ii]\n",
    "        \n",
    "        \n",
    "\n",
    "\n",
    "R_all,phi_all,z_all= lbd_to_galcencyl(l,b,D_all)\n",
    "\n",
    "R_all/=ro\n",
    "z_all/=ro\n",
    "\n"
   ]
  },
  {
   "cell_type": "code",
   "execution_count": null,
   "metadata": {},
   "outputs": [],
   "source": [
    "xyz=bovy_coords.lbd_to_XYZ(l,b,D_all,degree=True)\n",
    "\n",
    "plt.figure(figsize=(10,10))\n",
    "plt.scatter(xyz[:,0],xyz[:,1],s=1)\n",
    "plt.xlim(-15.,15.)\n",
    "plt.ylim(-15.,15.)\n",
    "plt.xlabel('X (kpc)')\n",
    "plt.ylabel('Y (kpc)')\n",
    "plt.show()"
   ]
  },
  {
   "cell_type": "code",
   "execution_count": null,
   "metadata": {},
   "outputs": [],
   "source": [
    "print (max(np.abs(z_all*ro-zfile)))  #computed z and z from catalog match pretty well\n",
    "\n",
    "print (max(rs_all))\n",
    "print (max(M_all),min(M_all))"
   ]
  },
  {
   "cell_type": "code",
   "execution_count": 25,
   "metadata": {},
   "outputs": [
    {
     "name": "stdout",
     "output_type": "stream",
     "text": [
      "356 8107\n"
     ]
    }
   ],
   "source": [
    "#Pick only MCs which are more massive than Mmin\n",
    "Mmin=10**6.\n",
    "\n",
    "M=[]\n",
    "rs=[]\n",
    "z=[]\n",
    "R=[]\n",
    "phi=[]\n",
    "\n",
    "for ii in range(len(l)):\n",
    "    if M_all[ii] >= Mmin :\n",
    "        M.append(M_all[ii])\n",
    "        rs.append(rs_all[ii])\n",
    "        z.append(z_all[ii])\n",
    "        phi.append(phi_all[ii])\n",
    "        R.append(R_all[ii])\n",
    "        \n",
    "M=np.array(M)\n",
    "rs=np.array(rs)\n",
    "z=np.array(z)\n",
    "R=np.array(R)\n",
    "phi=np.array(phi)\n",
    "\n",
    "print (len(M), len(M_all))\n"
   ]
  },
  {
   "cell_type": "code",
   "execution_count": null,
   "metadata": {},
   "outputs": [],
   "source": [
    "#Rs vs M\n",
    "\n",
    "\n",
    "def rs_Hern(M):\n",
    "    return 1.62*(M/10**8.)**0.5\n",
    "\n",
    "def rs_Plum(M):\n",
    "    return 1.05*(M/10**8.)**0.5\n",
    "\n",
    "mm=np.linspace(10.,10**8.)\n",
    "\n",
    "plt.figure()\n",
    "plt.scatter(M_all,rs_all)\n",
    "plt.plot(mm,rs_Hern(mm),label='Hernquist',c='k',lw=2)\n",
    "plt.plot(mm,rs_Plum(mm),label='Plummer',c='r',lw=2)\n",
    "plt.xscale('log')\n",
    "plt.yscale('log')\n",
    "plt.ylim(10**-5,10)\n",
    "plt.xlim(0.001,10**8.)\n",
    "plt.xlabel(r'M ($\\rm{M}_{\\odot}$)')\n",
    "plt.ylabel(r'$r_{s}$ (kpc)')\n",
    "plt.legend(loc='upper left')\n",
    "plt.show()"
   ]
  },
  {
   "cell_type": "code",
   "execution_count": 26,
   "metadata": {},
   "outputs": [],
   "source": [
    "#assign velocities, tangential velocity = vcirc, vR=vz=0\n",
    "vT=np.empty(len(M))\n",
    "\n",
    "for ii in range(len(M)):\n",
    "    vT[ii]=vcirc(MWPotential2014,R[ii])\n",
    "\n",
    "#print (vT)\n",
    "\n",
    "vR=np.zeros(len(M))\n",
    "vz=np.zeros(len(M))\n"
   ]
  },
  {
   "cell_type": "code",
   "execution_count": 27,
   "metadata": {},
   "outputs": [],
   "source": [
    "#initialize orbits of the MCs and integrate them back 5 Gyrs \n",
    "#as of now use MWPotential2014, because it's axisymmetric and static\n",
    "#integrate back and extract (x,v) at different timpact through interpolation\n",
    "\n",
    "t_age= np.linspace(0.,5.,1001)/bovy_conversion.time_in_Gyr(vo,ro)\n",
    "orbits= []\n",
    "\n",
    "#M=M[0:10]\n",
    "\n",
    "\n",
    "N=len(M)\n",
    "\n",
    "for ii in range(N):\n",
    "    orbits.append(Orbit([R[ii],vR[ii],vT[ii],z[ii],vz[ii],phi[ii]]).flip()) # flip flips the velocities for backwards integration\n",
    "    \n",
    "    orbits[ii].integrate(t_age,MWPotential2014)\n",
    "    "
   ]
  },
  {
   "cell_type": "code",
   "execution_count": null,
   "metadata": {},
   "outputs": [],
   "source": [
    "print (M)\n",
    "orbits[9].plot(d1='x',d2='y',ro=ro,vo=vo)\n",
    "\n",
    "orbits[9].plot(ro=ro,vo=vo)"
   ]
  },
  {
   "cell_type": "code",
   "execution_count": null,
   "metadata": {},
   "outputs": [],
   "source": [
    "orbits[1].plot('k.',d1='ra',d2='dec',ro=ro,vo=vo)"
   ]
  },
  {
   "cell_type": "code",
   "execution_count": 28,
   "metadata": {},
   "outputs": [
    {
     "name": "stdout",
     "output_type": "stream",
     "text": [
      "galpyWarning: WARNING: Rnorm keyword input to streamdf is deprecated in favor of the standard ro keyword\n",
      "galpyWarning: WARNING: Vnorm keyword input to streamdf is deprecated in favor of the standard vo keyword\n",
      "galpyWarning: In versions >1.3, the output unit of streamdf.misalignment has been changed to radian (from degree before)\n"
     ]
    }
   ],
   "source": [
    "sdf_smooth= pal5_util.setup_pal5model()"
   ]
  },
  {
   "cell_type": "code",
   "execution_count": 29,
   "metadata": {},
   "outputs": [],
   "source": [
    "#load the saved pickle file for converting apars to obs coords\n",
    "with open('/home/nil/Dropbox/streamgap-pepper/pal5_64sampling.pkl','rb') as savefile:\n",
    "            sdf_smooth= pickle.load(savefile,encoding='latin1')\n",
    "            sdf_pepper= pickle.load(savefile,encoding='latin1')"
   ]
  },
  {
   "cell_type": "code",
   "execution_count": 32,
   "metadata": {},
   "outputs": [
    {
     "name": "stdout",
     "output_type": "stream",
     "text": [
      "[  2.16342958   4.32685916   6.49028874   8.65371832  10.8171479\n",
      "  12.98057748  15.14400706  17.30743664  19.47086622  21.6342958\n",
      "  23.79772538  25.96115496  28.12458454  30.28801412  32.4514437\n",
      "  34.61487328  36.77830286  38.94173244  41.10516202  43.2685916\n",
      "  45.43202118  47.59545076  49.75888034  51.92230992  54.0857395\n",
      "  56.24916908  58.41259866  60.57602824  62.73945782  64.9028874\n",
      "  67.06631698  69.22974656  71.39317614  73.55660572  75.7200353\n",
      "  77.88346488  80.04689446  82.21032404  84.37375362  86.5371832\n",
      "  88.70061278  90.86404236  93.02747194  95.19090152  97.3543311\n",
      "  99.51776068 101.68119026 103.84461984 106.00804942 108.171479\n",
      " 110.33490858 112.49833816 114.66176774 116.82519732 118.9886269\n",
      " 121.15205648 123.31548606 125.47891564 127.64234522 129.8057748\n",
      " 131.96920438 134.13263396 136.29606354 138.45949311]\n",
      "64\n"
     ]
    }
   ],
   "source": [
    "timpact=sdf_pepper._timpact\n",
    "\n",
    "print (timpact)\n",
    "\n",
    "\n",
    "print (len(timpact))\n",
    "\n",
    "pal5= Orbit([229.018,-0.124,23.2,-2.296,-2.257,-58.7],radec=True,solarmotion=[-11.1,24.,7.25]).flip()\n",
    "pal5.integrate(t_age,MWPotential2014)\n",
    "\n"
   ]
  },
  {
   "cell_type": "markdown",
   "metadata": {},
   "source": [
    "# Plot Pal5 orbit, trailing arm and the progenitor at different timpacts"
   ]
  },
  {
   "cell_type": "code",
   "execution_count": null,
   "metadata": {},
   "outputs": [],
   "source": [
    "for kk in range(0,64,4):\n",
    "    \n",
    "    x=[]\n",
    "    y=[]\n",
    "    z=[]\n",
    "    vx=[]\n",
    "    vy=[]\n",
    "    vz=[]\n",
    "    \n",
    "    a= sdf_pepper._sgapdfs_coordtransform[timpact[kk]]._kick_interpolatedObsTrackXY\n",
    "    apar_all=sdf_pepper._sgapdfs_coordtransform[timpact[kk]]._kick_interpolatedThetasTrack\n",
    "    \n",
    "    #lbd=bovy_coords.XYZ_to_lbd(a[:,0],a[:,1],a[:,2],degree=True)\n",
    "    #radec_all=bovy_coords.lb_to_radec(lbd[:,0],lbd[:,1],degree=True) \n",
    "    #print (max(radec_all[:,0]))\n",
    "    #radec_all[:,0][radec_all[:,0]>=180.]-=360.\n",
    "         \n",
    "    bovy_plot.bovy_print(axes_labelsize=18.,xtick_labelsize=14.,ytick_labelsize=14.)\n",
    "    figsize(10,10)\n",
    "    pal5.plot(d1='x',d2='y')\n",
    "    #scatter(np.array(a[:,0])*ro,np.array(a[:,1])*ro,c='r',s=1)\n",
    "    scatter(pal5.x(timpact[kk]),pal5.y(timpact[kk]),s=100,c='g')\n",
    "    \n",
    "    #at each timpact compute apar_max\n",
    "    apar_max=sdf_smooth.length(tdisrupt=sdf_pepper._tdisrupt-timpact[kk])*sdf_pepper._length_factor\n",
    "    \n",
    "    #considering the stream until apar_max, store xyzvxvyvz \n",
    "    for ii in range(len(apar_all)):\n",
    "        if apar_all[ii] <= apar_max : \n",
    "            x.append(a[:,0][ii])\n",
    "            y.append(a[:,1][ii])\n",
    "            z.append(a[:,2][ii])\n",
    "            vx.append(a[:,3][ii])\n",
    "            vy.append(a[:,4][ii])\n",
    "            vz.append(a[:,5][ii])\n",
    "    \n",
    "    #lbd1=bovy_coords.XYZ_to_lbd(np.array(x),np.array(y),np.array(z),degree=True)\n",
    "    #radec=bovy_coords.lb_to_radec(lbd1[:,0],lbd1[:,1],degree=True) \n",
    "    #print (radec[:,0])\n",
    "    #radec[:,0][radec[:,0]>=180.]-=360.\n",
    "    \n",
    "    #print (radec[:,0])\n",
    "    \n",
    "    \n",
    "    \n",
    "    plt.scatter(np.array(x)*ro,np.array(y)*ro,c='k',s=1)\n",
    "    plt.xlim(-20.,20.)\n",
    "    plt.ylim(-17.,17.)\n",
    "    plt.show()\n",
    "    \n",
    "    \n",
    "    #x.append(a[:,0])\n",
    "    #y.append(a[:,1])\n",
    "    #z.append(a[:,2])\n",
    "    \n",
    "    \n",
    "    #apar=apar_all[apar_all < apar_max]\n",
    "    #print len(apar)\n",
    "    \n",
    "    #print (len(a[:,0]))"
   ]
  },
  {
   "cell_type": "code",
   "execution_count": 30,
   "metadata": {},
   "outputs": [],
   "source": [
    "def compute_min_separation(x_mc,y_mc,z_mc,apar,x_stream,y_stream,z_stream):\n",
    "    '''\n",
    "    given (x,y,z) of each molecular cloud, compute the minimum separation from the stream chunks\n",
    "    \n",
    "    input: x_mc,y_mc,z_mc of the MCs,\n",
    "    x_stream,y_stream,z_stream as arrays of the stream chunks\n",
    "    apar of the stream chunks, in order to output the apar at which the minimum separation from the \n",
    "    MC occured\n",
    "    '''\n",
    "    \n",
    "    diffx=x_stream - x_mc\n",
    "    diffy=y_stream - y_mc\n",
    "    diffz=z_stream - z_mc\n",
    "    \n",
    "    diffxyz=np.c_[diffx,diffy,diffz]\n",
    "    \n",
    "    norm = numpy.linalg.norm(diffxyz,axis=1)\n",
    "    \n",
    "    #print (diffx)\n",
    "    \n",
    "    #print (norm)\n",
    "    \n",
    "    #print (len(x_stream), len(norm))\n",
    "    \n",
    "    min_ind=numpy.argmin(norm)\n",
    "    \n",
    "    min_sep= norm[min_ind]\n",
    "    \n",
    "    apar_min=apar[min_ind]\n",
    "    \n",
    "    return (min_sep,apar_min)\n",
    "    \n",
    "    "
   ]
  },
  {
   "cell_type": "code",
   "execution_count": null,
   "metadata": {},
   "outputs": [],
   "source": [
    "print (sdf_pepper._sigMeanSign)\n"
   ]
  },
  {
   "cell_type": "code",
   "execution_count": 33,
   "metadata": {},
   "outputs": [],
   "source": [
    "#timpact_short=timpact[0:6]\n",
    "\n",
    "#for each MC store min sep and apar of closest approach at each timpact\n",
    "min_sep_matrix=np.empty([len(orbits),len(timpact)])\n",
    "apar_matrix=np.empty([len(orbits),len(timpact)])\n",
    "\n",
    "\n",
    "for kk in range(len(timpact)):\n",
    "    \n",
    "    apar=[]\n",
    "    x=[]\n",
    "    y=[]\n",
    "    z=[]\n",
    "    vx=[]\n",
    "    vy=[]\n",
    "    vz=[]\n",
    "    \n",
    "    a= sdf_pepper._sgapdfs_coordtransform[timpact[kk]]._kick_interpolatedObsTrackXY\n",
    "    apar_all=sdf_pepper._sgapdfs_coordtransform[timpact[kk]]._kick_interpolatedThetasTrack\n",
    "      \n",
    "            \n",
    "    #at each timpact compute apar_max\n",
    "    apar_max=sdf_smooth.length(tdisrupt=sdf_pepper._tdisrupt-timpact[kk])*sdf_pepper._length_factor\n",
    "    \n",
    "    #considering the stream until apar_max, store xyzvxvyvz \n",
    "    for ii in range(len(apar_all)):\n",
    "        if apar_all[ii] <= apar_max :\n",
    "            apar.append(apar_all[ii])\n",
    "            x.append(a[:,0][ii])\n",
    "            y.append(a[:,1][ii])\n",
    "            z.append(a[:,2][ii])\n",
    "            vx.append(a[:,3][ii])\n",
    "            vy.append(a[:,4][ii])\n",
    "            vz.append(a[:,5][ii])\n",
    "            \n",
    "    x_stream=np.array(x)\n",
    "    y_stream=np.array(y)\n",
    "    z_stream=np.array(z)\n",
    "    vx_stream=np.array(vx)\n",
    "    vy_stream=np.array(vy)\n",
    "    vz_stream=np.array(vz)\n",
    "    apar=np.array(apar)\n",
    "    \n",
    "      \n",
    "    #compute min_sep of each MC\n",
    "    for jj in range(len(orbits)) :\n",
    "        x_mc=orbits[jj].x(timpact[kk])\n",
    "        y_mc=orbits[jj].y(timpact[kk])\n",
    "        z_mc=orbits[jj].z(timpact[kk])\n",
    "        \n",
    "        min_sep,apar_min=compute_min_separation(x_mc,y_mc,z_mc,apar,x_stream,y_stream,z_stream)\n",
    "        \n",
    "        min_sep_matrix[jj,kk]=min_sep\n",
    "        apar_matrix[jj,kk]=apar_min\n",
    "        \n",
    "        #print (min_sep,apar_min)\n"
   ]
  },
  {
   "cell_type": "code",
   "execution_count": null,
   "metadata": {},
   "outputs": [],
   "source": [
    "#for each MC plot min separation at all timpact\n",
    "\n",
    "ind=37\n",
    "plt.figure(figsize=(12,6))\n",
    "plt.scatter(timpact,min_sep_matrix[ind])\n",
    "plt.hlines(5.*rs[ind]/ro,-1.,150.,label=r'$5\\times r_{s}$')\n",
    "plt.xlabel('timpact (galpy units)')\n",
    "plt.ylabel('min separation')\n",
    "plt.legend(loc='upper right')\n",
    "plt.savefig('min_separation_MC{}.pdf'.format(ind))\n",
    "plt.show()"
   ]
  },
  {
   "cell_type": "code",
   "execution_count": null,
   "metadata": {},
   "outputs": [],
   "source": [
    "print (np.shape(min_sep_matrix[0]))"
   ]
  },
  {
   "cell_type": "code",
   "execution_count": 35,
   "metadata": {},
   "outputs": [],
   "source": [
    "#plot histogram of min separation vs timpact\n",
    "\n",
    "dt=timpact[1]-timpact[0]\n",
    "tbin_edges=[timpact[0] - 0.5*(dt) + i*dt for i in range(len(timpact)+1)] \n"
   ]
  },
  {
   "cell_type": "code",
   "execution_count": 87,
   "metadata": {},
   "outputs": [
    {
     "name": "stdout",
     "output_type": "stream",
     "text": [
      "293\n"
     ]
    }
   ],
   "source": [
    "#from the constructed matrices of min_sep and min_apar, compute the min separation for each MC for all timpact\n",
    "#and the corresponding apar_min, also compute velocity of the MC at that timpact\n",
    "\n",
    "#impactb=np.empty(len(orbits))\n",
    "#impact_angle=np.empty(len(orbits))\n",
    "#vx_mc=np.empty(len(orbits))\n",
    "#vy_mc=np.empty(len(orbits))\n",
    "#vz_mc=np.empty(len(orbits))\n",
    "#timpact_at_min=np.empty(len(orbits))\n",
    "\n",
    "impactb=[]\n",
    "impact_angle=[]\n",
    "vx_mc=[]\n",
    "vy_mc=[]\n",
    "vz_mc=[]\n",
    "timpact_at_min=[]\n",
    "rs_mc=[]\n",
    "M_mc=[]\n",
    "\n",
    "\n",
    "c=0\n",
    "for ii in range(len(orbits)):\n",
    "    \n",
    "    bmax=50.*rs[ii]/ro\n",
    "    \n",
    "    if min(min_sep_matrix[ii]) <= bmax :\n",
    "        c+=1\n",
    "        \n",
    "        min_timpact_ind=np.argmin(min_sep_matrix[ii])\n",
    "        #print (min_timpact_ind)\n",
    "        impactb.append(min_sep_matrix[ii,min_timpact_ind])\n",
    "        impact_angle.append(sdf_pepper._sigMeanSign*apar_matrix[ii,min_timpact_ind]) # _sigMeanSign = -/+ = trail/lead\n",
    "        timpact_at_min.append(timpact[min_timpact_ind])\n",
    "        rs_mc.append(rs[ii]/ro)\n",
    "        M_mc.append(M[ii]/bovy_conversion.mass_in_msol(vo,ro))\n",
    "        #flip velocities\n",
    "        vx_mc.append(-orbits[ii].vx(timpact[min_timpact_ind]))\n",
    "        vy_mc.append(-orbits[ii].vy(timpact[min_timpact_ind]))\n",
    "        vz_mc.append(-orbits[ii].vz(timpact[min_timpact_ind]))\n",
    "\n",
    "#combine vx,vy,vz to v\n",
    "v_mc=np.c_[vx_mc,vy_mc,vz_mc]\n",
    "print (c)"
   ]
  },
  {
   "cell_type": "code",
   "execution_count": 88,
   "metadata": {},
   "outputs": [
    {
     "data": {
      "image/png": "[encoded data removed]",
      "text/plain": [
       "<Figure size 504x576 with 1 Axes>"
      ]
     },
     "metadata": {},
     "output_type": "display_data"
    },
    {
     "data": {
      "image/png": "[encoded data removed]",
      "text/plain": [
       "<Figure size 504x576 with 1 Axes>"
      ]
     },
     "metadata": {},
     "output_type": "display_data"
    },
    {
     "data": {
      "image/png": "[encoded data removed]",
      "text/plain": [
       "<Figure size 504x576 with 1 Axes>"
      ]
     },
     "metadata": {},
     "output_type": "display_data"
    },
    {
     "data": {
      "image/png": "[encoded data removed]",
      "text/plain": [
       "<Figure size 504x576 with 1 Axes>"
      ]
     },
     "metadata": {},
     "output_type": "display_data"
    },
    {
     "data": {
      "image/png": "[encoded data removed]",
      "text/plain": [
       "<Figure size 504x576 with 1 Axes>"
      ]
     },
     "metadata": {},
     "output_type": "display_data"
    }
   ],
   "source": [
    "#a) histogram of timpact\n",
    "#b) histogram of M (and maybe compare to the full histogram of M)\n",
    "#c) histogram of impactb\n",
    "#d) histogram of impact angle\n",
    "#e) timpact vs. impact angle\n",
    "\n",
    "plt.figure()\n",
    "plt.title('timpact')\n",
    "plt.hist(timpact_at_min,bins=tbin_edges)\n",
    "\n",
    "\n",
    "mbins=np.linspace(10**6.,10**7.,25)\n",
    "plt.figure()\n",
    "plt.title('M')\n",
    "plt.hist(np.array(M_mc)*bovy_conversion.mass_in_msol(vo,ro),bins=mbins,histtype='step',lw=2,label=r'minsep $<$ 5rs')\n",
    "plt.hist(M,bins=mbins,histtype='step',lw=2,label=r'$10^{6} - 10^{7} \\rm{M}_{\\odot}$')\n",
    "plt.legend(loc='upper right')\n",
    "\n",
    "\n",
    "\n",
    "\n",
    "plt.figure()\n",
    "plt.title('impactb')\n",
    "plt.hist(impactb,bins=30,histtype='step',lw=2)\n",
    "\n",
    "\n",
    "\n",
    "\n",
    "\n",
    "plt.figure()\n",
    "plt.title('impact angle')\n",
    "plt.hist(impact_angle,bins=30,histtype='step',lw=2)\n",
    "\n",
    "\n",
    "\n",
    "\n",
    "plt.figure()\n",
    "plt.title('timpact vs impact angle')\n",
    "plt.scatter(timpact_at_min,impact_angle)\n",
    "plt.xlabel('timpact')\n",
    "plt.ylabel('impact angle')\n",
    "\n",
    "plt.show()\n",
    "\n",
    "\n",
    "\n",
    "\n"
   ]
  },
  {
   "cell_type": "code",
   "execution_count": null,
   "metadata": {},
   "outputs": [],
   "source": [
    "import streampepperdf\n",
    "\n",
    "sdf_pepper.set_impacts(impactb=impactb,subhalovel=v_mc,impact_angle=impact_angle,timpact=timpact_at_min,rs=rs_mc,GM=M_mc)\n",
    "\n",
    "pepperfilename='Pal5_64impact_MC.pkl'\n",
    "\n",
    "save_pickles(pepperfilename,sdf_smooth,sdf_pepper)"
   ]
  },
  {
   "cell_type": "code",
   "execution_count": 2,
   "metadata": {},
   "outputs": [],
   "source": [
    "with open('Pal5_64impact_MC.pkl','rb') as savefile:\n",
    "            sdf_smooth=pickle.load(savefile,encoding='latin1')\n",
    "            sdf_pepper= pickle.load(savefile,encoding='latin1')\n",
    "\n",
    "            "
   ]
  },
  {
   "cell_type": "code",
   "execution_count": 17,
   "metadata": {},
   "outputs": [],
   "source": [
    "#compute dens in smaller intervals separately and then combine\n",
    "\n",
    "apar=np.arange(0.,1.75,0.01)\n",
    "\n",
    "\n",
    "densOmega= numpy.array([sdf_pepper._densityAndOmega_par_approx(a) for a in apar]).T\n",
    "\n",
    "dens=densOmega[0]\n",
    "Omega=densOmega[1]\n",
    "\n",
    "dens_unp= [sdf_smooth._density_par(a) for a in apar]\n"
   ]
  },
  {
   "cell_type": "code",
   "execution_count": 11,
   "metadata": {},
   "outputs": [
    {
     "name": "stdout",
     "output_type": "stream",
     "text": [
      "2.249913215637207\n",
      "2.1360011100769043\n",
      "2.229156494140625\n",
      "1.1001701354980469\n"
     ]
    }
   ],
   "source": [
    "apar0=np.arange(0.,0.51,0.01)\n",
    "apar1=np.arange(0.51,1.01,0.01)\n",
    "apar2=np.arange(1.01,1.5,0.01)\n",
    "apar3=np.arange(1.51,1.76,0.01)\n",
    "\n",
    "\n",
    "#dens_unp= [sdf_smooth._density_par(a) for a in apar]\n",
    "import time\n",
    "start = time.time()\n",
    "densOmega_0= numpy.array([sdf_pepper._densityAndOmega_par_approx(a) for a in apar0]).T\n",
    "end = time.time()\n",
    "print (end - start)\n",
    "\n",
    "start = time.time()\n",
    "densOmega_1= numpy.array([sdf_pepper._densityAndOmega_par_approx(a) for a in apar1]).T\n",
    "end = time.time()\n",
    "print (end - start)\n",
    "\n",
    "start = time.time()\n",
    "densOmega_2= numpy.array([sdf_pepper._densityAndOmega_par_approx(a) for a in apar2]).T\n",
    "end = time.time()\n",
    "print (end - start)\n",
    "\n",
    "start = time.time()\n",
    "densOmega_3= numpy.array([sdf_pepper._densityAndOmega_par_approx(a) for a in apar3]).T\n",
    "end = time.time()\n",
    "print (end - start)"
   ]
  },
  {
   "cell_type": "code",
   "execution_count": 14,
   "metadata": {},
   "outputs": [
    {
     "name": "stdout",
     "output_type": "stream",
     "text": [
      "[0.   0.01 0.02 0.03 0.04 0.05 0.06 0.07 0.08 0.09 0.1  0.11 0.12 0.13\n",
      " 0.14 0.15 0.16 0.17 0.18 0.19 0.2  0.21 0.22 0.23 0.24 0.25 0.26 0.27\n",
      " 0.28 0.29 0.3  0.31 0.32 0.33 0.34 0.35 0.36 0.37 0.38 0.39 0.4  0.41\n",
      " 0.42 0.43 0.44 0.45 0.46 0.47 0.48 0.49 0.5 ] [0.51 0.52 0.53 0.54 0.55 0.56 0.57 0.58 0.59 0.6  0.61 0.62 0.63 0.64\n",
      " 0.65 0.66 0.67 0.68 0.69 0.7  0.71 0.72 0.73 0.74 0.75 0.76 0.77 0.78\n",
      " 0.79 0.8  0.81 0.82 0.83 0.84 0.85 0.86 0.87 0.88 0.89 0.9  0.91 0.92\n",
      " 0.93 0.94 0.95 0.96 0.97 0.98 0.99 1.  ] [1.01 1.02 1.03 1.04 1.05 1.06 1.07 1.08 1.09 1.1  1.11 1.12 1.13 1.14\n",
      " 1.15 1.16 1.17 1.18 1.19 1.2  1.21 1.22 1.23 1.24 1.25 1.26 1.27 1.28\n",
      " 1.29 1.3  1.31 1.32 1.33 1.34 1.35 1.36 1.37 1.38 1.39 1.4  1.41 1.42\n",
      " 1.43 1.44 1.45 1.46 1.47 1.48 1.49]\n"
     ]
    }
   ],
   "source": [
    "apar0=np.arange(0.,0.51,0.01)\n",
    "apar1=np.arange(0.51,1.01,0.01)\n",
    "apar2=np.arange(1.01,1.5,0.01)\n",
    "\n",
    "print (apar0,apar1, apar2)\n"
   ]
  },
  {
   "cell_type": "code",
   "execution_count": 4,
   "metadata": {},
   "outputs": [],
   "source": [
    "apar=np.concatenate((apar0,apar1,apar2,apar3))\n",
    "\n",
    "dens=np.concatenate((densOmega_0[0],densOmega_1[0],densOmega_2[0],densOmega_3[0]))\n",
    "Omega=np.concatenate((densOmega_0[1],densOmega_1[1],densOmega_2[1],densOmega_3[1]))\n",
    "\n",
    "dens_unp= [sdf_smooth._density_par(a) for a in apar]"
   ]
  },
  {
   "cell_type": "code",
   "execution_count": 18,
   "metadata": {},
   "outputs": [
    {
     "data": {
      "image/png": "[encoded data removed]",
      "text/plain": [
       "<Figure size 432x288 with 1 Axes>"
      ]
     },
     "metadata": {},
     "output_type": "display_data"
    }
   ],
   "source": [
    "plt.figure()\n",
    "plt.plot(apar,dens/dens_unp)\n",
    "\n",
    "plt.xlabel(r'$\\theta_{\\parallel}$')\n",
    "plt.ylabel(r'density/smooth density')\n",
    "#plt.savefig('MC_106-107Msun_den_10MCs.pdf')\n",
    "plt.show()"
   ]
  },
  {
   "cell_type": "code",
   "execution_count": null,
   "metadata": {},
   "outputs": [],
   "source": [
    "#combine densOmega files\n",
    "\n",
    "apars=np.empty(175)\n",
    "dens=np.empty(175)\n",
    "dens_unp=np.empty(175)\n",
    "Omega=np.empty(175)\n",
    "\n",
    "#'#apar   dens_unp   dens  omega_unp   omega'\n",
    "\n",
    "for ii in range(175):\n",
    "    dat=np.loadtxt('MC_densOmega/densOmega_{}.dat'.format(ii))\n",
    "    apar[ii]=dat[0]\n",
    "    dens_unp[ii]=dat[1]\n",
    "    dens[ii]=dat[2]\n",
    "    Omega[ii]=dat[4]\n",
    "    \n",
    "    \n",
    "plt.figure()\n",
    "plt.plot(apar,dens/dens_unp)\n",
    "\n",
    "plt.xlabel(r'$\\theta_{\\parallel}$')\n",
    "plt.ylabel(r'density/smooth density')\n",
    "#plt.savefig('MC_106-107Msun_den_10MCs.pdf')\n",
    "plt.show()"
   ]
  },
  {
   "cell_type": "code",
   "execution_count": 19,
   "metadata": {},
   "outputs": [],
   "source": [
    "import pal5_util\n",
    "from scipy import ndimage, signal, interpolate\n",
    "\n",
    "#with open('Pal5_64impact_MC.pkl','rb') as savefile:\n",
    "#            sdf_smooth=pickle.load(savefile,encoding='latin1')\n",
    "#            sdf_pepper= pickle.load(savefile,encoding='latin1')\n",
    "\n",
    "\n",
    "def convert_dens_to_obs(apars,dens,dens_smooth,mO,poly_deg=3):\n",
    "    \"\"\"\n",
    "    NAME:\n",
    "        convert_dens_to_obs\n",
    "    PURPOSE:\n",
    "        Convert track to observed coordinates\n",
    "    INPUT:\n",
    "        apars - parallel angles\n",
    "        dens - density(apars)\n",
    "        dens_smooth - smooth-stream density(apars)\n",
    "        mO= (None) mean parallel frequency (1D) \n",
    "            [needs to be set to get density on same grid as track]\n",
    "        poly_deg= (3) degree of the polynomial to fit for the 'smooth' stream\n",
    "    OUTPUT:\n",
    "        (xi,dens/smooth)\n",
    "    \"\"\"\n",
    "    mT= sdf_pepper.meanTrack(apars,_mO=mO,coord='lb')\n",
    "    mradec= bovy_coords.lb_to_radec(mT[0],mT[1],degree=True)\n",
    "    mxieta= pal5_util.radec_to_pal5xieta(mradec[:,0],mradec[:,1],degree=True)\n",
    "    outll= numpy.arange(0.25,14.35,0.1)\n",
    "    # Interpolate density\n",
    "    ipll= interpolate.InterpolatedUnivariateSpline(mxieta[:,0],apars)\n",
    "    ipdens= interpolate.InterpolatedUnivariateSpline(apars,dens/dens_smooth)\n",
    "    return (outll,ipdens(ipll(outll)))\n",
    "\n",
    "\n",
    "def set_ranges_and_labels_dens():\n",
    "    bovy_plot.bovy_text(r'$\\sqrt{\\delta\\delta}$',top_left=True,size=18.)\n",
    "    xlabel(r'$1/k_{\\xi}\\,(\\mathrm{deg})$',size=18)\n",
    "    ylim(0.0001,10.)\n",
    "    xlim(1,150.)\n",
    "    for axis in [gca().xaxis,gca().yaxis]:\n",
    "        axis.set_major_formatter(FuncFormatter(\n",
    "                lambda y,pos: (r'${{:.{:1d}f}}$'.format(int(numpy.maximum(-numpy.log10(y),0)))).format(y)))\n",
    "    return None"
   ]
  },
  {
   "cell_type": "code",
   "execution_count": 20,
   "metadata": {},
   "outputs": [
    {
     "name": "stdout",
     "output_type": "stream",
     "text": [
      "/home/nil/anaconda3/lib/python3.6/site-packages/ipykernel_launcher.py:7: RuntimeWarning: divide by zero encountered in true_divide\n",
      "  import sys\n",
      "\n"
     ]
    },
    {
     "data": {
      "image/png": "[encoded data removed]",
      "text/plain": [
       "<Figure size 504x576 with 1 Axes>"
      ]
     },
     "metadata": {},
     "output_type": "display_data"
    }
   ],
   "source": [
    "ll,tdata= convert_dens_to_obs(apar,dens,dens_unp,Omega,poly_deg=3)\n",
    "\n",
    "scaling = 'spectrum'\n",
    "    \n",
    "px,py= signal.csd(tdata,tdata,fs=1./(ll[1]-ll[0]),scaling='spectrum',nperseg=len(ll))\n",
    "py= py.real\n",
    "px= 1./px\n",
    "py= numpy.sqrt(py*(ll[-1]-ll[0]))\n",
    "#return 180./px/numpy.pi, py, py_err #if apars\n",
    "\n",
    "\n",
    "bovy_plot.bovy_print(axes_labelsize=18.,xtick_labelsize=14.,ytick_labelsize=14.)\n",
    "figsize(7,8)\n",
    "\n",
    "loglog(px,py,color='k',zorder=1,label=r'$10^{6} - 10^{7} \\ \\rm{M}_{\\odot}$ GMCs')\n",
    "\n",
    "legend(loc='upper right',fontsize=16)\n",
    "set_ranges_and_labels_dens()\n",
    "\n"
   ]
  },
  {
   "cell_type": "code",
   "execution_count": null,
   "metadata": {},
   "outputs": [],
   "source": []
  }
 ],
 "metadata": {
  "kernelspec": {
   "display_name": "Python 3",
   "language": "python",
   "name": "python3"
  },
  "language_info": {
   "codemirror_mode": {
    "name": "ipython",
    "version": 3
   },
   "file_extension": ".py",
   "mimetype": "text/x-python",
   "name": "python",
   "nbconvert_exporter": "python",
   "pygments_lexer": "ipython3",
   "version": "3.6.5"
  }
 },
 "nbformat": 4,
 "nbformat_minor": 2
}
