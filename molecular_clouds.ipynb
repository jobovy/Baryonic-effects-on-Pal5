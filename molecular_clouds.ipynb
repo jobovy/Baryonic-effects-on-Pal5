{
 "cells": [
  {
   "cell_type": "code",
   "execution_count": 1,
   "metadata": {},
   "outputs": [
    {
     "name": "stdout",
     "output_type": "stream",
     "text": [
      "/home/nil/anaconda3/lib/python3.6/site-packages/h5py/__init__.py:36: FutureWarning: Conversion of the second argument of issubdtype from `float` to `np.floating` is deprecated. In future, it will be treated as `np.float64 == np.dtype(float).type`.\n",
      "  from ._conv import register_converters as _register_converters\n",
      "\n",
      "Populating the interactive namespace from numpy and matplotlib\n"
     ]
    }
   ],
   "source": [
    "import numpy as np\n",
    "import pickle\n",
    "from astropy.io import fits\n",
    "import matplotlib.pyplot as plt\n",
    "from galpy.util import bovy_conversion, bovy_coords, save_pickles, bovy_plot\n",
    "from galpy.potential import MWPotential2014, turn_physical_off, vcirc\n",
    "import astropy.units as u\n",
    "%pylab inline\n",
    "from galpy.orbit import Orbit\n",
    "\n",
    "\n",
    "\n",
    "ro=8.0\n",
    "#paper on MC used R0=8.5 kpc, using ro=8. as of now.\n",
    "vo=220."
   ]
  },
  {
   "cell_type": "code",
   "execution_count": 2,
   "metadata": {},
   "outputs": [
    {
     "name": "stdout",
     "output_type": "stream",
     "text": [
      "ColDefs(\n",
      "    name = 'Cloud'; format = 'I4'; disp = 'I4'; start = 1\n",
      "    name = 'Ncomp'; format = 'I3'; disp = 'I3'; start = 6\n",
      "    name = 'Npix'; format = 'I3'; disp = 'I3'; start = 10\n",
      "    name = 'Area'; format = 'E12.6'; unit = 'deg2'; disp = 'E12.6'; start = 14\n",
      "    name = 'GLON'; format = 'E13.6'; unit = 'deg'; disp = 'E13.6'; start = 27\n",
      "    name = 'Sigb'; format = 'E12.6'; unit = 'deg'; disp = 'E12.6'; start = 41\n",
      "    name = 'GLAT'; format = 'E13.6'; unit = 'deg'; disp = 'E13.6'; start = 54\n",
      "    name = 'Sigl'; format = 'E12.6'; unit = 'deg'; disp = 'E12.6'; start = 68\n",
      "    name = 'theta'; format = 'E13.6'; unit = 'deg'; disp = 'E13.6'; start = 81\n",
      "    name = 'WCO'; format = 'E12.6'; unit = 'K.km/s'; disp = 'E12.6'; start = 95\n",
      "    name = 'NH2'; format = 'E12.6'; unit = 'cm-2'; disp = 'E12.6'; start = 108\n",
      "    name = 'Sigma'; format = 'E12.6'; unit = 'Msun/pc2'; disp = 'E12.6'; start = 121\n",
      "    name = 'Vcent'; format = 'E13.6'; unit = 'km/s'; disp = 'E13.6'; start = 134\n",
      "    name = 'SigV'; format = 'E12.6'; unit = 'km/s'; disp = 'E12.6'; start = 148\n",
      "    name = 'Rmax'; format = 'E12.6'; unit = 'deg'; disp = 'E12.6'; start = 161\n",
      "    name = 'Rmin'; format = 'E12.6'; unit = 'deg'; disp = 'E12.6'; start = 174\n",
      "    name = 'Rang'; format = 'E12.6'; unit = 'deg'; disp = 'E12.6'; start = 187\n",
      "    name = 'Rgal'; format = 'E12.6'; unit = 'kpc'; disp = 'E12.6'; start = 200\n",
      "    name = 'INF'; format = 'I1'; disp = 'I1'; start = 213\n",
      "    name = 'Dnear'; format = 'E12.6'; unit = 'kpc'; disp = 'E12.6'; start = 215\n",
      "    name = 'Dfar'; format = 'E12.6'; unit = 'kpc'; disp = 'E12.6'; start = 228\n",
      "    name = 'znear'; format = 'E13.6'; unit = 'kpc'; disp = 'E13.6'; start = 241\n",
      "    name = 'zfar'; format = 'E13.6'; unit = 'kpc'; disp = 'E13.6'; start = 255\n",
      "    name = 'Snear'; format = 'E12.6'; unit = 'pc2'; disp = 'E12.6'; start = 269\n",
      "    name = 'Sfar'; format = 'E12.6'; unit = 'pc2'; disp = 'E12.6'; start = 282\n",
      "    name = 'Rnear'; format = 'E12.6'; unit = 'pc'; disp = 'E12.6'; start = 295\n",
      "    name = 'Rfar'; format = 'E12.6'; unit = 'pc'; disp = 'E12.6'; start = 308\n",
      "    name = 'Mnear'; format = 'E12.6'; unit = 'Msun'; disp = 'E12.6'; start = 321\n",
      "    name = 'Mfar'; format = 'E12.6'; unit = 'Msun'; disp = 'E12.6'; start = 334\n",
      ")\n"
     ]
    }
   ],
   "source": [
    "hdulist=fits.open('molecular_clouds/J_ApJ_834_57_table1.dat.gz.fits')\n",
    "print (hdulist[1].columns)\n",
    "aa=hdulist[1].data"
   ]
  },
  {
   "cell_type": "markdown",
   "metadata": {},
   "source": [
    "#To setup the orbits of the MCs, take (l,b,d) --> galactocentric rectangular coordinates\n",
    "\n",
    "[R,vR,vT(,z,vz,phi)]"
   ]
  },
  {
   "cell_type": "code",
   "execution_count": 3,
   "metadata": {},
   "outputs": [],
   "source": [
    "l=aa['GLON']\n",
    "b=aa['GLAT']\n",
    "#Near or far distance flag (0=near; 1=far) \n",
    "flag=aa['INF']\n",
    "Dnear=aa['Dnear']\n",
    "Dfar=aa['Dfar']\n",
    "znear=aa['znear']\n",
    "zfar=aa['zfar']\n",
    "R_sph_gal=aa['Rgal']"
   ]
  },
  {
   "cell_type": "code",
   "execution_count": 4,
   "metadata": {},
   "outputs": [
    {
     "name": "stdout",
     "output_type": "stream",
     "text": [
      "0.00034008007131385915 6.282280181831788\n"
     ]
    }
   ],
   "source": [
    "def lbd_to_galcencyl(l,b,d,degree=True):\n",
    "    xyz=bovy_coords.lbd_to_XYZ(l,b,d,degree=degree)\n",
    "    Rphiz=bovy_coords.XYZ_to_galcencyl(xyz[:,0],xyz[:,1],xyz[:,2],Xsun=1.,Zsun=0.)\n",
    "    \n",
    "    return (Rphiz[:,0],Rphiz[:,1],Rphiz[:,2])\n",
    "\n",
    "D=np.empty(len(l))\n",
    "zfile=np.empty(len(l))\n",
    "\n",
    "for ii in range(len(l)):\n",
    "    if flag[ii] == 0 :\n",
    "        D[ii]=Dnear[ii]\n",
    "        zfile[ii]=znear[ii]\n",
    "        \n",
    "    else :\n",
    "        D[ii]=Dfar[ii]\n",
    "        zfile[ii]=zfar[ii]\n",
    "        \n",
    "\n",
    "\n",
    "R,phi,z= lbd_to_galcencyl(l,b,D)\n",
    "\n",
    "R/=ro\n",
    "z/=ro\n",
    "\n",
    "print (min(phi),max(phi))"
   ]
  },
  {
   "cell_type": "code",
   "execution_count": 5,
   "metadata": {},
   "outputs": [
    {
     "name": "stdout",
     "output_type": "stream",
     "text": [
      "0.003307787684446284\n"
     ]
    }
   ],
   "source": [
    "print (max(np.abs(z*ro-zfile)))  #computed z and z from catalog match pretty well"
   ]
  },
  {
   "cell_type": "code",
   "execution_count": 6,
   "metadata": {},
   "outputs": [
    {
     "name": "stdout",
     "output_type": "stream",
     "text": [
      "[1.00553195 1.00588521 1.00468541 ... 0.92576543 0.90723473 1.0217835 ]\n"
     ]
    }
   ],
   "source": [
    "vT=np.empty(len(l))\n",
    "\n",
    "for ii in range(len(l)):\n",
    "    vT[ii]=vcirc(MWPotential2014,R[ii])\n",
    "\n",
    "print (vT)\n",
    "\n",
    "vR=np.zeros(len(l))\n",
    "vz=np.zeros(len(l))\n"
   ]
  },
  {
   "cell_type": "code",
   "execution_count": 7,
   "metadata": {},
   "outputs": [],
   "source": [
    "#initialize orbits of the MCs and integrate them back 5 Gyrs and then integrete them forward for 5 Gyr\n",
    "\n",
    "\n",
    "t_age= np.linspace(0.,5.,1001)*u.Gyr/bovy_conversion.time_in_Gyr(vo,ro)\n",
    "orbits= []\n",
    "\n",
    "N=10 #len(l)\n",
    "\n",
    "for ii in range(N):\n",
    "    o= Orbit([R[ii],vR[ii],vT[ii],z[ii],vz[ii],phi[ii]]).flip() # flip flips the velocities for backwards integration\n",
    "    \n",
    "    o.integrate(t_age,MWPotential2014)\n",
    "    orbits.append(o(t_age[-1]).flip()) \n",
    "    \n",
    "    orbits[ii].integrate(t_age,MWPotential2014)"
   ]
  },
  {
   "cell_type": "code",
   "execution_count": null,
   "metadata": {},
   "outputs": [],
   "source": [
    "\n",
    "orbits[0].plot(d1='x',d2='y',ro=ro,vo=vo)"
   ]
  },
  {
   "cell_type": "code",
   "execution_count": null,
   "metadata": {},
   "outputs": [],
   "source": [
    "orbits[1].plot('k.',d1='ra',d2='dec',ro=ro,vo=vo)"
   ]
  },
  {
   "cell_type": "code",
   "execution_count": 8,
   "metadata": {},
   "outputs": [],
   "source": [
    "#load the saved pickle file for converting apars to obs coords\n",
    "with open('/home/nil/Dropbox/streamgap-pepper/pal5_64sampling.pkl','rb') as savefile:\n",
    "            sdf_smooth= pickle.load(savefile,encoding='latin1')\n",
    "            sdf_pepper= pickle.load(savefile,encoding='latin1')"
   ]
  },
  {
   "cell_type": "code",
   "execution_count": 10,
   "metadata": {},
   "outputs": [
    {
     "name": "stdout",
     "output_type": "stream",
     "text": [
      "[  2.16342958   4.32685916   6.49028874   8.65371832  10.8171479\n",
      "  12.98057748  15.14400706  17.30743664  19.47086622  21.6342958\n",
      "  23.79772538  25.96115496  28.12458454  30.28801412  32.4514437\n",
      "  34.61487328  36.77830286  38.94173244  41.10516202  43.2685916\n",
      "  45.43202118  47.59545076  49.75888034  51.92230992  54.0857395\n",
      "  56.24916908  58.41259866  60.57602824  62.73945782  64.9028874\n",
      "  67.06631698  69.22974656  71.39317614  73.55660572  75.7200353\n",
      "  77.88346488  80.04689446  82.21032404  84.37375362  86.5371832\n",
      "  88.70061278  90.86404236  93.02747194  95.19090152  97.3543311\n",
      "  99.51776068 101.68119026 103.84461984 106.00804942 108.171479\n",
      " 110.33490858 112.49833816 114.66176774 116.82519732 118.9886269\n",
      " 121.15205648 123.31548606 125.47891564 127.64234522 129.8057748\n",
      " 131.96920438 134.13263396 136.29606354 138.45949311]\n"
     ]
    }
   ],
   "source": [
    "print (sdf_pepper._timpact)"
   ]
  },
  {
   "cell_type": "code",
   "execution_count": 15,
   "metadata": {},
   "outputs": [
    {
     "name": "stdout",
     "output_type": "stream",
     "text": [
      "[2.163429579921305, 4.32685915984261, 6.490288739763915, 8.65371831968522, 10.817147899606525, 12.98057747952783, 15.144007059449136, 17.30743663937044, 19.470866219291743, 21.63429579921305, 23.797725379134356, 25.96115495905566, 28.12458453897696, 30.28801411889827, 32.451443698819574, 34.61487327874088, 36.77830285866218, 38.941732438583486, 41.10516201850479, 43.2685915984261, 45.4320211783474, 47.59545075826871, 49.75888033819001, 51.92230991811132, 54.08573949803262, 56.24916907795392, 58.412598657875236, 60.57602823779654, 62.73945781771784, 64.90288739763915, 67.06631697756045, 69.22974655748176, 71.39317613740305, 73.55660571732436, 75.72003529724566, 77.88346487716697, 80.04689445708827, 82.21032403700958, 84.37375361693088, 86.5371831968522, 88.7006127767735, 90.8640423566948, 93.0274719366161, 95.19090151653742, 97.35433109645872, 99.51776067638002, 101.68119025630132, 103.84461983622263, 106.00804941614393, 108.17147899606525, 110.33490857598653, 112.49833815590785, 114.66176773582914, 116.82519731575047, 118.98862689567176, 121.15205647559308, 123.31548605551438, 125.47891563543568, 127.64234521535698, 129.8057747952783, 131.9692043751996, 134.1326339551209, 136.29606353504218, 138.45949311496352]\n",
      "[0.07692308 0.15384615 0.23076923 0.30769231 0.38461538 0.46153846\n",
      " 0.53846154 0.61538462 0.69230769 0.76923077 0.84615385 0.92307692\n",
      " 1.         1.07692308 1.15384615 1.23076923 1.30769231 1.38461538\n",
      " 1.46153846 1.53846154 1.61538462 1.69230769 1.76923077 1.84615385\n",
      " 1.92307692 2.         2.07692308 2.15384615 2.23076923 2.30769231\n",
      " 2.38461538 2.46153846 2.53846154 2.61538462 2.69230769 2.76923077\n",
      " 2.84615385 2.92307692 3.         3.07692308 3.15384615 3.23076923\n",
      " 3.30769231 3.38461538 3.46153846 3.53846154 3.61538462 3.69230769\n",
      " 3.76923077 3.84615385 3.92307692 4.         4.07692308 4.15384615\n",
      " 4.23076923 4.30769231 4.38461538 4.46153846 4.53846154 4.61538462\n",
      " 4.69230769 4.76923077 4.84615385 4.92307692]\n",
      "2.900629594388679\n",
      "2.855307257003958\n",
      "2.8099849196195565\n",
      "2.7646625822359665\n",
      "2.7193402448530883\n",
      "2.6740179074709745\n",
      "2.6286955700896777\n",
      "2.5833732327092824\n",
      "2.5380508953298424\n",
      "2.4927285579514415\n",
      "2.4474062205742046\n",
      "2.4020838831981206\n",
      "2.356761545823409\n",
      "2.3114392084501523\n",
      "2.2661168710783937\n",
      "2.2207945337081823\n",
      "2.175472196340587\n",
      "2.1301498589742183\n",
      "2.0848275216111825\n",
      "2.039505184250242\n",
      "1.9941828468921887\n",
      "1.9488605095370632\n",
      "1.9035381721861195\n",
      "1.858215834838933\n",
      "1.812893497496315\n",
      "1.7675711601588562\n",
      "1.7222488228272677\n",
      "1.6769264855022314\n",
      "1.6316041481852819\n",
      "1.5862818108770318\n",
      "1.5409594735791283\n",
      "1.495637136293303\n",
      "1.4503147990220875\n",
      "1.4049924617668736\n",
      "1.359670124532138\n",
      "1.314347787321556\n",
      "1.2690254501403024\n",
      "1.2237031129950076\n",
      "1.1783807758942741\n",
      "1.1330584388494975\n",
      "1.0877361018757572\n",
      "1.0424137649936207\n",
      "0.9970914282314441\n",
      "0.9517690916293552\n",
      "0.9064467552448988\n",
      "0.8611244191633463\n",
      "0.8158020835140815\n",
      "0.77047974849984\n",
      "0.7251574144504105\n",
      "0.6798350819244349\n",
      "0.6345127519146273\n",
      "0.589190426287179\n",
      "0.543868108790046\n",
      "0.49854580756893324\n",
      "0.45322354210080534\n",
      "0.4079013647363431\n",
      "0.3625794382376835\n",
      "0.3172583707765529\n",
      "0.2719410357487418\n",
      "0.2266457038978915\n",
      "0.1815364574618461\n",
      "0.1384641101274752\n",
      "0.10932767217539217\n",
      "0.1\n"
     ]
    }
   ],
   "source": [
    "import simulate_streampepper\n",
    "\n",
    "timpact= simulate_streampepper.parse_times('64sampling',5.)\n",
    "print (timpact)\n",
    "#timpact = list(np.linspace(0.1,0.5,10)/bovy_conversion.time_in_Gyr(vo,ro))\n",
    "\n",
    "\n",
    "\n",
    "print (np.array(timpact)*bovy_conversion.time_in_Gyr(vo,ro))\n",
    "\n",
    "x=[]\n",
    "y=[]\n",
    "z=[]\n",
    "\n",
    "for kk in range(len(timpact)):\n",
    "    a= sdf_pepper._sgapdfs_coordtransform[timpact[kk]]._kick_interpolatedObsTrackXY\n",
    "    \n",
    "    x.append(a[:,0])\n",
    "    y.append(a[:,1])\n",
    "    z.append(a[:,2])\n",
    "    apar_all=sdf_pepper._sgapdfs_coordtransform[timpact[kk]]._kick_interpolatedThetasTrack\n",
    "    #print (max(apar_all))\n",
    "    apar_max=sdf_smooth.length(tdisrupt=sdf_pepper._tdisrupt-timpact[kk])*sdf_pepper._length_factor\n",
    "    print (apar_max)\n",
    "    #apar=apar_all[apar_all < apar_max]\n",
    "    #print len(apar)\n",
    "    \n"
   ]
  },
  {
   "cell_type": "code",
   "execution_count": null,
   "metadata": {},
   "outputs": [],
   "source": [
    "apar_max=sdf_pepper.length(tdisrupt=sdf_pepper._tdisrupt-timpact[0])*sdf_pepper._length_factor\n",
    "\n",
    "print (apar_max)"
   ]
  },
  {
   "cell_type": "code",
   "execution_count": null,
   "metadata": {},
   "outputs": [],
   "source": [
    "print len(x[0])    \n",
    "lbd=bovy_coords.XYZ_to_lbd(x[0],y[0],z[0],degree=True)\n",
    "\n",
    "print len(lbd[:,0])"
   ]
  },
  {
   "cell_type": "code",
   "execution_count": null,
   "metadata": {},
   "outputs": [],
   "source": [
    "print sdf_pepper.length(tdisrupt=sdf_pepper._tdisrupt-timpact[0])#*sdf_pepper._length_factor"
   ]
  },
  {
   "cell_type": "code",
   "execution_count": null,
   "metadata": {},
   "outputs": [],
   "source": [
    "t_age= np.linspace(0.,5.,1001)*u.Gyr\n",
    "\n",
    "pal5= Orbit([229.018,-0.124,23.2,-2.296,-2.257,-58.7],radec=True,ro=ro,vo=vo,solarmotion=[-11.1,24.,7.25])\n",
    "\n",
    "#pal5.integrate(t_age,MWPotential2014)\n",
    "#pal5(t_age[-1]).flip()\n",
    "\n",
    "t=np.linspace(0.,0.4,1001)*u.Gyr#/bovy_conversion.time_in_Gyr(vo,ro)\n",
    "\n",
    "pal5.integrate(t,MWPotential2014)"
   ]
  },
  {
   "cell_type": "code",
   "execution_count": null,
   "metadata": {},
   "outputs": [],
   "source": [
    "bovy_plot.bovy_print(axes_labelsize=18.,xtick_labelsize=14.,ytick_labelsize=14.)\n",
    "\n",
    "#pal5.plot(d1='x',d2='y')\n",
    "#pal5.plot()\n",
    "\n",
    "pal5.plot(d1='x',d2='y')"
   ]
  },
  {
   "cell_type": "code",
   "execution_count": null,
   "metadata": {},
   "outputs": [],
   "source": [
    "import simulate_streampepper\n",
    "\n",
    "def galcencyl_to_lbd(R,phi,Z,degree=True):\n",
    "    xyz=bovy_coords.galcencyl_to_XYZ(R,phi,Z)\n",
    "    lbd=bovy_coords.XYZ_to_lbd(xyz[0],xyz[1],xyz[2],degree=degree)\n",
    "    return lbd[0], lbd[1], lbd[2]\n",
    "\n",
    "timp= np.array(timpact)*bovy_conversion.time_in_Gyr(vo,ro)\n",
    "\n",
    "print timp\n",
    "\n",
    "pal5x= pal5.x(timp*u.Gyr)\n",
    "pal5y=pal5.y(timp*u.Gyr)\n",
    "pal5z=pal5.z(timp*u.Gyr)\n",
    "\n",
    "print pal5x\n",
    "#pal5_z=pal5.z(np.array(timpact)*u.Gyr)"
   ]
  },
  {
   "cell_type": "code",
   "execution_count": null,
   "metadata": {},
   "outputs": [],
   "source": [
    "bovy_plot.bovy_print(axes_labelsize=18.,xtick_labelsize=14.,ytick_labelsize=14.)\n",
    "\n",
    "\n",
    "scatter(pal5x[0],pal5y[0])\n",
    "scatter(x[0]*ro,y[0]*ro)\n",
    "pal5.plot(d1='x',d2='y',overplot=True,c='k')\n"
   ]
  },
  {
   "cell_type": "code",
   "execution_count": null,
   "metadata": {},
   "outputs": [],
   "source": [
    "bovy_plot.bovy_print(axes_labelsize=18.,xtick_labelsize=14.,ytick_labelsize=14.)\n",
    "\n",
    "\n",
    "#scatter(pal5x[0],pal5y[0])\n",
    "scatter(pal5x[0],pal5z[0])\n",
    "scatter(x[0]*ro,z[0]*ro)\n",
    "pal5.plot(d1='x',d2='z',overplot=True,c='k')"
   ]
  },
  {
   "cell_type": "code",
   "execution_count": null,
   "metadata": {},
   "outputs": [],
   "source": [
    "print lbd[0]"
   ]
  },
  {
   "cell_type": "code",
   "execution_count": null,
   "metadata": {},
   "outputs": [],
   "source": [
    "plt.figure()\n",
    "plt.plot(pal5_l,pal5_b)\n",
    "plt.show()"
   ]
  },
  {
   "cell_type": "code",
   "execution_count": null,
   "metadata": {},
   "outputs": [],
   "source": []
  }
 ],
 "metadata": {
  "kernelspec": {
   "display_name": "Python 3",
   "language": "python",
   "name": "python3"
  },
  "language_info": {
   "codemirror_mode": {
    "name": "ipython",
    "version": 3
   },
   "file_extension": ".py",
   "mimetype": "text/x-python",
   "name": "python",
   "nbconvert_exporter": "python",
   "pygments_lexer": "ipython3",
   "version": "3.6.5"
  }
 },
 "nbformat": 4,
 "nbformat_minor": 2
}
