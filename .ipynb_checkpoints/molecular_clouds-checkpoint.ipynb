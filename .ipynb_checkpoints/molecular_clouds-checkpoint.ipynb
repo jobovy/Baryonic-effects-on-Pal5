{
 "cells": [
  {
   "cell_type": "code",
   "execution_count": 1,
   "metadata": {
    "collapsed": false
   },
   "outputs": [
    {
     "name": "stdout",
     "output_type": "stream",
     "text": [
      "galpyWarning: A major change in versions > 1.1 is that all galpy.potential functions and methods take the potential as the first argument; previously methods such as evaluatePotentials, evaluateDensities, etc. would be called with (R,z,Pot), now they are called as (Pot,R,z) for greater consistency across the codebase\n",
      "Populating the interactive namespace from numpy and matplotlib\n"
     ]
    }
   ],
   "source": [
    "import numpy as np\n",
    "import pickle\n",
    "from astropy.io import fits\n",
    "import matplotlib.pyplot as plt\n",
    "from galpy.util import bovy_conversion, bovy_coords, save_pickles, bovy_plot\n",
    "from galpy.potential import MWPotential2014, turn_physical_off, vcirc\n",
    "import astropy.units as u\n",
    "%pylab inline\n",
    "from galpy.orbit import Orbit\n",
    "\n",
    "\n",
    "\n",
    "ro=8.0\n",
    "#paper on MC used R0=8.5 kpc, using ro=8. as of now.\n",
    "vo=220."
   ]
  },
  {
   "cell_type": "code",
   "execution_count": null,
   "metadata": {
    "collapsed": false,
    "deletable": true,
    "editable": true
   },
   "outputs": [],
   "source": [
    "hdulist=fits.open('molecular_clouds/J_ApJ_834_57_table1.dat.gz.fits')\n",
    "print hdulist[1].columns\n",
    "aa=hdulist[1].data"
   ]
  },
  {
   "cell_type": "markdown",
   "metadata": {
    "collapsed": false,
    "deletable": true,
    "editable": true
   },
   "source": [
    "#To setup the orbits of the MCs, take (l,b,d) --> galactocentric rectangular coordinates\n",
    "\n",
    "[R,vR,vT(,z,vz,phi)]"
   ]
  },
  {
   "cell_type": "code",
   "execution_count": null,
   "metadata": {
    "collapsed": true,
    "deletable": true,
    "editable": true
   },
   "outputs": [],
   "source": [
    "l=aa['GLON']\n",
    "b=aa['GLAT']\n",
    "#Near or far distance flag (0=near; 1=far) \n",
    "flag=aa['INF']\n",
    "Dnear=aa['Dnear']\n",
    "Dfar=aa['Dfar']\n",
    "znear=aa['znear']\n",
    "zfar=aa['zfar']\n",
    "R_sph_gal=aa['Rgal']"
   ]
  },
  {
   "cell_type": "code",
   "execution_count": null,
   "metadata": {
    "collapsed": false,
    "deletable": true,
    "editable": true
   },
   "outputs": [],
   "source": [
    "def lbd_to_galcencyl(l,b,d,degree=True):\n",
    "    xyz=bovy_coords.lbd_to_XYZ(l,b,d,degree=degree)\n",
    "    Rphiz=bovy_coords.XYZ_to_galcencyl(xyz[:,0],xyz[:,1],xyz[:,2],Xsun=1.,Zsun=0.)\n",
    "    \n",
    "    return (Rphiz[:,0],Rphiz[:,1],Rphiz[:,2])\n",
    "\n",
    "D=np.empty(len(l))\n",
    "zfile=np.empty(len(l))\n",
    "\n",
    "for ii in range(len(l)):\n",
    "    if flag[ii] == 0 :\n",
    "        D[ii]=Dnear[ii]\n",
    "        zfile[ii]=znear[ii]\n",
    "        \n",
    "    else :\n",
    "        D[ii]=Dfar[ii]\n",
    "        zfile[ii]=zfar[ii]\n",
    "        \n",
    "\n",
    "\n",
    "R,phi,z= lbd_to_galcencyl(l,b,D)\n",
    "\n",
    "R/=ro\n",
    "z/=ro\n",
    "\n",
    "print min(phi),max(phi)"
   ]
  },
  {
   "cell_type": "code",
   "execution_count": null,
   "metadata": {
    "collapsed": false,
    "deletable": true,
    "editable": true
   },
   "outputs": [],
   "source": [
    "print max(np.abs(z*ro-zfile))  #computed z and z from catalog match pretty well"
   ]
  },
  {
   "cell_type": "code",
   "execution_count": null,
   "metadata": {
    "collapsed": false,
    "deletable": true,
    "editable": true
   },
   "outputs": [],
   "source": [
    "vT=np.empty(len(l))\n",
    "\n",
    "for ii in range(len(l)):\n",
    "    vT[ii]=vcirc(MWPotential2014,R[ii])\n",
    "\n",
    "print vT\n",
    "\n",
    "vR=np.zeros(len(l))\n",
    "vz=np.zeros(len(l))\n"
   ]
  },
  {
   "cell_type": "code",
   "execution_count": null,
   "metadata": {
    "collapsed": false,
    "deletable": true,
    "editable": true
   },
   "outputs": [],
   "source": [
    "#initialize orbits of the MCs and integrate them back 5 Gyrs and then integrete them forward for 5 Gyr\n",
    "\n",
    "\n",
    "t_age= np.linspace(0.,5.,1001)*u.Gyr/bovy_conversion.time_in_Gyr(vo,ro)\n",
    "orbits= []\n",
    "\n",
    "N=10 #len(l)\n",
    "\n",
    "for ii in range(N):\n",
    "    o= Orbit([R[ii],vR[ii],vT[ii],z[ii],vz[ii],phi[ii]]).flip() # flip flips the velocities for backwards integration\n",
    "    \n",
    "    o.integrate(t_age,MWPotential2014)\n",
    "    orbits.append(o(t_age[-1]).flip()) \n",
    "    \n",
    "    orbits[ii].integrate(t_age,MWPotential2014)"
   ]
  },
  {
   "cell_type": "code",
   "execution_count": null,
   "metadata": {
    "collapsed": false,
    "deletable": true,
    "editable": true
   },
   "outputs": [],
   "source": [
    "\n",
    "orbits[0].plot(d1='x',d2='y',ro=ro,vo=vo)"
   ]
  },
  {
   "cell_type": "code",
   "execution_count": null,
   "metadata": {
    "collapsed": false,
    "deletable": true,
    "editable": true
   },
   "outputs": [],
   "source": [
    "orbits[1].plot('k.',d1='ra',d2='dec',ro=ro,vo=vo)"
   ]
  },
  {
   "cell_type": "code",
   "execution_count": 2,
   "metadata": {
    "collapsed": false,
    "deletable": true,
    "editable": true
   },
   "outputs": [],
   "source": [
    "#load the saved pickle file for converting apars to obs coords\n",
    "with open('/home/nil/Dropbox/streamgap-pepper/pal5_64sampling.pkl','rb') as savefile:\n",
    "            sdf_smooth= pickle.load(savefile)\n",
    "            sdf_pepper= pickle.load(savefile)"
   ]
  },
  {
   "cell_type": "code",
   "execution_count": 77,
   "metadata": {
    "collapsed": false
   },
   "outputs": [
    {
     "name": "stdout",
     "output_type": "stream",
     "text": [
      "[2.163429579921305, 4.32685915984261, 6.490288739763915, 8.65371831968522, 10.817147899606525]\n",
      "[ 0.07692308  0.15384615  0.23076923  0.30769231  0.38461538]\n"
     ]
    }
   ],
   "source": [
    "import simulate_streampepper\n",
    "\n",
    "timpact= simulate_streampepper.parse_times('64sampling',5.)[:5]\n",
    "print timpact\n",
    "#timpact = list(np.linspace(0.1,0.5,10)/bovy_conversion.time_in_Gyr(vo,ro))\n",
    "\n",
    "print np.array(timpact)*bovy_conversion.time_in_Gyr(vo,ro)\n",
    "\n",
    "x=[]\n",
    "y=[]\n",
    "z=[]\n",
    "\n",
    "for kk in range(len(timpact)):\n",
    "    a= sdf_pepper._sgapdfs_coordtransform[timpact[kk]]._kick_interpolatedObsTrackXY\n",
    "    \n",
    "    x.append(a[:,0])\n",
    "    y.append(a[:,1])\n",
    "    z.append(a[:,2])\n",
    "    apar_all=sdf_pepper._sgapdfs_coordtransform[timpact[kk]]._kick_interpolatedThetasTrack\n",
    "    #print apar_all\n",
    "    #apar_max=sdf_pepper.length(tdisrupt=sdf_pepper._tdisrupt-timpact[0])*sdf_pepper._length_factor\n",
    "    \n",
    "    #apar=apar_all[apar_all < apar_max]\n",
    "    #print len(apar)"
   ]
  },
  {
   "cell_type": "code",
   "execution_count": 78,
   "metadata": {
    "collapsed": false,
    "deletable": true,
    "editable": true
   },
   "outputs": [
    {
     "name": "stdout",
     "output_type": "stream",
     "text": [
      "870\n",
      "870\n"
     ]
    }
   ],
   "source": [
    "print len(x[0])    \n",
    "lbd=bovy_coords.XYZ_to_lbd(x[0],y[0],z[0],degree=True)\n",
    "\n",
    "print len(lbd[:,0])"
   ]
  },
  {
   "cell_type": "code",
   "execution_count": null,
   "metadata": {
    "collapsed": false,
    "deletable": true,
    "editable": true
   },
   "outputs": [],
   "source": [
    "print sdf_pepper.length(tdisrupt=sdf_pepper._tdisrupt-timpact[0])#*sdf_pepper._length_factor"
   ]
  },
  {
   "cell_type": "code",
   "execution_count": 79,
   "metadata": {
    "collapsed": false,
    "deletable": true,
    "editable": true
   },
   "outputs": [],
   "source": [
    "t_age= np.linspace(0.,5.,1001)*u.Gyr\n",
    "\n",
    "pal5= Orbit([229.018,-0.124,23.2,-2.296,-2.257,-58.7],radec=True,ro=ro,vo=vo,solarmotion=[-11.1,24.,7.25])\n",
    "\n",
    "#pal5.integrate(t_age,MWPotential2014)\n",
    "#pal5(t_age[-1]).flip()\n",
    "\n",
    "t=np.linspace(0.,0.4,1001)*u.Gyr#/bovy_conversion.time_in_Gyr(vo,ro)\n",
    "\n",
    "pal5.integrate(t,MWPotential2014)"
   ]
  },
  {
   "cell_type": "code",
   "execution_count": 80,
   "metadata": {
    "collapsed": false
   },
   "outputs": [
    {
     "data": {
      "text/plain": [
       "[<matplotlib.lines.Line2D at 0x7f6fad978d90>]"
      ]
     },
     "execution_count": 80,
     "metadata": {},
     "output_type": "execute_result"
    },
    {
     "data": {
      "image/png": "[encoded data removed]",
      "text/plain": [
       "<matplotlib.figure.Figure at 0x7f6facad3d50>"
      ]
     },
     "metadata": {},
     "output_type": "display_data"
    }
   ],
   "source": [
    "bovy_plot.bovy_print(axes_labelsize=18.,xtick_labelsize=14.,ytick_labelsize=14.)\n",
    "\n",
    "#pal5.plot(d1='x',d2='y')\n",
    "#pal5.plot()\n",
    "\n",
    "pal5.plot(d1='x',d2='y')"
   ]
  },
  {
   "cell_type": "code",
   "execution_count": 92,
   "metadata": {
    "collapsed": false
   },
   "outputs": [
    {
     "name": "stdout",
     "output_type": "stream",
     "text": [
      "[ 0.07692308  0.15384615  0.23076923  0.30769231  0.38461538]\n",
      "[-2.25165468  4.28710586  2.8047805  -1.04168788 -3.87652575]\n"
     ]
    }
   ],
   "source": [
    "import simulate_streampepper\n",
    "\n",
    "def galcencyl_to_lbd(R,phi,Z,degree=True):\n",
    "    xyz=bovy_coords.galcencyl_to_XYZ(R,phi,Z)\n",
    "    lbd=bovy_coords.XYZ_to_lbd(xyz[0],xyz[1],xyz[2],degree=degree)\n",
    "    return lbd[0], lbd[1], lbd[2]\n",
    "\n",
    "timp= np.array(timpact)*bovy_conversion.time_in_Gyr(vo,ro)\n",
    "\n",
    "print timp\n",
    "\n",
    "pal5x= pal5.x(timp*u.Gyr)\n",
    "pal5y=pal5.y(timp*u.Gyr)\n",
    "pal5z=pal5.z(timp*u.Gyr)\n",
    "\n",
    "print pal5x\n",
    "#pal5_z=pal5.z(np.array(timpact)*u.Gyr)"
   ]
  },
  {
   "cell_type": "code",
   "execution_count": 94,
   "metadata": {
    "collapsed": false
   },
   "outputs": [
    {
     "data": {
      "text/plain": [
       "[<matplotlib.lines.Line2D at 0x7f6fad823190>]"
      ]
     },
     "execution_count": 94,
     "metadata": {},
     "output_type": "execute_result"
    },
    {
     "data": {
      "image/png": "[encoded data removed]",
      "text/plain": [
       "<matplotlib.figure.Figure at 0x7f6fad8fcf90>"
      ]
     },
     "metadata": {},
     "output_type": "display_data"
    }
   ],
   "source": [
    "bovy_plot.bovy_print(axes_labelsize=18.,xtick_labelsize=14.,ytick_labelsize=14.)\n",
    "\n",
    "\n",
    "scatter(pal5x[0],pal5y[0])\n",
    "scatter(x[0]*ro,y[0]*ro)\n",
    "pal5.plot(d1='x',d2='y',overplot=True,c='k')\n"
   ]
  },
  {
   "cell_type": "code",
   "execution_count": 95,
   "metadata": {
    "collapsed": false
   },
   "outputs": [
    {
     "data": {
      "text/plain": [
       "[<matplotlib.lines.Line2D at 0x7f6fac88f810>]"
      ]
     },
     "execution_count": 95,
     "metadata": {},
     "output_type": "execute_result"
    },
    {
     "data": {
      "image/png": "[encoded data removed]",
      "text/plain": [
       "<matplotlib.figure.Figure at 0x7f6fac959b50>"
      ]
     },
     "metadata": {},
     "output_type": "display_data"
    }
   ],
   "source": [
    "bovy_plot.bovy_print(axes_labelsize=18.,xtick_labelsize=14.,ytick_labelsize=14.)\n",
    "\n",
    "\n",
    "#scatter(pal5x[0],pal5y[0])\n",
    "scatter(pal5x[0],pal5z[0])\n",
    "scatter(x[0]*ro,z[0]*ro)\n",
    "pal5.plot(d1='x',d2='z',overplot=True,c='k')"
   ]
  },
  {
   "cell_type": "code",
   "execution_count": 17,
   "metadata": {
    "collapsed": false
   },
   "outputs": [
    {
     "name": "stdout",
     "output_type": "stream",
     "text": [
      "[ 138.18477556   46.50480525    2.20635207]\n"
     ]
    }
   ],
   "source": [
    "print lbd[0]"
   ]
  },
  {
   "cell_type": "code",
   "execution_count": null,
   "metadata": {
    "collapsed": false
   },
   "outputs": [],
   "source": [
    "plt.figure()\n",
    "plt.plot(pal5_l,pal5_b)\n",
    "plt.show()"
   ]
  },
  {
   "cell_type": "code",
   "execution_count": null,
   "metadata": {
    "collapsed": true
   },
   "outputs": [],
   "source": []
  }
 ],
 "metadata": {
  "kernelspec": {
   "display_name": "Python 2",
   "language": "python",
   "name": "python2"
  },
  "language_info": {
   "codemirror_mode": {
    "name": "ipython",
    "version": 2
   },
   "file_extension": ".py",
   "mimetype": "text/x-python",
   "name": "python",
   "nbconvert_exporter": "python",
   "pygments_lexer": "ipython2",
   "version": "2.7.13"
  }
 },
 "nbformat": 4,
 "nbformat_minor": 2
}
