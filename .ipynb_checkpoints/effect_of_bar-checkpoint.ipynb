{
 "cells": [
  {
   "cell_type": "code",
   "execution_count": 1,
   "metadata": {
    "collapsed": false,
    "deletable": true,
    "editable": true
   },
   "outputs": [
    {
     "name": "stdout",
     "output_type": "stream",
     "text": [
      "galpyWarning: A major change in versions > 1.1 is that all galpy.potential functions and methods take the potential as the first argument; previously methods such as evaluatePotentials, evaluateDensities, etc. would be called with (R,z,Pot), now they are called as (Pot,R,z) for greater consistency across the codebase\n"
     ]
    },
    {
     "ename": "ImportError",
     "evalue": "No module named pal5_util",
     "output_type": "error",
     "traceback": [
      "\u001b[0;31m\u001b[0m",
      "\u001b[0;31mImportError\u001b[0mTraceback (most recent call last)",
      "\u001b[0;32m<ipython-input-1-d62eb6731c2a>\u001b[0m in \u001b[0;36m<module>\u001b[0;34m()\u001b[0m\n\u001b[1;32m     10\u001b[0m \u001b[0;32mfrom\u001b[0m \u001b[0mgalpy\u001b[0m\u001b[0;34m.\u001b[0m\u001b[0mpotential\u001b[0m \u001b[0;32mimport\u001b[0m \u001b[0mMWPotential2014\u001b[0m\u001b[0;34m\u001b[0m\u001b[0m\n\u001b[1;32m     11\u001b[0m \u001b[0;32mfrom\u001b[0m \u001b[0mgalpy\u001b[0m\u001b[0;34m.\u001b[0m\u001b[0mutil\u001b[0m \u001b[0;32mimport\u001b[0m \u001b[0mbovy_conversion\u001b[0m\u001b[0;34m,\u001b[0m \u001b[0msave_pickles\u001b[0m\u001b[0;34m,\u001b[0m \u001b[0mbovy_coords\u001b[0m\u001b[0;34m,\u001b[0m \u001b[0mbovy_plot\u001b[0m\u001b[0;34m\u001b[0m\u001b[0m\n\u001b[0;32m---> 12\u001b[0;31m \u001b[0;32mimport\u001b[0m \u001b[0mpal5_util\u001b[0m\u001b[0;34m\u001b[0m\u001b[0m\n\u001b[0m\u001b[1;32m     13\u001b[0m \u001b[0;32mfrom\u001b[0m \u001b[0mgd1_util\u001b[0m \u001b[0;32mimport\u001b[0m \u001b[0mR0\u001b[0m\u001b[0;34m,\u001b[0m \u001b[0mV0\u001b[0m\u001b[0;34m\u001b[0m\u001b[0m\n\u001b[1;32m     14\u001b[0m \u001b[0;32mimport\u001b[0m \u001b[0mrun_pal5_abc\u001b[0m\u001b[0;34m\u001b[0m\u001b[0m\n",
      "\u001b[0;31mImportError\u001b[0m: No module named pal5_util"
     ]
    }
   ],
   "source": [
    "import os, os.path\n",
    "import glob\n",
    "import pickle\n",
    "import numpy\n",
    "from numpy.polynomial import Polynomial\n",
    "from scipy import ndimage, signal, interpolate\n",
    "#import matplotlib\n",
    "#matplotlib.use('PDF')\n",
    "from galpy.orbit import Orbit\n",
    "from galpy.potential import MWPotential2014\n",
    "from galpy.util import bovy_conversion, save_pickles, bovy_coords, bovy_plot\n",
    "import pal5_util\n",
    "from gd1_util import R0, V0\n",
    "import custom_stripping_df\n",
    "import bispectrum\n",
    "import seaborn as sns\n",
    "import astropy.units as u\n",
    "from galpy import potential\n",
    "%pylab inline\n",
    "#from matplotlib import cm, pyplot\n",
    "#from matplotlib.ticker import FuncFormatter, NullFormatter\n",
    "\n",
    "def galcencyl_to_lbd(R,phi,Z,degree=True):\n",
    "    xyz=bovy_coords.galcencyl_to_XYZ(R,phi,Z)\n",
    "    lbd=bovy_coords.XYZ_to_lbd(xyz[0],xyz[1],xyz[2],degree=degree)\n",
    "    return lbd[0], lbd[1], lbd[2]"
   ]
  },
  {
   "cell_type": "code",
   "execution_count": null,
   "metadata": {
    "collapsed": true,
    "deletable": true,
    "editable": true
   },
   "outputs": [],
   "source": [
    "ro,vo= 8., 220.\n",
    "\n",
    "rolr=1.2\n",
    "barphi=25 #degrees\n",
    "\n",
    "\n",
    "from galpy.potential import DehnenBarPotential\n",
    "dp= DehnenBarPotential(rolr=rolr,barphi=barphi)\n",
    "\n",
    "MWPotential2014bar= [MWPotential2014[0],MWPotential2014[1],MWPotential2014[2],dp]"
   ]
  },
  {
   "cell_type": "code",
   "execution_count": null,
   "metadata": {
    "collapsed": false,
    "deletable": true,
    "editable": true
   },
   "outputs": [],
   "source": [
    "#plot potential contours\n",
    "\n",
    "potential.plotPotentials(MWPotential2014bar,rmin=-10.*u.kpc,rmax=10.*u.kpc,zmin=-10.*u.kpc,zmax=10.*u.kpc,nrs=100,nzs=100,xy=True)\n",
    "\n"
   ]
  },
  {
   "cell_type": "code",
   "execution_count": null,
   "metadata": {
    "collapsed": false,
    "deletable": true,
    "editable": true
   },
   "outputs": [],
   "source": [
    "print dp.OmegaP()*(vo/ro)  #km/s/kpc\n"
   ]
  },
  {
   "cell_type": "code",
   "execution_count": null,
   "metadata": {
    "collapsed": false,
    "deletable": true,
    "editable": true
   },
   "outputs": [],
   "source": [
    "#plot orbits\n",
    "\n",
    "ts= numpy.linspace(0,1.,1001)*u.Gyr\n",
    "def plot_orbit_comparison(o):\n",
    "    o.integrate(ts,potential.MWPotential2014)\n",
    "    o.plot(yrange=[-2.,2.],xrange=[0.,9.],gcf=True)\n",
    "    o.integrate(ts,MWPotential2014bar)\n",
    "    o.plot(overplot=True,gcf=True)\n",
    "    return None\n",
    "\n",
    "def plot_orbit_comparisonXY(o):\n",
    "    o.integrate(ts,potential.MWPotential2014)\n",
    "    o.plot(d1='x',d2='y',xrange=[-10.,10.],yrange=[-10.,10.],gcf=True)\n",
    "    o.integrate(ts,MWPotential2014bar)\n",
    "    o.plot(d1='x',d2='y',overplot=True,gcf=True)\n",
    "    return None\n",
    "\n",
    "\n",
    "#vxvv=[R,vR,vT,z,vz,phi]\n",
    "\n",
    "bovy_plot.bovy_print(axes_labelsize=18.,xtick_labelsize=14.,ytick_labelsize=14.)\n",
    "figsize(12,6)\n",
    "subplot(2,2,1)\n",
    "o= Orbit([1.,0.1,0.03,0.,0.1,0.],ro=ro,vo=vo)\n",
    "plot_orbit_comparison(o)\n",
    "subplot(2,2,2)\n",
    "o= Orbit([1.,0.1,-0.03,0.,0.1,0.],ro=ro,vo=vo)\n",
    "plot_orbit_comparison(o)\n",
    "subplot(2,2,3)\n",
    "o= Orbit([1.,0.05,0.07,0.,0.1,0.],ro=ro,vo=vo)\n",
    "plot_orbit_comparison(o)\n",
    "subplot(2,2,4)\n",
    "o= Orbit([1.,0.05,-0.07,0.,0.1,0.],ro=ro,vo=vo)\n",
    "plot_orbit_comparison(o)\n",
    "tight_layout()\n"
   ]
  },
  {
   "cell_type": "code",
   "execution_count": null,
   "metadata": {
    "collapsed": false,
    "deletable": true,
    "editable": true
   },
   "outputs": [],
   "source": [
    "ts= numpy.linspace(0,1.,1001)*u.Gyr\n",
    "o1= Orbit([1.,0.1,0.03,0.,0.1,0.],ro=ro,vo=vo)\n",
    "o1.integrate(ts,MWPotential2014)\n",
    "o1.plotJacobi()"
   ]
  },
  {
   "cell_type": "code",
   "execution_count": null,
   "metadata": {
    "collapsed": false,
    "deletable": true,
    "editable": true
   },
   "outputs": [],
   "source": [
    "bovy_plot.bovy_print(axes_labelsize=18.,xtick_labelsize=14.,ytick_labelsize=14.)\n",
    "figsize(12,6)\n",
    "subplot(2,2,1)\n",
    "o= Orbit([1.,0.1,0.03,0.,0.1,0.],ro=ro,vo=vo)\n",
    "plot_orbit_comparisonXY(o)\n",
    "subplot(2,2,2)\n",
    "o= Orbit([1.,0.1,-0.03,0.,0.1,0.],ro=ro,vo=vo)\n",
    "plot_orbit_comparisonXY(o)\n",
    "subplot(2,2,3)\n",
    "o= Orbit([1.,0.05,0.07,0.,0.1,0.],ro=ro,vo=vo)\n",
    "plot_orbit_comparisonXY(o)\n",
    "subplot(2,2,4)\n",
    "o= Orbit([1.,0.05,-0.07,0.,0.1,0.],ro=ro,vo=vo)\n",
    "plot_orbit_comparisonXY(o)\n",
    "tight_layout()"
   ]
  },
  {
   "cell_type": "code",
   "execution_count": null,
   "metadata": {
    "collapsed": false,
    "deletable": true,
    "editable": true
   },
   "outputs": [],
   "source": [
    "#setup Pal 5 smooth stream, only the trailing arm at the moment\n",
    "sdf_trailing= pal5_util.setup_pal5model()\n",
    "\n",
    "#Sample N points from the smooth model today \n",
    "N=1000\n",
    "R,vR,vT,z,vz,phi,dt= sdf_trailing.sample(n=N,returndt=True)\n",
    "#l,b,d,vlos,pmll,pmbb = sdf_smooth.sample(n=N,lb=True)\n",
    "\n",
    "trackRADec_trailing=bovy_coords.lb_to_radec(sdf_trailing._interpolatedObsTrackLB[:,0],\n",
    "                          sdf_trailing._interpolatedObsTrackLB[:,1],\n",
    "                          degree=True)\n",
    "\n",
    "#lb_sample_trailing= sdf_trailing.sample(n=10000,lb=True)\n",
    "#radec_sample_trailing= bovy_coords.lb_to_radec(lb_sample_trailing[0],\n",
    "#                                               lb_sample_trailing[1],\n",
    "#                                               degree=True)\n",
    "\n",
    "\n",
    "l_unp=numpy.empty(N)\n",
    "b_unp=numpy.empty(N)\n",
    "\n",
    "for i in range(N):\n",
    "    l_unp[i]=galcencyl_to_lbd(R[i],phi[i],z[i])[0]\n",
    "    b_unp[i]=galcencyl_to_lbd(R[i],phi[i],z[i])[1]\n",
    "    \n",
    "radec1=bovy_coords.lb_to_radec(l_unp,b_unp,degree=True)  "
   ]
  },
  {
   "cell_type": "code",
   "execution_count": null,
   "metadata": {
    "collapsed": false,
    "deletable": true,
    "editable": true
   },
   "outputs": [],
   "source": [
    "#plot unperturbed stream \n",
    "\n",
    "\n",
    "plt.figure()\n",
    "plt.scatter(radec1[:,0],radec1[:,1],s=2)\n",
    "plt.plot(trackRADec_trailing[:,0],trackRADec_trailing[:,1],lw=2,c='r')\n",
    "plt.xlabel('RA (deg)')\n",
    "plt.ylabel('DEC (deg)')\n",
    "plt.show()\n"
   ]
  },
  {
   "cell_type": "code",
   "execution_count": null,
   "metadata": {
    "collapsed": true,
    "deletable": true,
    "editable": true
   },
   "outputs": [],
   "source": [
    "# integrate these N particles *backward* in time to when they were all stripped (they were stripped dt in the past, dt is different for each particle); something like\n",
    "orbits= []\n",
    "for ii in range(N):\n",
    "    o= Orbit([R[ii],vR[ii],vT[ii],z[ii],vz[ii],phi[ii]]).flip() # flip flips the velocities for backwards integration\n",
    "    ts= numpy.linspace(0.,dt[ii],1001)\n",
    "    o.integrate(ts,MWPotential2014)\n",
    "    orbits.append(o(ts[-1]).flip()) # get the orbit at the final time step, flip the velocities for forward integration below"
   ]
  },
  {
   "cell_type": "code",
   "execution_count": null,
   "metadata": {
    "collapsed": true,
    "deletable": true,
    "editable": true
   },
   "outputs": [],
   "source": [
    "#integrate all points *forward* in time in the barred potential \n",
    "# MWPotential2014bar\n",
    "\n",
    "finalR= numpy.empty(N)\n",
    "finalphi= numpy.empty(N)\n",
    "finalz= numpy.empty(N)\n",
    "for ii in range(N):\n",
    "    ts= numpy.linspace(0.,dt[ii],1001)\n",
    "    orbits[ii].integrate(ts,MWPotential2014bar)\n",
    "    finalR[ii]= orbits[ii].R(ts[-1])\n",
    "    finalphi[ii]= orbits[ii].phi(ts[-1])\n",
    "    finalz[ii]= orbits[ii].z(ts[-1])"
   ]
  },
  {
   "cell_type": "code",
   "execution_count": null,
   "metadata": {
    "collapsed": true,
    "deletable": true,
    "editable": true
   },
   "outputs": [],
   "source": [
    "l_p=numpy.empty(N)\n",
    "b_p=numpy.empty(N)\n",
    "\n",
    "for i in range(N):\n",
    "    l_p[i]=galcencyl_to_lbd(finalR[i],finalphi[i],finalz[i])[0]\n",
    "    b_p[i]=galcencyl_to_lbd(finalR[i],finalphi[i],finalz[i])[1]\n",
    "    \n",
    "radec=bovy_coords.lb_to_radec(l_p,b_p,degree=True)    \n",
    "    "
   ]
  },
  {
   "cell_type": "code",
   "execution_count": null,
   "metadata": {
    "collapsed": false,
    "deletable": true,
    "editable": true
   },
   "outputs": [],
   "source": [
    "plt.figure()\n",
    "plt.scatter(radec[:,0],radec[:,1],s=2)\n",
    "plt.plot(trackRADec_trailing[:,0],trackRADec_trailing[:,1],lw=2,c='r',label='unperturbed')\n",
    "plt.xlabel('RA (deg)')\n",
    "plt.ylabel('DEC (deg)')\n",
    "plt.legend(loc='upper left')\n",
    "plt.savefig('Dehnenbar_effect_Pal5_rolr{}_barphi{}.pdf'.format(rolr,barphi))\n",
    "plt.show()"
   ]
  },
  {
   "cell_type": "code",
   "execution_count": null,
   "metadata": {
    "collapsed": true,
    "deletable": true,
    "editable": true
   },
   "outputs": [],
   "source": []
  },
  {
   "cell_type": "code",
   "execution_count": null,
   "metadata": {
    "collapsed": true,
    "deletable": true,
    "editable": true
   },
   "outputs": [],
   "source": []
  },
  {
   "cell_type": "code",
   "execution_count": null,
   "metadata": {
    "collapsed": true,
    "deletable": true,
    "editable": true
   },
   "outputs": [],
   "source": []
  }
 ],
 "metadata": {
  "kernelspec": {
   "display_name": "Python 2",
   "language": "python",
   "name": "python2"
  },
  "language_info": {
   "codemirror_mode": {
    "name": "ipython",
    "version": 2
   },
   "file_extension": ".py",
   "mimetype": "text/x-python",
   "name": "python",
   "nbconvert_exporter": "python",
   "pygments_lexer": "ipython2",
   "version": "2.7.13"
  }
 },
 "nbformat": 4,
 "nbformat_minor": 2
}
