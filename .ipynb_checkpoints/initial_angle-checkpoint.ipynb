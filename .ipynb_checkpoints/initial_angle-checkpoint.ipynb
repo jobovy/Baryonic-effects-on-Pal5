{
 "cells": [
  {
   "cell_type": "code",
   "execution_count": 1,
   "metadata": {
    "collapsed": true
   },
   "outputs": [],
   "source": [
    "import numpy as np\n",
    "from __future__ import print_function\n",
    "\n",
    "ro=8.\n",
    "vo=220.\n",
    "\n",
    "#galpy uses a left-handed frame with the Sun at x=8 and y=0 \n",
    "#(z is toward the north Galactic pole, y+ is the direction of rotation --> left-handed). \n",
    "#A positive pattern speed is then in the same direction as rotation, that is, what we want. \n",
    "\n",
    "def initial_angle(pat_speed,t_age_Gyr=5.,fin_phi_deg=27.):\n",
    "    \n",
    "    kpc_to_km= 3.08*(10**16.)\n",
    "    Gyr_to_s = 3.15*(10**16.)\n",
    "    o_p = (2.*np.pi)*(pat_speed/kpc_to_km)  #rad/s\n",
    "\n",
    "    fin_phi= np.radians(fin_phi_deg)\n",
    "    init_phi= fin_phi - o_p*(t_age_Gyr*Gyr_to_s)\n",
    "    return init_phi\n"
   ]
  },
  {
   "cell_type": "code",
   "execution_count": 3,
   "metadata": {
    "collapsed": false
   },
   "outputs": [
    {
     "name": "stdout",
     "output_type": "stream",
     "text": [
      "-1124.07613142 -1766.67462875\n"
     ]
    }
   ],
   "source": [
    "print (initial_angle(35.), initial_angle(55.))"
   ]
  },
  {
   "cell_type": "code",
   "execution_count": null,
   "metadata": {
    "collapsed": true
   },
   "outputs": [],
   "source": []
  }
 ],
 "metadata": {
  "kernelspec": {
   "display_name": "Python 2",
   "language": "python",
   "name": "python2"
  },
  "language_info": {
   "codemirror_mode": {
    "name": "ipython",
    "version": 2
   },
   "file_extension": ".py",
   "mimetype": "text/x-python",
   "name": "python",
   "nbconvert_exporter": "python",
   "pygments_lexer": "ipython2",
   "version": "2.7.13"
  }
 },
 "nbformat": 4,
 "nbformat_minor": 2
}
