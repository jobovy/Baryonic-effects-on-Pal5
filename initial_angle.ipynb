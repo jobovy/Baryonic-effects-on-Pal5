{
 "cells": [
  {
   "cell_type": "code",
   "execution_count": 2,
   "metadata": {
    "collapsed": true,
    "deletable": true,
    "editable": true
   },
   "outputs": [],
   "source": [
    "import numpy as np\n",
    "from __future__ import print_function\n",
    "from galpy.util import bovy_conversion\n",
    "\n",
    "ro=8.\n",
    "vo=220.\n",
    "\n",
    "#galpy uses a left-handed frame with the Sun at x=8 and y=0 \n",
    "#(z is toward the north Galactic pole, y+ is the direction of rotation --> left-handed). \n",
    "#A positive pattern speed is then in the same direction as rotation, that is, what we want. \n",
    "\n",
    "def initial_angle(pat_speed,t_age_Gyr=5.,fin_phi_deg=27.):\n",
    "    \n",
    "    kpc_to_km= 1000*bovy_conversion._PCIN10p18CM*(10**18.)/(10**5.)\n",
    "    Gyr_to_s = 1000.*bovy_conversion._MyrIn1013Sec*10**13.\n",
    "    o_p = (2.*np.pi)*(pat_speed/kpc_to_km)  #rad/s\n",
    "\n",
    "    fin_phi= np.radians(fin_phi_deg)\n",
    "    init_phi= fin_phi - o_p*(t_age_Gyr*Gyr_to_s)\n",
    "    return init_phi\n"
   ]
  },
  {
   "cell_type": "code",
   "execution_count": 5,
   "metadata": {
    "collapsed": false,
    "deletable": true,
    "editable": true
   },
   "outputs": [
    {
     "name": "stdout",
     "output_type": "stream",
     "text": [
      "27.0 -1766.61077762\n"
     ]
    }
   ],
   "source": [
    "print (np.degrees(initial_angle(0.)), initial_angle(55.))"
   ]
  },
  {
   "cell_type": "code",
   "execution_count": 5,
   "metadata": {
    "collapsed": false,
    "deletable": true,
    "editable": true
   },
   "outputs": [
    {
     "name": "stdout",
     "output_type": "stream",
     "text": [
      "3.15569259072e+16\n"
     ]
    }
   ],
   "source": [
    "print (1000.*bovy_conversion._MyrIn1013Sec*10**13.)"
   ]
  },
  {
   "cell_type": "code",
   "execution_count": 8,
   "metadata": {
    "collapsed": false,
    "deletable": true,
    "editable": true
   },
   "outputs": [
    {
     "name": "stdout",
     "output_type": "stream",
     "text": [
      "3.08567758147e+16\n"
     ]
    }
   ],
   "source": [
    "print ()"
   ]
  },
  {
   "cell_type": "code",
   "execution_count": null,
   "metadata": {
    "collapsed": true,
    "deletable": true,
    "editable": true
   },
   "outputs": [],
   "source": []
  }
 ],
 "metadata": {
  "kernelspec": {
   "display_name": "Python 2",
   "language": "python",
   "name": "python2"
  },
  "language_info": {
   "codemirror_mode": {
    "name": "ipython",
    "version": 2
   },
   "file_extension": ".py",
   "mimetype": "text/x-python",
   "name": "python",
   "nbconvert_exporter": "python",
   "pygments_lexer": "ipython2",
   "version": "2.7.13"
  }
 },
 "nbformat": 4,
 "nbformat_minor": 2
}
