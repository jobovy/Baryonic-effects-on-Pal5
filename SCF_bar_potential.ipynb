{
 "cells": [
  {
   "cell_type": "code",
   "execution_count": null,
   "metadata": {
    "collapsed": false,
    "deletable": true,
    "editable": true
   },
   "outputs": [],
   "source": [
    "import os, os.path\n",
    "import glob\n",
    "import pickle\n",
    "import numpy as np\n",
    "from numpy.polynomial import Polynomial\n",
    "from scipy import ndimage, signal, interpolate\n",
    "#import matplotlib\n",
    "#matplotlib.use('PDF')\n",
    "from galpy.orbit import Orbit\n",
    "from galpy.potential import MWPotential2014\n",
    "from galpy.util import bovy_conversion, save_pickles, bovy_coords, bovy_plot\n",
    "import pal5_util\n",
    "from gd1_util import R0, V0\n",
    "import custom_stripping_df\n",
    "import seaborn as sns\n",
    "import astropy.units as u\n",
    "from galpy import potential\n",
    "%pylab inline\n",
    "from matplotlib import cm, pyplot\n",
    "#from matplotlib.ticker import FuncFormatter, NullFormatter\n",
    "\n",
    "def galcencyl_to_lbd(R,phi,Z,degree=True):\n",
    "    xyz=bovy_coords.galcencyl_to_XYZ(R,phi,Z)\n",
    "    lbd=bovy_coords.XYZ_to_lbd(xyz[0],xyz[1],xyz[2],degree=degree)\n",
    "    return lbd[0], lbd[1], lbd[2]"
   ]
  },
  {
   "cell_type": "code",
   "execution_count": null,
   "metadata": {
    "collapsed": false,
    "deletable": true,
    "editable": true
   },
   "outputs": [],
   "source": [
    "#define function for the bar density, using form from Dwek (1995) as of now\n",
    "# transformed from cartesian to cylindrical for galpy\n",
    "\n",
    "Mbar=2.*10**10 \n",
    "\n",
    "def r1(R,z,p):\n",
    "    return [R**4.*(np.sin(p)**2./x0**2 + np.cos(p)**2/y0**2)**2 + (z/z0)**4.]**(0.25)\n",
    "\n",
    "def r2(R,z):\n",
    "    return np.sqrt((q*R)**2. + z**2.)/z0\n",
    "\n",
    "\n",
    "def rho_bar(R,z,p):\n",
    "    return np.exp(-r1(R,z,p)**2./2.) + r2(R,z)**(-1.85)*np.exp(-r2(R,z))\n",
    "\n"
   ]
  },
  {
   "cell_type": "code",
   "execution_count": null,
   "metadata": {
    "collapsed": false
   },
   "outputs": [],
   "source": [
    "#Learn how to use triple quad\n",
    "\n",
    "from scipy import integrate\n",
    "import numpy as np\n",
    "\n",
    "a=2.\n",
    "b=3.\n",
    "c=4.\n",
    "\n",
    "#Return the triple integral of func(z, y, x) from x = a..b, y = gfun(x)..hfun(x), and z = qfun(x,y)..rfun(x,y).\n",
    "\n",
    "def rfun(x,y):\n",
    "    return c*np.sqrt(1 - (x/a)**2 - (y/b)**2)\n",
    "\n",
    "def qfun(x,y):\n",
    "    return 0.\n",
    "\n",
    "def gfun(x):\n",
    "    return 0.\n",
    "\n",
    "def hfun(x):\n",
    "    return b*np.sqrt(1-(x/a)**2.)\n",
    "\n",
    "def ff(z,y,x):\n",
    "    return 1.\n",
    "\n",
    "print 8.*integrate.tplquad(ff,0.,2.,gfun,hfun,qfun,rfun)[0]\n",
    "\n",
    "print 4.*np.pi*a*b*c/3."
   ]
  },
  {
   "cell_type": "code",
   "execution_count": 6,
   "metadata": {
    "collapsed": false
   },
   "outputs": [
    {
     "name": "stdout",
     "output_type": "stream",
     "text": [
      "1.97172574279\n"
     ]
    }
   ],
   "source": [
    "from scipy import integrate\n",
    "import numpy as np\n",
    "\n",
    "#constants\n",
    "x0=1.49 # kpc\n",
    "y0=0.58\n",
    "z0=0.4\n",
    "q= 0.6\n",
    "r0=np.sqrt(x0**2 + y0**2 + z0**2)\n",
    "\n",
    "Mbar=2.*10**10 #Msun\n",
    "\n",
    "def r1(z,y,x):\n",
    "    return (((x/x0)**2. + (y/y0)**2.)**2. + (z/z0)**4)**(0.25)\n",
    "\n",
    "def r2(z,y,x):\n",
    "    return (1/z0)*(q*(x**2 + y**2) + z**2)**(0.5)\n",
    "\n",
    "def rho_bar(z,y,x):\n",
    "    return np.exp(-0.5*r1(z,y,x)**2.) + (r2(z,y,x)**(-1.85))*np.exp(-r2(z,y,x))\n",
    "\n",
    "\n",
    "\n",
    "def rfun(x,y):\n",
    "    return z0*np.sqrt(1 - (x/x0)**2 - (y/y0)**2)\n",
    "\n",
    "def qfun(x,y):\n",
    "    return 0.\n",
    "\n",
    "def hfun(x):\n",
    "    return y0*np.sqrt(1-(x/x0)**2.)\n",
    "\n",
    "def gfun(x):\n",
    "    return 0.\n",
    "\n",
    "#the density form has the symmetry under x --> -x , y --> -y, z--> -z \n",
    "\n",
    "norm= 8.*integrate.tplquad(rho_bar,0.,x0,gfun,hfun,qfun,rfun)[0]\n",
    "\n",
    "print norm\n",
    "\n",
    "Mbar=2.*10**10.\n",
    "\n",
    "rho0=Mbar/norm\n",
    "\n"
   ]
  },
  {
   "cell_type": "code",
   "execution_count": 7,
   "metadata": {
    "collapsed": false
   },
   "outputs": [
    {
     "name": "stdout",
     "output_type": "stream",
     "text": [
      "10143398529.5\n"
     ]
    }
   ],
   "source": [
    "print rho0"
   ]
  },
  {
   "cell_type": "code",
   "execution_count": null,
   "metadata": {
    "collapsed": true
   },
   "outputs": [],
   "source": []
  }
 ],
 "metadata": {
  "kernelspec": {
   "display_name": "Python 2",
   "language": "python",
   "name": "python2"
  },
  "language_info": {
   "codemirror_mode": {
    "name": "ipython",
    "version": 2
   },
   "file_extension": ".py",
   "mimetype": "text/x-python",
   "name": "python",
   "nbconvert_exporter": "python",
   "pygments_lexer": "ipython2",
   "version": "2.7.13"
  }
 },
 "nbformat": 4,
 "nbformat_minor": 2
}
