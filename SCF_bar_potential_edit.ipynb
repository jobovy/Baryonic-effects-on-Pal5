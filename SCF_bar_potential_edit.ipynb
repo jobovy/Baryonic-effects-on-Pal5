{
 "cells": [
  {
   "cell_type": "code",
   "execution_count": 1,
   "metadata": {
    "collapsed": false,
    "deletable": true,
    "editable": true
   },
   "outputs": [
    {
     "name": "stdout",
     "output_type": "stream",
     "text": [
      "galpyWarning: A major change in versions > 1.1 is that all galpy.potential functions and methods take the potential as the first argument; previously methods such as evaluatePotentials, evaluateDensities, etc. would be called with (R,z,Pot), now they are called as (Pot,R,z) for greater consistency across the codebase\n",
      "Populating the interactive namespace from numpy and matplotlib\n"
     ]
    }
   ],
   "source": [
    "# import os, os.path\n",
    "import glob\n",
    "import pickle\n",
    "import numpy as np\n",
    "from numpy.polynomial import Polynomial\n",
    "from scipy import ndimage, signal, interpolate\n",
    "#import matplotlib\n",
    "#matplotlib.use('PDF')\n",
    "from galpy.orbit import Orbit\n",
    "from galpy.potential import MWPotential2014\n",
    "from galpy.util import bovy_conversion, save_pickles, bovy_coords, bovy_plot\n",
    "import pal5_util\n",
    "from gd1_util import R0, V0\n",
    "import custom_stripping_df\n",
    "import seaborn as sns\n",
    "import astropy.units as u\n",
    "from galpy import potential\n",
    "%pylab inline\n",
    "from matplotlib import cm, pyplot\n",
    "from __future__ import print_function\n",
    "\n",
    "#from matplotlib.ticker import FuncFormatter, NullFormatter\n",
    "\n",
    "def galcencyl_to_lbd(R,phi,Z,degree=True):\n",
    "    xyz=bovy_coords.galcencyl_to_XYZ(R,phi,Z)\n",
    "    lbd=bovy_coords.XYZ_to_lbd(xyz[0],xyz[1],xyz[2],degree=degree)\n",
    "    return lbd[0], lbd[1], lbd[2]"
   ]
  },
  {
   "cell_type": "markdown",
   "metadata": {},
   "source": [
    "# setup the SCF bar"
   ]
  },
  {
   "cell_type": "code",
   "execution_count": 2,
   "metadata": {
    "collapsed": false,
    "deletable": true,
    "editable": true
   },
   "outputs": [
    {
     "name": "stdout",
     "output_type": "stream",
     "text": [
      "1084351671.92\n"
     ]
    }
   ],
   "source": [
    "from scipy import integrate\n",
    "import numpy as np\n",
    "\n",
    "#constants\n",
    "x0=1.49 # kpc\n",
    "y0=0.58\n",
    "z0=0.4\n",
    "q= 0.6\n",
    "\n",
    "Mbar=10**10 #Msun, half of what Wang is using, same as Pearson\n",
    "\n",
    "\n",
    "def rho1(R,z):\n",
    "    return (2.*np.pi*x0*y0)*R*np.exp(-0.5*(np.sqrt(R**4 + (z/z0)**4)))\n",
    "\n",
    "rho1norm= integrate.nquad(rho1,[[0,np.inf],[-np.inf,np.inf]])[0]\n",
    "\n",
    "def rho2(R):\n",
    "    return (z0**1.85 *4.*np.pi/q**2)*R**(0.15)*np.exp(-R/z0)\n",
    "\n",
    "rho2norm= integrate.quad(rho2,0,np.inf)[0]\n",
    "\n",
    "\n",
    "rho0=Mbar/(rho1norm + rho2norm)\n",
    "\n",
    "print (rho0)\n",
    "\n",
    "def r1(z,y,x):\n",
    "    return (((x/x0)**2. + (y/y0)**2.)**2. + (z/z0)**4)**(0.25)\n",
    "\n",
    "def r2(z,y,x):\n",
    "    return (1/z0)*(q*(x**2 + y**2) + z**2)**(0.5)\n",
    "\n",
    "def rho_bar_xyz(z,y,x):\n",
    "    return rho0*(np.exp(-0.5*r1(z,y,x)**2.) + (r2(z,y,x)**(-1.85))*np.exp(-r2(z,y,x)))"
   ]
  },
  {
   "cell_type": "code",
   "execution_count": 9,
   "metadata": {
    "collapsed": false,
    "deletable": true,
    "editable": true
   },
   "outputs": [
    {
     "name": "stdout",
     "output_type": "stream",
     "text": [
      "13.1073012187\n",
      "/home/nil/.local/share/canopy/edm/envs/User/lib/python2.7/site-packages/ipykernel/__main__.py:35: RuntimeWarning: divide by zero encountered in power\n",
      "\n"
     ]
    },
    {
     "data": {
      "image/png": "[encoded data removed]",
      "text/plain": [
       "<matplotlib.figure.Figure at 0x7fd672a57ad0>"
      ]
     },
     "metadata": {},
     "output_type": "display_data"
    }
   ],
   "source": [
    "# plot the analytic form of density\n",
    "\n",
    "xx=np.linspace(0.,10.,100)\n",
    "yy=np.zeros(100)\n",
    "zz=np.zeros(100)\n",
    "\n",
    "\n",
    "plt.figure(figsize=(8,7))\n",
    "plt.loglog(xx,rho_bar_xyz(zz,yy,xx))\n",
    "plt.ylim(1.,10**13.)\n",
    "plt.xlim(0.1,13.)\n",
    "plt.ylabel(r'$\\rho_{\\rm{bar}} (\\rm{M}_{\\odot}/\\rm{kpc}^{3})$ ',fontsize=16)\n",
    "plt.xlabel(r'x (kpc)',fontsize=16)\n",
    "plt.show()"
   ]
  },
  {
   "cell_type": "code",
   "execution_count": 10,
   "metadata": {
    "collapsed": false,
    "deletable": true,
    "editable": true
   },
   "outputs": [],
   "source": [
    "#define function for the bar density, using form from Dwek (1995) as of now\n",
    "# transformed from cartesian to cylindrical for galpy\n",
    "\n",
    "def r1c(R,z,p):\n",
    "    return ((R**4.)*(np.cos(p)**2./x0**2 + np.sin(p)**2/y0**2)**2 + (z/z0)**4.)**(0.25)\n",
    "\n",
    "def r2c(R,z):\n",
    "    return np.sqrt((q*R)**2. + z**2.)/z0\n",
    "\n",
    "\n",
    "def rho_bar_cyl(R,z,p):\n",
    "    return rho0*(np.exp(-r1c(R,z,p)**2./2.) + r2c(R,z)**(-1.85)*np.exp(-r2c(R,z)))\n",
    "\n"
   ]
  },
  {
   "cell_type": "code",
   "execution_count": 31,
   "metadata": {
    "collapsed": false,
    "deletable": true,
    "editable": true
   },
   "outputs": [],
   "source": [
    "#compute SCF coefficients for the above defined density. \n",
    "#Following Pearson et al N=2 and L=6, a is same as r_s in Wang et al 2012\n",
    "#Note: the density above is not axisymmetric\n",
    "ro=8.\n",
    "vo=220.\n",
    "\n",
    "Acos,Asin= potential.scf_compute_coeffs(lambda R,z,p: rho_bar_cyl(R*8.,z*8.,p)/(10**9.*bovy_conversion.dens_in_msolpc3(220.,8.)),\n",
    "                                        5,10,a=1./ro,radial_order=30,costheta_order=30,phi_order=30)\n"
   ]
  },
  {
   "cell_type": "code",
   "execution_count": 40,
   "metadata": {
    "collapsed": false
   },
   "outputs": [],
   "source": [
    "#construct the barred potential with the coefficients computed above\n",
    "scfbar=potential.SCFPotential(amp=1.,Acos=Acos,Asin=Asin,a=0.125,normalize=False)\n",
    "\n",
    "\n",
    "#Let the bar spin!\n",
    "pat_speed = 35. #(km/s/kpc)\n",
    "omegaP=pat_speed*(ro/vo)\n",
    "scfbarrot=potential.SolidBodyRotationWrapperPotential(pot=scfbar, omega=omegaP,ro=ro,vo=vo,pa=np.radians(180.-27.))\n",
    "#pa = 27 deg taken from Pearson et al,."
   ]
  },
  {
   "cell_type": "code",
   "execution_count": 41,
   "metadata": {
    "collapsed": false
   },
   "outputs": [
    {
     "data": {
      "text/plain": [
       "<matplotlib.image.AxesImage at 0x7fd670e14350>"
      ]
     },
     "execution_count": 41,
     "metadata": {},
     "output_type": "execute_result"
    },
    {
     "data": {
      "image/png": "[encoded data removed]",
      "text/plain": [
       "<matplotlib.figure.Figure at 0x7fd671481ad0>"
      ]
     },
     "metadata": {},
     "output_type": "display_data"
    },
    {
     "data": {
      "image/png": "[encoded data removed]",
      "text/plain": [
       "<matplotlib.figure.Figure at 0x7fd670efd310>"
      ]
     },
     "metadata": {},
     "output_type": "display_data"
    }
   ],
   "source": [
    "#plot the bar's potential contours\n",
    "potential.plotPotentials(scfbarrot,rmin=-10.*u.kpc,rmax=10.*u.kpc,zmin=-10.*u.kpc,zmax=10.*u.kpc,nrs=100,nzs=100,xy=True)\n",
    "potential.plotPotentials(scfbarrot,rmin=-10.*u.kpc,rmax=10.*u.kpc,zmin=-10.*u.kpc,zmax=10.*u.kpc,nrs=100,nzs=100,xy=False,phi=0.)"
   ]
  },
  {
   "cell_type": "code",
   "execution_count": 42,
   "metadata": {
    "collapsed": false,
    "deletable": true,
    "editable": true
   },
   "outputs": [
    {
     "data": {
      "text/plain": [
       "<matplotlib.image.AxesImage at 0x7fd672f5ed90>"
      ]
     },
     "execution_count": 42,
     "metadata": {},
     "output_type": "execute_result"
    },
    {
     "data": {
      "image/png": "[encoded data removed]",
      "text/plain": [
       "<matplotlib.figure.Figure at 0x7fd670cc5210>"
      ]
     },
     "metadata": {},
     "output_type": "display_data"
    },
    {
     "data": {
      "image/png": "[encoded data removed]",
      "text/plain": [
       "<matplotlib.figure.Figure at 0x7fd670c03850>"
      ]
     },
     "metadata": {},
     "output_type": "display_data"
    }
   ],
   "source": [
    "#plot the bar's density contours\n",
    "from galpy.potential import plotDensities\n",
    "plotDensities(scfbarrot,rmin=-10.*u.kpc,rmax=10.*u.kpc,zmax=10.*u.kpc,zmin=-10.*u.kpc,phi=0.,nrs=101,nzs=101,ncontours=80,xy=True)\n",
    "plotDensities(scfbarrot,rmin=-10.*u.kpc,rmax=10.*u.kpc,zmax=10.*u.kpc,zmin=-10.*u.kpc,phi=0.,nrs=101,nzs=101,ncontours=80)"
   ]
  },
  {
   "cell_type": "code",
   "execution_count": 49,
   "metadata": {
    "collapsed": false
   },
   "outputs": [
    {
     "name": "stdout",
     "output_type": "stream",
     "text": [
      "-13294.8873634\n"
     ]
    },
    {
     "data": {
      "image/png": "[encoded data removed]",
      "text/plain": [
       "<matplotlib.figure.Figure at 0x7fd67114ee90>"
      ]
     },
     "metadata": {},
     "output_type": "display_data"
    }
   ],
   "source": [
    "#plot density vs r \n",
    "from galpy.potential import evaluateDensities\n",
    "\n",
    "r1=np.linspace(0.1,10.,100)\n",
    "\n",
    "print (evaluateDensities(scfbarrot,1.3,0.,0.)*(10**9)*bovy_conversion.dens_in_msolpc3(220.,8.))\n",
    "\n",
    "\n",
    "plt.figure(figsize=(8,7))\n",
    "plt.ylim(1.,10**13.)\n",
    "plt.xlim(0.1,12.)\n",
    "plt.ylabel(r'$\\rho_{\\rm{bar}} (\\rm{M}_{\\odot}/\\rm{kpc}^{3})$ ',fontsize=16)\n",
    "plt.xlabel(r'r (kpc)',fontsize=16)\n",
    "plt.loglog(r1,2*evaluateDensities(scfbarrot,r1/8.,0.*u.kpc,0.)*(10**9)*bovy_conversion.dens_in_msolpc3(220.,8.))\n",
    "plt.show()"
   ]
  },
  {
   "cell_type": "code",
   "execution_count": null,
   "metadata": {
    "collapsed": true
   },
   "outputs": [],
   "source": [
    "from galpy.potential import MiyamotoNagaiPotential, turn_physical_off\n",
    "\n",
    "MWPotential2014SCFbar=[MiyamotoNagaiPotential(amp=(6.8+0.5-1.)*10.**10*u.Msun,a=3./8.,b=0.28/8.),MWPotential2014[2],scfbarrot]\n",
    "turn_physical_off(MWPotential2014SCFbar)\n",
    "\n",
    "\n",
    "\n"
   ]
  },
  {
   "cell_type": "markdown",
   "metadata": {},
   "source": [
    "# setup axisymmetric version of the barred potential"
   ]
  },
  {
   "cell_type": "code",
   "execution_count": null,
   "metadata": {
    "collapsed": false,
    "deletable": true,
    "editable": true
   },
   "outputs": [],
   "source": [
    "#Note only m=0 terms are considered \n",
    "#generate the stream in axisymmetric potential and then integrate them back to their initial\n",
    "scfbaraxi=potential.SCFPotential(amp=1,Acos=numpy.atleast_3d(Acos[:,:,0]),a=0.125)\n",
    "\n",
    "\n",
    "\n",
    "scfbaraxi.mass(3.,2.,use_physical=False)*bovy_conversion.mass_in_1010msol(220.,8.)\n",
    "\n",
    "\n",
    "\n",
    "\n"
   ]
  },
  {
   "cell_type": "code",
   "execution_count": null,
   "metadata": {
    "collapsed": false,
    "deletable": true,
    "editable": true
   },
   "outputs": [],
   "source": [
    "#mass of the disk\n",
    "MWPotential2014[1].mass(10.,5.,use_physical=False)*bovy_conversion.mass_in_1010msol(220.,8.)"
   ]
  },
  {
   "cell_type": "code",
   "execution_count": null,
   "metadata": {
    "collapsed": false,
    "deletable": true,
    "editable": true
   },
   "outputs": [],
   "source": [
    "from galpy.potential import plotDensities\n",
    "plotDensities(scfbarrot,rmin=-0.2,rmax=0.2,zmax=0.25,zmin=-0.25,phi=0.,nrs=101,nzs=101,ncontours=50,xy=True)\n",
    "plotDensities(scfbarrot,rmin=-0.2,rmax=0.2,zmax=0.25,zmin=-0.25,phi=0.,nrs=101,nzs=101,ncontours=50)"
   ]
  },
  {
   "cell_type": "code",
   "execution_count": null,
   "metadata": {
    "collapsed": false,
    "deletable": true,
    "editable": true
   },
   "outputs": [],
   "source": [
    "print (potential.vcirc(MWPotential2014SCFbar,1.,phi=0)*vo)\n",
    "\n",
    "rr=np.linspace(0.1,3.,100)\n",
    "vcc=[potential.vcirc(MWPotential2014SCFbar,r,phi=0)*vo for r in rr]\n",
    "vccfid=[potential.vcirc(MWPotential2014,r)*vo for r in rr]\n",
    "\n",
    "plt.figure()\n",
    "plt.plot(rr*8.,vcc,label='MWPotentialSCFbar')\n",
    "plt.plot(rr*8.,vccfid,label='MWPotential2014')\n",
    "plt.legend(loc='upper right')\n",
    "plt.show()"
   ]
  },
  {
   "cell_type": "code",
   "execution_count": null,
   "metadata": {
    "collapsed": false,
    "deletable": true,
    "editable": true
   },
   "outputs": [],
   "source": [
    "from galpy.potential import evaluatezforces\n",
    "\n",
    "print (-evaluatezforces(MWPotential2014SCFbar, 1.,1.1/8.,phi=0.)*bovy_conversion.force_in_2piGmsolpc2(220.,8.))\n",
    "\n",
    "print (-evaluatezforces(MWPotential2014, 1.,1.1/8.,phi=0.)*bovy_conversion.force_in_2piGmsolpc2(220.,8.))"
   ]
  },
  {
   "cell_type": "code",
   "execution_count": null,
   "metadata": {
    "collapsed": false,
    "deletable": true,
    "editable": true
   },
   "outputs": [],
   "source": [
    "#plot orbits\n",
    "\n",
    "ts= numpy.linspace(0,1.,1001)*u.Gyr\n",
    "def plot_orbit_comparison(o):\n",
    "    o.integrate(ts,potential.MWPotential2014)\n",
    "    o.plot(yrange=[-2.,2.],xrange=[0.,9.],gcf=True)\n",
    "    o.integrate(ts,MWPotential2014SCFbar)\n",
    "    o.plot(overplot=True,gcf=True)\n",
    "    return None\n",
    "\n",
    "def plot_orbit_comparisonXY(o):\n",
    "    o.integrate(ts,potential.MWPotential2014)\n",
    "    o.plot(d1='x',d2='y',xrange=[-10.,10.],yrange=[-10.,10.],gcf=True)\n",
    "    o.integrate(ts,MWPotential2014SCFbar)\n",
    "    o.plot(d1='x',d2='y',overplot=True,gcf=True)\n",
    "    return None\n",
    "\n",
    "\n",
    "#vxvv=[R,vR,vT,z,vz,phi]\n",
    "\n",
    "bovy_plot.bovy_print(axes_labelsize=18.,xtick_labelsize=14.,ytick_labelsize=14.)\n",
    "figsize(12,6)\n",
    "subplot(2,2,1)\n",
    "o= Orbit([1.,0.1,0.03,0.,0.1,0.],ro=ro,vo=vo)\n",
    "plot_orbit_comparison(o)\n",
    "subplot(2,2,2)\n",
    "o= Orbit([1.,0.1,-0.03,0.,0.1,0.],ro=ro,vo=vo)\n",
    "plot_orbit_comparison(o)\n",
    "subplot(2,2,3)\n",
    "o= Orbit([1.,0.05,0.07,0.,0.1,0.],ro=ro,vo=vo)\n",
    "plot_orbit_comparison(o)\n",
    "subplot(2,2,4)\n",
    "o= Orbit([1.,0.05,-0.07,0.,0.1,0.],ro=ro,vo=vo)\n",
    "plot_orbit_comparison(o)\n",
    "tight_layout()\n"
   ]
  },
  {
   "cell_type": "code",
   "execution_count": null,
   "metadata": {
    "collapsed": false,
    "deletable": true,
    "editable": true
   },
   "outputs": [],
   "source": [
    "bovy_plot.bovy_print(axes_labelsize=18.,xtick_labelsize=14.,ytick_labelsize=14.)\n",
    "figsize(12,6)\n",
    "subplot(2,2,1)\n",
    "o= Orbit([1.,0.1,0.03,0.,0.1,0.],ro=ro,vo=vo)\n",
    "plot_orbit_comparisonXY(o)\n",
    "subplot(2,2,2)\n",
    "o= Orbit([1.,0.1,-0.03,0.,0.1,0.],ro=ro,vo=vo)\n",
    "plot_orbit_comparisonXY(o)\n",
    "subplot(2,2,3)\n",
    "o= Orbit([1.,0.05,0.07,0.,0.1,0.],ro=ro,vo=vo)\n",
    "plot_orbit_comparisonXY(o)\n",
    "subplot(2,2,4)\n",
    "o= Orbit([1.,0.05,-0.07,0.,0.1,0.],ro=ro,vo=vo)\n",
    "plot_orbit_comparisonXY(o)\n",
    "tight_layout()"
   ]
  },
  {
   "cell_type": "code",
   "execution_count": null,
   "metadata": {
    "collapsed": false,
    "deletable": true,
    "editable": true
   },
   "outputs": [],
   "source": [
    "#setup Pal 5 smooth stream, only the trailing arm at the moment\n",
    "\n",
    "#SCF no bar\n",
    "MWPotential2014SCFnobar= [MiyamotoNagaiPotential(amp=(6.8+0.5-1.)*10.**10*u.Msun,a=3./8.,b=0.28/8.),MWPotential2014[2],scfbaraxi]\n",
    "\n",
    "\n",
    "sdf_trailing= pal5_util.setup_pal5model(pot=MWPotential2014SCFnobar)\n",
    "\n",
    "#Sample N points from the smooth model today \n",
    "N=1000\n",
    "R,vR,vT,z,vz,phi,dt= sdf_trailing.sample(n=N,returndt=True)\n",
    "#l,b,d,vlos,pmll,pmbb = sdf_smooth.sample(n=N,lb=True)\n",
    "\n",
    "trackRADec_trailing=bovy_coords.lb_to_radec(sdf_trailing._interpolatedObsTrackLB[:,0],\n",
    "                          sdf_trailing._interpolatedObsTrackLB[:,1],\n",
    "                          degree=True)\n",
    "\n",
    "#add color label based on time of stripping\n",
    "\n",
    "#stripping time bins:\n",
    "t_age= 5. \n",
    "dt_bins=np.linspace(0.,t_age,6)\n",
    "print (dt_bins)\n",
    "\n",
    "l_unp=numpy.empty(N)\n",
    "b_unp=numpy.empty(N)\n",
    "dt_s=numpy.empty(N)\n",
    "\n",
    "for i in range(N):\n",
    "    dt_s[i]=numpy.digitize(dt[i]*bovy_conversion.time_in_Gyr(220.,8.),dt_bins)\n",
    "    l_unp[i]=galcencyl_to_lbd(R[i],phi[i],z[i])[0]\n",
    "    b_unp[i]=galcencyl_to_lbd(R[i],phi[i],z[i])[1]\n",
    "    \n",
    "radec1=bovy_coords.lb_to_radec(l_unp,b_unp,degree=True)  "
   ]
  },
  {
   "cell_type": "code",
   "execution_count": null,
   "metadata": {
    "collapsed": true,
    "deletable": true,
    "editable": true
   },
   "outputs": [],
   "source": [
    "cmap= cm.plasma\n",
    "\n",
    "def color_from_colormap(val,cmap,cmin,cmax):\n",
    "    va=[]\n",
    "    for v in val:\n",
    "        va.append(cmap((v-cmin)/(cmax-cmin)))\n",
    "        \n",
    "    return va\n",
    "\n",
    "def add_discrete_colorbar_dens(vmin,vmax,clabel,ticks,save_figures=False):\n",
    "    fig= pyplot.gcf()\n",
    "    if save_figures:\n",
    "        cbar_ax = fig.add_axes([0.775,0.135,0.05,0.815])\n",
    "    else:\n",
    "        fig.subplots_adjust(right=0.9)\n",
    "        cbar_ax = fig.add_axes([0.925, 0.13, 0.075, 0.83])\n",
    "    tcmap = matplotlib.colors.ListedColormap([cmap(f) for f in numpy.linspace(0.,1.,len(ticks))])\n",
    "    dtick= (ticks[1]-ticks[0])\n",
    "    sm = pyplot.cm.ScalarMappable(cmap=tcmap,norm=pyplot.Normalize(vmin=vmin-0.5*dtick,vmax=vmax+0.5*dtick))\n",
    "    sm._A = []\n",
    "    cbar= fig.colorbar(sm,cax=cbar_ax,use_gridspec=True,format=r'$%.1f$',ticks=ticks)\n",
    "    cbar.set_label(clabel)\n",
    "    return None\n",
    "\n",
    "def add_colorbar(vmin,vmax,clabel,save_figures=False):\n",
    "    fig= pyplot.gcf()\n",
    "    if save_figures:\n",
    "        cbar_ax = fig.add_axes([0.9,0.135,0.025,0.815])\n",
    "    else:\n",
    "        fig.subplots_adjust(right=0.95)\n",
    "        cbar_ax = fig.add_axes([0.975, 0.13, 0.025, 0.83])\n",
    "    sm = pyplot.cm.ScalarMappable(cmap=cmap,norm=pyplot.Normalize(vmin=vmin,vmax=vmax))\n",
    "    sm._A = []\n",
    "    cbar= fig.colorbar(sm,cax=cbar_ax,use_gridspec=True,format=r'$%.1f$')\n",
    "    cbar.set_label(clabel)\n",
    "    return None"
   ]
  },
  {
   "cell_type": "code",
   "execution_count": null,
   "metadata": {
    "collapsed": false,
    "deletable": true,
    "editable": true
   },
   "outputs": [],
   "source": [
    "#plot unperturbed stream \n",
    "\n",
    "\n",
    "plt.figure()\n",
    "plt.scatter(radec1[:,0],radec1[:,1],s=10,color=color_from_colormap(dt_s,cmap,0.,5.))\n",
    "#plt.plot(trackRADec_trailing[:,0],trackRADec_trailing[:,1],lw=2,c='r')\n",
    "plt.xlabel('RA (deg)')\n",
    "plt.ylabel('DEC (deg)')\n",
    "add_colorbar(0.,5.,r'$t_{\\rm{strip}}$ (Gyr)')\n",
    "plt.show()\n"
   ]
  },
  {
   "cell_type": "code",
   "execution_count": null,
   "metadata": {
    "collapsed": false,
    "deletable": true,
    "editable": true
   },
   "outputs": [],
   "source": [
    "#plot Jacobi integral to check whether it is conserved\n",
    "from random import randint\n",
    "ind=randint(0,len(R)-1)\n",
    "print (ind)\n",
    "\n",
    "\n",
    "ts= numpy.linspace(0,5.0,1001)/bovy_conversion.time_in_Gyr(220.,8.)\n",
    "o1= Orbit([R[ind],vR[ind],vT[ind],z[ind],vz[ind],phi[ind]],ro=ro,vo=vo)\n",
    "o1.integrate(ts,MWPotential2014SCFnobar)\n",
    "o1.plotJacobi(normed=True)\n",
    "\n",
    "obar= Orbit([R[ind],vR[ind],vT[ind],z[ind],vz[ind],phi[ind]],ro=ro,vo=vo)\n",
    "obar.integrate(ts,MWPotential2014SCFbar)\n",
    "obar.plotJacobi(normed=True)\n",
    "\n",
    "#plot Jacobi integral w.r.t the radius \n",
    "\n",
    "o1.plot(d1='R',d2='Jacobi',xrange=[0.,25])\n",
    "\n",
    "obar.plot(d1='R',d2='Jacobi',xrange=[0.,25])\n",
    "#axvline(dp._rb*ro,c='r') # this plots the bar radius\n"
   ]
  },
  {
   "cell_type": "code",
   "execution_count": null,
   "metadata": {
    "collapsed": true,
    "deletable": true,
    "editable": true
   },
   "outputs": [],
   "source": [
    "# integrate these N particles *backward* in time to when they were all stripped (they were stripped dt in the past, dt is different for each particle); something like\n",
    "orbits= []\n",
    "for ii in range(N):\n",
    "    o= Orbit([R[ii],vR[ii],vT[ii],z[ii],vz[ii],phi[ii]]).flip() # flip flips the velocities for backwards integration\n",
    "    ts= numpy.linspace(0.,dt[ii],1001)\n",
    "    o.integrate(ts,MWPotential2014SCFnobar)\n",
    "    orbits.append(o(ts[-1]).flip()) # get the orbit at the final time step, flip the velocities for forward integration below"
   ]
  },
  {
   "cell_type": "code",
   "execution_count": null,
   "metadata": {
    "collapsed": true,
    "deletable": true,
    "editable": true
   },
   "outputs": [],
   "source": [
    "#integrate all points *forward* in time in the barred potential \n",
    "# MWPotential2014SCFbar\n",
    "orbits1=orbits\n",
    "\n",
    "finalR= numpy.empty(N)\n",
    "finalphi= numpy.empty(N)\n",
    "finalz= numpy.empty(N)\n",
    "for ii in range(N):\n",
    "    ts= numpy.linspace(0.,dt[ii],1001)\n",
    "    orbits[ii].integrate(ts,MWPotential2014SCFbar)\n",
    "    finalR[ii]= orbits[ii].R(ts[-1])\n",
    "    finalphi[ii]= orbits[ii].phi(ts[-1])\n",
    "    finalz[ii]= orbits[ii].z(ts[-1])\n",
    "\n",
    "#SCF no bar, reintegrate forward again (dumb step! fix it later)\n",
    "finalR_nobar= numpy.empty(N)\n",
    "finalphi_nobar= numpy.empty(N)\n",
    "finalz_nobar= numpy.empty(N)\n",
    "for ii in range(N):\n",
    "    ts= numpy.linspace(0.,dt[ii],1001)\n",
    "    orbits1[ii].integrate(ts,MWPotential2014SCFnobar)\n",
    "    finalR_nobar[ii]= orbits1[ii].R(ts[-1])\n",
    "    finalphi_nobar[ii]= orbits1[ii].phi(ts[-1])\n",
    "    finalz_nobar[ii]= orbits1[ii].z(ts[-1])\n",
    "    "
   ]
  },
  {
   "cell_type": "code",
   "execution_count": null,
   "metadata": {
    "collapsed": true,
    "deletable": true,
    "editable": true
   },
   "outputs": [],
   "source": [
    "l_p=numpy.empty(N)\n",
    "b_p=numpy.empty(N)\n",
    "\n",
    "for i in range(N):\n",
    "    l_p[i]=galcencyl_to_lbd(finalR[i],finalphi[i],finalz[i])[0]\n",
    "    b_p[i]=galcencyl_to_lbd(finalR[i],finalphi[i],finalz[i])[1]\n",
    "    \n",
    "radec=bovy_coords.lb_to_radec(l_p,b_p,degree=True)   \n",
    "\n",
    "l_p_nobar=numpy.empty(N)\n",
    "b_p_nobar=numpy.empty(N)\n",
    "\n",
    "for i in range(N):\n",
    "    l_p_nobar[i]=galcencyl_to_lbd(finalR_nobar[i],finalphi_nobar[i],finalz_nobar[i])[0]\n",
    "    b_p_nobar[i]=galcencyl_to_lbd(finalR_nobar[i],finalphi_nobar[i],finalz_nobar[i])[1]\n",
    "    \n",
    "radec_nobar=bovy_coords.lb_to_radec(l_p_nobar,b_p_nobar,degree=True)   "
   ]
  },
  {
   "cell_type": "code",
   "execution_count": null,
   "metadata": {
    "collapsed": false,
    "deletable": true,
    "editable": true
   },
   "outputs": [],
   "source": [
    "plt.figure(figsize=(12,6))\n",
    "plt.subplot(1,2, 1)\n",
    "plt.title('SCF bar')\n",
    "plt.scatter(radec[:,0],radec[:,1],s=2,color=color_from_colormap(dt_s,cmap,0.,5.))\n",
    "plt.plot(trackRADec_trailing[:,0],trackRADec_trailing[:,1],lw=2,c='k',label='unperturbed')\n",
    "plt.xlabel('RA (deg)')\n",
    "plt.ylabel('DEC (deg)')\n",
    "\n",
    "\n",
    "\n",
    "plt.subplot(1, 2, 2)\n",
    "plt.title('No SCF bar')\n",
    "plt.scatter(radec_nobar[:,0],radec_nobar[:,1],s=2,color=color_from_colormap(dt_s,cmap,0.,5.))\n",
    "plt.plot(trackRADec_trailing[:,0],trackRADec_trailing[:,1],lw=2,c='k',label='unperturbed')\n",
    "plt.xlabel('RA (deg)')\n",
    "plt.ylabel('DEC (deg)')\n",
    "plt.legend(loc='upper left')\n",
    "add_colorbar(0.,5.,r'$t_{\\rm{strip}}$ (Gyr)')\n",
    "\n",
    "#plt.tight_layout()\n",
    "plt.show()\n",
    "\n",
    "\n",
    "    "
   ]
  },
  {
   "cell_type": "code",
   "execution_count": null,
   "metadata": {
    "collapsed": true,
    "deletable": true,
    "editable": true
   },
   "outputs": [],
   "source": [
    "#in spherical coordinates\n",
    "\n",
    "def r1s(R,t,p):\n",
    "    return R* ( np.sin(t)**4. + np.cos(t)**4.)**(0.25)\n",
    "\n",
    "def r2s(R,t,p):\n",
    "    return R*( (q*np.sin(t)/z0)**2. * ((x0*np.cos(p))**2. + (y0*np.sin(p))**2.)  + np.cos(t)**2. )**0.5\n",
    "\n",
    "\n",
    "def rho_bar_sp(R,t,p):\n",
    "    return np.exp(-r1s(R,t,p)**2./2.) + r2s(R,t,p)**(-1.85)*np.exp(-r2s(R,t,p))\n"
   ]
  },
  {
   "cell_type": "code",
   "execution_count": null,
   "metadata": {
    "collapsed": true,
    "deletable": true,
    "editable": true
   },
   "outputs": [],
   "source": []
  },
  {
   "cell_type": "code",
   "execution_count": null,
   "metadata": {
    "collapsed": false,
    "deletable": true,
    "editable": true
   },
   "outputs": [],
   "source": [
    "#Learn how to use triple quad\n",
    "\n",
    "from scipy import integrate\n",
    "import numpy as np\n",
    "\n",
    "a=2.\n",
    "b=3.\n",
    "c=4.\n",
    "\n",
    "#Return the triple integral of func(z, y, x) from x = a..b, y = gfun(x)..hfun(x), and z = qfun(x,y)..rfun(x,y).\n",
    "\n",
    "def rfun(x,y):\n",
    "    return c*np.sqrt(1 - (x/a)**2 - (y/b)**2)\n",
    "\n",
    "def qfun(x,y):\n",
    "    return 0.\n",
    "\n",
    "def gfun(x):\n",
    "    return 0.\n",
    "\n",
    "def hfun(x):\n",
    "    return b*np.sqrt(1-(x/a)**2.)\n",
    "\n",
    "def ff(z,y,x):\n",
    "    return 1.\n",
    "\n",
    "print 8.*integrate.tplquad(ff,0.,2.,gfun,hfun,qfun,rfun)[0]\n",
    "\n",
    "print 4.*np.pi*a*b*c/3."
   ]
  },
  {
   "cell_type": "code",
   "execution_count": null,
   "metadata": {
    "collapsed": false,
    "deletable": true,
    "editable": true
   },
   "outputs": [],
   "source": [
    "print rho0"
   ]
  },
  {
   "cell_type": "code",
   "execution_count": null,
   "metadata": {
    "collapsed": false,
    "deletable": true,
    "editable": true
   },
   "outputs": [],
   "source": [
    "import numpy as np\n",
    "from scipy import integrate\n",
    "\n",
    "#constants\n",
    "x0=1.49 # kpc\n",
    "y0=0.58\n",
    "z0=0.4\n",
    "q= 0.6\n",
    "r0=np.sqrt(x0**2 + y0**2 + z0**2)\n",
    "\n",
    "Mbar=2*10**10 #Msun\n",
    "\n",
    "def r1(z,y,x):\n",
    "    return (((x/x0)**2. + (y/y0)**2.)**2. + (z/z0)**4)**(0.25)\n",
    "\n",
    "def r2(z,y,x):\n",
    "    return (1/z0)*(q*(x**2 + y**2) + z**2)**(0.5)\n",
    "\n",
    "def rho_bar(z,y,x):\n",
    "    return np.exp(-0.5*r1(z,y,x)**2.) + (r2(z,y,x)**(-1.85))*np.exp(-r2(z,y,x))\n",
    "\n",
    "xx=np.linspace(-5.,5.,10000)\n",
    "yy=np.linspace(-5.,5.,10000)\n",
    "zz=np.linspace(-5.,5.,10000)\n",
    "\n",
    "\n"
   ]
  },
  {
   "cell_type": "code",
   "execution_count": null,
   "metadata": {
    "collapsed": false,
    "deletable": true,
    "editable": true
   },
   "outputs": [],
   "source": [
    "from mayavi import mlab \n",
    "figure = mlab.figure('Bar density')\n",
    "pts = mlab.points3d(xx, yy, zz, rho_bar, scale_mode='none', scale_factor=0.7)\n",
    "mlab.axes()\n",
    "mlab.show()"
   ]
  },
  {
   "cell_type": "code",
   "execution_count": null,
   "metadata": {
    "collapsed": false,
    "deletable": true,
    "editable": true
   },
   "outputs": [],
   "source": [
    "from scipy import integrate\n",
    "import numpy as np\n",
    "\n",
    "#constants\n",
    "x0=1.49 # kpc\n",
    "y0=0.58\n",
    "z0=0.4\n",
    "q= 0.6\n",
    "r0=np.sqrt(x0**2 + y0**2 + z0**2)\n",
    "\n",
    "Mbar=2*10**10 #Msun\n",
    "\n",
    "def r1(z,y,x):\n",
    "    return (((x/x0)**2. + (y/y0)**2.)**2. + (z/z0)**4)**(0.25)\n",
    "\n",
    "def r2(z,y,x):\n",
    "    return (1/z0)*(q*(x**2 + y**2) + z**2)**(0.5)\n",
    "\n",
    "def rho_bar(z,y,x):\n",
    "    return np.exp(-0.5*r1(z,y,x)**2.) + (r2(z,y,x)**(-1.85))*np.exp(-r2(z,y,x))\n",
    "\n",
    "\n",
    "\n",
    "def rfun(x,y):\n",
    "    return z0*np.sqrt(1 - (x/x0)**2 - (y/y0)**2)\n",
    "\n",
    "def qfun(x,y):\n",
    "    return 0.\n",
    "\n",
    "def hfun(x):\n",
    "    return y0*np.sqrt(1-(x/x0)**2.)\n",
    "\n",
    "def gfun(x):\n",
    "    return 0.\n",
    "\n",
    "#the density form has the symmetry under x --> -x , y --> -y, z--> -z \n",
    "\n",
    "norm= 8.*integrate.tplquad(rho_bar,0.,x0,gfun,hfun,qfun,rfun)[0]\n",
    "\n",
    "print norm\n",
    "\n",
    "rho0=Mbar/norm"
   ]
  },
  {
   "cell_type": "code",
   "execution_count": null,
   "metadata": {
    "collapsed": false,
    "deletable": true,
    "editable": true
   },
   "outputs": [],
   "source": [
    "def ff2(R):\n",
    "    \n",
    "\n",
    "print integrate.quad(ff2,0,np.inf)[0]"
   ]
  },
  {
   "cell_type": "code",
   "execution_count": null,
   "metadata": {
    "collapsed": false,
    "deletable": true,
    "editable": true
   },
   "outputs": [],
   "source": [
    "print 2./4*2"
   ]
  },
  {
   "cell_type": "code",
   "execution_count": null,
   "metadata": {
    "collapsed": true,
    "deletable": true,
    "editable": true
   },
   "outputs": [],
   "source": []
  }
 ],
 "metadata": {
  "kernelspec": {
   "display_name": "Python 2",
   "language": "python",
   "name": "python2"
  },
  "language_info": {
   "codemirror_mode": {
    "name": "ipython",
    "version": 2
   },
   "file_extension": ".py",
   "mimetype": "text/x-python",
   "name": "python",
   "nbconvert_exporter": "python",
   "pygments_lexer": "ipython2",
   "version": "2.7.13"
  }
 },
 "nbformat": 4,
 "nbformat_minor": 2
}
