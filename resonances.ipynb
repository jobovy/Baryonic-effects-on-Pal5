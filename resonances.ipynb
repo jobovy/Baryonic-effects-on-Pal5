{
 "cells": [
  {
   "cell_type": "code",
   "execution_count": 1,
   "metadata": {},
   "outputs": [
    {
     "name": "stdout",
     "output_type": "stream",
     "text": [
      "/home/nil/anaconda3/lib/python3.6/site-packages/h5py/__init__.py:36: FutureWarning: Conversion of the second argument of issubdtype from `float` to `np.floating` is deprecated. In future, it will be treated as `np.float64 == np.dtype(float).type`.\n",
      "  from ._conv import register_converters as _register_converters\n",
      "\n",
      "Populating the interactive namespace from numpy and matplotlib\n"
     ]
    }
   ],
   "source": [
    "import numpy\n",
    "from galpy.potential import MWPotential2014\n",
    "from galpy.orbit import Orbit\n",
    "from galpy.actionAngle import actionAngleIsochroneApprox\n",
    "from galpy.util import bovy_plot\n",
    "_R0, _V0= 8., 220.\n",
    "%pylab inline"
   ]
  },
  {
   "cell_type": "markdown",
   "metadata": {},
   "source": [
    "# Which pattern speeds should affect Pal 5 significantly?\n",
    "\n",
    "We compute the orbital frequencies $\\Omega_r$, $\\Omega_\\phi$, and $\\Omega_z$ and see whether $\\Omega_r$ and $\\Omega_\\phi$ satisfy the Lindblad resonance condition $n\\,(\\Omega_\\phi - \\Omega_p) = \\pm\\Omega_r$ for different $n$ and $\\Omega_p$. We check this by plotting $|\\Omega_r+n\\,(\\Omega_\\phi-\\Omega_p)|^{-1}$, which diverges at a resonance.\n",
    "\n",
    "We do this for Pal 5 as follows: initialize a ``galpy`` Orbit instance for Pal 5 and a ``actionAngleIsochroneApprox`` instance to compute the frequencies in ``MWPotential2014``:"
   ]
  },
  {
   "cell_type": "code",
   "execution_count": 2,
   "metadata": {},
   "outputs": [],
   "source": [
    "pal5= Orbit([229.018,-0.124,23.2,-2.296,-2.257,-58.7],radec=True,ro=_R0,vo=_V0,solarmotion=[-11.1,24.,7.25])  \n",
    "aAIA= actionAngleIsochroneApprox(pot=MWPotential2014,b=0.8)"
   ]
  },
  {
   "cell_type": "markdown",
   "metadata": {},
   "source": [
    "Then we compute the frequencies as"
   ]
  },
  {
   "cell_type": "code",
   "execution_count": 3,
   "metadata": {},
   "outputs": [],
   "source": [
    "_,_,_,Or,Op,Oz= aAIA.actionsFreqs(pal5)"
   ]
  },
  {
   "cell_type": "markdown",
   "metadata": {},
   "source": [
    "and plot!"
   ]
  },
  {
   "cell_type": "code",
   "execution_count": null,
   "metadata": {},
   "outputs": [],
   "source": [
    "Omegas= numpy.linspace(0.,70.,1001)\n",
    "overplot= False\n",
    "bovy_plot.bovy_print(axes_labelsize=17.,text_fontsize=12.,xtick_labelsize=15.,ytick_labelsize=15.)\n",
    "figsize(7,5)\n",
    "for n in [1,2,3,4]:\n",
    "    bovy_plot.bovy_plot(Omegas,1./numpy.fabs(Or*_V0/_R0+n*(Op*_V0/_R0-Omegas)),\n",
    "                        xrange=[0.,70.],yrange=[0.,3.],\n",
    "                       xlabel=r'$\\Omega_p\\,(\\mathrm{km\\,s}^{-1}\\,\\mathrm{kpc}^{-1})$',\n",
    "                        ylabel=r'$1/|\\Omega_r+n\\,(\\Omega_\\phi-\\Omega_p)|\\,(\\mathrm{arbitrary\\ units})$',\n",
    "                       overplot=overplot,label=r'$n = {}$'.format(n))\n",
    "    overplot=True\n",
    "legend(fontsize=18);"
   ]
  },
  {
   "cell_type": "markdown",
   "metadata": {},
   "source": [
    "The only relevant resonance for the bar therefore appears to be the $n=1$ resonance, near $\\Omega_p \\approx 35\\,\\mathrm{km\\,s}^{-1}\\,\\mathrm{kpc}^{-1}$. For spiral structure, which would likely have a smaller pattern speed, the relevant resonances are at $\\Omega_p \\approx 24.5\\,\\mathrm{km\\,s}^{-1}\\,\\mathrm{kpc}^{-1}$ for a two-armed spiral and $\\Omega_p \\approx 19.5\\,\\mathrm{km\\,s}^{-1}\\,\\mathrm{kpc}^{-1}$ for a four-armed spiral."
   ]
  },
  {
   "cell_type": "code",
   "execution_count": null,
   "metadata": {},
   "outputs": [],
   "source": []
  }
 ],
 "metadata": {
  "kernelspec": {
   "display_name": "Python 3",
   "language": "python",
   "name": "python3"
  },
  "language_info": {
   "codemirror_mode": {
    "name": "ipython",
    "version": 3
   },
   "file_extension": ".py",
   "mimetype": "text/x-python",
   "name": "python",
   "nbconvert_exporter": "python",
   "pygments_lexer": "ipython3",
   "version": "3.6.5"
  }
 },
 "nbformat": 4,
 "nbformat_minor": 2
}
