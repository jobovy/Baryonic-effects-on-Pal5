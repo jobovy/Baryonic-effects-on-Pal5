{
 "cells": [
  {
   "cell_type": "code",
   "execution_count": 5,
   "metadata": {},
   "outputs": [
    {
     "name": "stdout",
     "output_type": "stream",
     "text": [
      "Populating the interactive namespace from numpy and matplotlib\n"
     ]
    }
   ],
   "source": [
    "import numpy as np\n",
    "import pickle\n",
    "from astropy.io import fits\n",
    "import matplotlib.pyplot as plt\n",
    "from galpy.util import bovy_conversion, bovy_coords, save_pickles, bovy_plot\n",
    "from galpy.potential import MWPotential2014, turn_physical_off, vcirc\n",
    "import astropy.units as u\n",
    "%pylab inline\n",
    "from galpy.orbit import Orbit\n",
    "import random\n",
    "import pal5_util\n",
    "import pal5_util_MWfit\n",
    "import MWPotential2014Likelihood\n",
    "import os, os.path\n",
    "import re\n",
    "import glob\n",
    "import pickle\n",
    "import csv\n",
    "_REFR0, _REFV0= MWPotential2014Likelihood._REFR0, MWPotential2014Likelihood._REFV0\n",
    "ro, vo= _REFR0, _REFV0\n"
   ]
  },
  {
   "cell_type": "markdown",
   "metadata": {},
   "source": [
    "Jo tested 32 different MW potential models by varying $(f_{d},f_{r},h_{R},h_{Z},r_{s})$. Ignore potential 14.\n",
    "For each potential model, the MCMC chains have the following values : \n",
    "c,vo/220,dist/22.,pmo_parallel,pmo_perp, ln(sigv) and lnlike"
   ]
  },
  {
   "cell_type": "code",
   "execution_count": null,
   "metadata": {},
   "outputs": [],
   "source": [
    "def determine_nburn(filename='../pal5_mcmc/mwpot14-fitsigma-0.dat',\n",
    "                    threshold=0.1,skip=50,\n",
    "                    return_nsamples=False):\n",
    "    \"\"\"Function to detemrine an appropriate nburn for a given chain\"\"\"\n",
    "    # Load the data\n",
    "    data= numpy.loadtxt(filename,comments='#',delimiter=',')\n",
    "    lndata= numpy.reshape(data[:,-1],(len(data[:,5])//nwalkers,nwalkers))\n",
    "    # Perform a running diff wrt skip less\n",
    "    diff= (lndata-numpy.roll(lndata,skip,axis=0))\n",
    "    diff[:skip]= -100. # Make sure it's not within the first hundred\n",
    "    maxln= numpy.nanmax(lndata)\n",
    "    try:\n",
    "        indx= (numpy.fabs(numpy.median(diff,axis=1)) < threshold)\\\n",
    "                       *((maxln-numpy.nanmax(lndata,axis=1)) < 1.25)\n",
    "        if maxln > -22.5:\n",
    "            indx*= numpy.std(lndata,axis=1) < 3.\n",
    "        if return_nsamples:\n",
    "            return len(data)-numpy.arange(len(lndata))[indx][0]*nwalkers\n",
    "        else:\n",
    "            return numpy.arange(len(lndata))[indx][0]*nwalkers\n",
    "    except IndexError:\n",
    "        if return_nsamples: return 100.\n",
    "        else: return numpy.prod(lndata.shape)-100\n",
    "\n",
    "\n",
    "nwalkers= 12\n",
    "\n",
    "#from each MCMC chain file, pick nsamples\n",
    "nsamples= 1\n",
    "\n",
    "\n",
    "pot_ind=np.arange(0,32,1)\n",
    "pot_ind=np.delete(pot_ind,14)\n",
    "\n",
    "t_age= np.linspace(0.,5.,1001)/bovy_conversion.time_in_Gyr(vo,ro)\n",
    "\n",
    "peri_all=[]\n",
    "\n",
    "import csv\n",
    "csvdens= open('pot_params.dat','w')\n",
    "denswriter= csv.writer(csvdens,delimiter=',')\n",
    "\n",
    "for pindx in pot_ind:\n",
    "    \n",
    "    print (pindx)\n",
    "    # Load this potential\n",
    "    fn= '../GMC/pal5_mcmc/mwpot14-fitsigma-%i.dat' % pindx\n",
    "    with open(fn,'rb') as savefile:\n",
    "        line1= savefile.readline()\n",
    "    potparams= [float(s) for s in (line1.split(':'.encode())[1].split(','.encode()))]\n",
    "    #all_potparams[ii]= potparams\n",
    "    \n",
    "    denswriter.writerow(potparams)\n",
    "\n",
    "    tnburn= determine_nburn(fn)\n",
    "    tdata= numpy.loadtxt(fn,comments='#',delimiter=',')\n",
    "    tdata= tdata[tnburn::]\n",
    "    \n",
    "    print (min(tdata[:,3]),max(tdata[:,3]))\n",
    "    \n",
    "    rand_indx=random.sample(range(len(tdata)),nsamples)\n",
    "    \n",
    "    peri=[]\n",
    "    c=1\n",
    "    \n",
    "      \n",
    "    for jj in rand_indx:\n",
    "            \n",
    "        tvo= tdata[jj][1]*_REFV0\n",
    "        pot= MWPotential2014Likelihood.setup_potential(potparams,tdata[jj][0],False,False,\n",
    "                                                       pal5_util_MWfit._REFR0,tvo)\n",
    "\n",
    "        # Now compute the stream model for this setup\n",
    "        dist= tdata[jj][2]*22.\n",
    "        pmra= -2.296+tdata[jj][3]+tdata[jj][4]\n",
    "        pmdecpar= 2.257/2.296\n",
    "        pmdecperp= -2.296/2.257\n",
    "        pmdec= -2.257+tdata[jj][3]*pmdecpar+tdata[jj][4]*pmdecperp\n",
    "        vlos= -58.7\n",
    "        sigv= 0.4*numpy.exp(tdata[jj][5])\n",
    "        \n",
    "        \n",
    "        prog= Orbit([229.018,-0.124,dist,pmra,pmdec,vlos],\n",
    "                    radec=True,ro=ro,vo=tvo,\n",
    "                    solarmotion=[-11.1,24.,7.25]).flip()\n",
    "        \n",
    "        prog.integrate(t_age,pot)\n",
    "        peri.append(prog.rperi())\n",
    "        \n",
    "    peri_all.append(peri)\n",
    "    \n",
    "    \n",
    "csvdens.flush()\n",
    "csvdens.close()\n"
   ]
  },
  {
   "cell_type": "code",
   "execution_count": null,
   "metadata": {},
   "outputs": [],
   "source": [
    "#plot histogram of pericenter\n",
    "\n",
    "plt.figure(figsize=(10,15))\n",
    "\n",
    "for ii in range(31):\n",
    "    plt.subplot(8,4,ii+1)\n",
    "    plt.hist(peri_all[ii],bins='scott')\n",
    "    plt.xlabel(r'$r_{peri}$ (kpc)')\n",
    "    \n",
    "plt.tight_layout()\n",
    "plt.show()"
   ]
  },
  {
   "cell_type": "code",
   "execution_count": null,
   "metadata": {},
   "outputs": [],
   "source": [
    "#pal5_mcmc_selected_chains_pot{}.dat files were generated on the cluster, they contain 2000 samples \n",
    "#from each mcmc chain file\n",
    "\n",
    "#peri  pmpar c/a  vc 229.018,-0.124,dist,pmra,pmdec,vlos\n",
    "\n",
    "pot_ind=np.arange(0,32,1)\n",
    "pot_ind=np.delete(pot_ind,14)\n",
    "\n",
    "peri_all=[]\n",
    "pmpar=[]\n",
    "pot_indx=[]\n",
    "\n",
    "\n",
    "for jj in range(31):\n",
    "    dat=numpy.genfromtxt('../GMC/pal5_mcmc/pal5_mcmc_selected_chains_pot{}.dat'.format(pot_ind[jj]),delimiter=',',usecols=(0,1))\n",
    "    peri_all.append(dat[:,0])\n",
    "    pmpar.append(dat[:,1])\n",
    "    pot_indx.append(pot_ind[jj])\n"
   ]
  },
  {
   "cell_type": "code",
   "execution_count": null,
   "metadata": {},
   "outputs": [],
   "source": [
    "#determine min and max pericenter, apply pmpar~ -0.4 selection and compare the pericenter distribution\n",
    "peri_flat_list = [item for sublist in peri_all for item in sublist]\n",
    "\n",
    "print (len(peri_flat_list))\n",
    "\n",
    "pmpar_flat_list = [item for sublist in pmpar for item in sublist]\n",
    "\n",
    "print (len(pmpar_flat_list))\n",
    "\n",
    "peri_pmpar_select=[]\n",
    "\n",
    "for ii in range(len(pmpar_flat_list)):\n",
    "    if -0.42 < pmpar_flat_list[ii] < -0.38 :\n",
    "        peri_pmpar_select.append(peri_flat_list[ii])\n",
    "        \n",
    "print (len(peri_pmpar_select))\n",
    "\n",
    "print (min(peri_flat_list),max(peri_flat_list))"
   ]
  },
  {
   "cell_type": "code",
   "execution_count": null,
   "metadata": {},
   "outputs": [],
   "source": [
    "plt.figure(figsize=(10,10))\n",
    "plt.hist(peri_flat_list,bins='scott',density=True)\n",
    "plt.hist(peri_pmpar_select,bins='scott',histtype='step',color='red',density=True)\n",
    "plt.xlim(4.,8.5)\n",
    "plt.xlabel(r'$r_{perp}$ (kpc)')\n",
    "#plt.savefig('pal5_mcmc_chains.pdf')\n",
    "plt.show()"
   ]
  },
  {
   "cell_type": "code",
   "execution_count": null,
   "metadata": {},
   "outputs": [],
   "source": [
    "#setup a grid of pericenters between min and max and select the corresponding Pal5 orbit and potential\n",
    "\n",
    "peri_min=4.68\n",
    "peri_max=8.01\n",
    "\n",
    "peri_grid=np.linspace(peri_min,peri_max,5)\n",
    "\n",
    "print (peri_grid)\n",
    "\n",
    "peri_bin_edge=[]\n",
    "\n",
    "fo=open('rperi_grid_select.dat','w')\n",
    "fowriter= csv.writer(fo,delimiter=',')\n",
    "\n",
    "#define fine bin width to collect a sample of points\n",
    "for ii in range(len(peri_grid)):\n",
    "    peri_bin_lo=peri_grid[ii]-0.1\n",
    "    peri_bin_hi=peri_grid[ii]+0.1\n",
    "    peri_ind=[]\n",
    "    \n",
    "    while len(peri_ind) == 0 :\n",
    "        \n",
    "    \n",
    "        pot_indx=np.random.choice(pot_ind,size=1)[0]\n",
    "        print ('pot_indx =%i'%pot_indx)\n",
    "\n",
    "        dat=numpy.genfromtxt('../GMC/pal5_mcmc/pal5_mcmc_selected_chains_pot{}.dat'.format(pot_indx),delimiter=',')\n",
    "        peri=dat[:,0]\n",
    "        flat_c=dat[:,2]\n",
    "        vc=dat[:,3]\n",
    "        sigv=dat[:,4]\n",
    "        orbits=dat[:,(5,6,7,8,9,10)]\n",
    "\n",
    "        for jj in range(len(peri)):\n",
    "            if peri_bin_lo <= peri[jj] <= peri_bin_hi :\n",
    "                peri_ind.append(jj)\n",
    "                \n",
    "        print (len(peri_ind))\n",
    "    \n",
    "            \n",
    "    orb_ind=np.random.choice(peri_ind,size=1)[0]\n",
    "    \n",
    "    out=[pot_indx,peri[orb_ind],flat_c[orb_ind],vc[orb_ind],sigv[orb_ind]]\n",
    "    out.extend(list(orbits[orb_ind]))\n",
    "    \n",
    "    fowriter.writerow(out)\n",
    "    \n",
    "fo.flush()\n",
    "fo.close()\n"
   ]
  },
  {
   "cell_type": "code",
   "execution_count": 1,
   "metadata": {},
   "outputs": [
    {
     "name": "stdout",
     "output_type": "stream",
     "text": [
      "4.68\n",
      "galpyWarning: In versions >1.3, the output unit of streamdf.misalignment has been changed to radian (from degree before)\n",
      "5.52\n",
      "6.4\n",
      "7.18\n",
      "7.92\n"
     ]
    }
   ],
   "source": [
    "import GMC_util\n",
    "import pal5_util\n",
    "\n",
    "#sdf= pal5_util.setup_pal5model()\n",
    "sdf0=GMC_util.make_nondefault_pal5stream(0)\n",
    "sdf1=GMC_util.make_nondefault_pal5stream(1)\n",
    "sdf2=GMC_util.make_nondefault_pal5stream(2)\n",
    "sdf3=GMC_util.make_nondefault_pal5stream(3)\n",
    "sdf4=GMC_util.make_nondefault_pal5stream(4)\n",
    "\n"
   ]
  },
  {
   "cell_type": "code",
   "execution_count": 2,
   "metadata": {},
   "outputs": [
    {
     "name": "stdout",
     "output_type": "stream",
     "text": [
      "galpyWarning: WARNING: Rnorm keyword input to streamdf is deprecated in favor of the standard ro keyword\n",
      "galpyWarning: WARNING: Vnorm keyword input to streamdf is deprecated in favor of the standard vo keyword\n",
      "galpyWarning: In versions >1.3, the output unit of streamdf.misalignment has been changed to radian (from degree before)\n"
     ]
    }
   ],
   "source": [
    "sdf= pal5_util.setup_pal5model()"
   ]
  },
  {
   "cell_type": "code",
   "execution_count": 6,
   "metadata": {},
   "outputs": [
    {
     "data": {
      "image/png": "[encoded data removed]",
      "text/plain": [
       "<Figure size 432x288 with 1 Axes>"
      ]
     },
     "metadata": {},
     "output_type": "display_data"
    }
   ],
   "source": [
    "sdf.plotTrack(xrange=[-1.4,-0.4],yrange=[-0.5,2.2],label='Fid')\n",
    "sdf0.plotTrack(overplot=True,c='k',label='4.68 kpc')\n",
    "sdf1.plotTrack(overplot=True,label='5.52 kpc')\n",
    "sdf2.plotTrack(overplot=True,label='6.4 kpc')\n",
    "sdf3.plotTrack(overplot=True,label='7.19 kpc')\n",
    "sdf4.plotTrack(overplot=True,label='7.92 kpc')\n",
    "plt.legend(loc='lower left')\n",
    "plt.savefig('track.pdf')"
   ]
  },
  {
   "cell_type": "code",
   "execution_count": 8,
   "metadata": {},
   "outputs": [
    {
     "data": {
      "image/png": "[encoded data removed]",
      "text/plain": [
       "<Figure size 432x288 with 1 Axes>"
      ]
     },
     "metadata": {},
     "output_type": "display_data"
    }
   ],
   "source": [
    "sdf.plotTrack(d1='x',d2='y',xrange=[-1.5,-0.2],yrange=[-0.2,1.4],label='Fid')\n",
    "sdf0.plotTrack(overplot=True,c='k',d1='x',d2='y',label='4.68 kpc')\n",
    "sdf1.plotTrack(overplot=True,d1='x',d2='y',label='5.52 kpc')\n",
    "sdf2.plotTrack(overplot=True,d1='x',d2='y',label='6.4 kpc')\n",
    "sdf3.plotTrack(overplot=True,d1='x',d2='y',label='7.19 kpc')\n",
    "sdf4.plotTrack(overplot=True,d1='x',d2='y',label='7.92 kpc')\n",
    "plt.legend(loc='lower right')\n",
    "plt.savefig('track_xy.pdf')"
   ]
  },
  {
   "cell_type": "code",
   "execution_count": null,
   "metadata": {},
   "outputs": [],
   "source": []
  }
 ],
 "metadata": {
  "kernelspec": {
   "display_name": "Python 3",
   "language": "python",
   "name": "python3"
  },
  "language_info": {
   "codemirror_mode": {
    "name": "ipython",
    "version": 3
   },
   "file_extension": ".py",
   "mimetype": "text/x-python",
   "name": "python",
   "nbconvert_exporter": "python",
   "pygments_lexer": "ipython3",
   "version": "3.6.6"
  }
 },
 "nbformat": 4,
 "nbformat_minor": 2
}
