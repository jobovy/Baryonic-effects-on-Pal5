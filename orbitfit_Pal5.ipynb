{
 "cells": [
  {
   "cell_type": "code",
   "execution_count": 1,
   "metadata": {},
   "outputs": [
    {
     "name": "stdout",
     "output_type": "stream",
     "text": [
      "Populating the interactive namespace from numpy and matplotlib\n"
     ]
    }
   ],
   "source": [
    "import numpy as np\n",
    "import pickle\n",
    "from astropy.io import fits\n",
    "import matplotlib.pyplot as plt\n",
    "from galpy.util import bovy_conversion, bovy_coords, save_pickles, bovy_plot\n",
    "from galpy.potential import MWPotential2014, turn_physical_off, vcirc\n",
    "import astropy.units as u\n",
    "%pylab inline\n",
    "from galpy.orbit import Orbit\n",
    "import random\n",
    "import pal5_util_old\n",
    "import pal5_util_MWfit\n",
    "import GMC_util\n",
    "import MWPotential2014Likelihood\n",
    "import os, os.path\n",
    "import re\n",
    "import glob\n",
    "import pickle\n",
    "import csv\n",
    "_REFR0, _REFV0= MWPotential2014Likelihood._REFR0, MWPotential2014Likelihood._REFV0\n",
    "#ro, vo= _REFR0, _REFV0\n"
   ]
  },
  {
   "cell_type": "markdown",
   "metadata": {},
   "source": [
    "Jo tested 32 different MW potential models by varying $(f_{d},f_{r},h_{R},h_{Z},r_{s})$. Ignore potential 14.\n",
    "For each potential model, the MCMC chains have the following values : \n",
    "c,vo/220,dist/22.,pmo_parallel,pmo_perp, ln(sigv) and lnlike"
   ]
  },
  {
   "cell_type": "code",
   "execution_count": null,
   "metadata": {},
   "outputs": [],
   "source": [
    "def determine_nburn(filename='../pal5_mcmc/mwpot14-fitsigma-0.dat',\n",
    "                    threshold=0.1,skip=50,\n",
    "                    return_nsamples=False):\n",
    "    \"\"\"Function to detemrine an appropriate nburn for a given chain\"\"\"\n",
    "    # Load the data\n",
    "    data= numpy.loadtxt(filename,comments='#',delimiter=',')\n",
    "    lndata= numpy.reshape(data[:,-1],(len(data[:,5])//nwalkers,nwalkers))\n",
    "    # Perform a running diff wrt skip less\n",
    "    diff= (lndata-numpy.roll(lndata,skip,axis=0))\n",
    "    diff[:skip]= -100. # Make sure it's not within the first hundred\n",
    "    maxln= numpy.nanmax(lndata)\n",
    "    try:\n",
    "        indx= (numpy.fabs(numpy.median(diff,axis=1)) < threshold)\\\n",
    "                       *((maxln-numpy.nanmax(lndata,axis=1)) < 1.25)\n",
    "        if maxln > -22.5:\n",
    "            indx*= numpy.std(lndata,axis=1) < 3.\n",
    "        if return_nsamples:\n",
    "            return len(data)-numpy.arange(len(lndata))[indx][0]*nwalkers\n",
    "        else:\n",
    "            return numpy.arange(len(lndata))[indx][0]*nwalkers\n",
    "    except IndexError:\n",
    "        if return_nsamples: return 100.\n",
    "        else: return numpy.prod(lndata.shape)-100\n",
    "\n",
    "\n",
    "nwalkers= 12\n",
    "\n",
    "#from each MCMC chain file, pick nsamples\n",
    "nsamples= 1\n",
    "\n",
    "\n",
    "pot_ind=np.arange(0,32,1)\n",
    "pot_ind=np.delete(pot_ind,14)\n",
    "\n",
    "t_age= np.linspace(0.,5.,1001)/bovy_conversion.time_in_Gyr(vo,ro)\n",
    "\n",
    "peri_all=[]\n",
    "\n",
    "import csv\n",
    "csvdens= open('pot_params.dat','w')\n",
    "denswriter= csv.writer(csvdens,delimiter=',')\n",
    "\n",
    "for pindx in pot_ind:\n",
    "    \n",
    "    print (pindx)\n",
    "    # Load this potential\n",
    "    fn= '../GMC/pal5_mcmc/mwpot14-fitsigma-%i.dat' % pindx\n",
    "    with open(fn,'rb') as savefile:\n",
    "        line1= savefile.readline()\n",
    "    potparams= [float(s) for s in (line1.split(':'.encode())[1].split(','.encode()))]\n",
    "    #all_potparams[ii]= potparams\n",
    "    \n",
    "    denswriter.writerow(potparams)\n",
    "\n",
    "    tnburn= determine_nburn(fn)\n",
    "    tdata= numpy.loadtxt(fn,comments='#',delimiter=',')\n",
    "    tdata= tdata[tnburn::]\n",
    "    \n",
    "    print (min(tdata[:,3]),max(tdata[:,3]))\n",
    "    \n",
    "    rand_indx=random.sample(range(len(tdata)),nsamples)\n",
    "    \n",
    "    peri=[]\n",
    "    c=1\n",
    "    \n",
    "      \n",
    "    for jj in rand_indx:\n",
    "            \n",
    "        tvo= tdata[jj][1]*_REFV0\n",
    "        pot= MWPotential2014Likelihood.setup_potential(potparams,tdata[jj][0],False,False,\n",
    "                                                       pal5_util_MWfit._REFR0,tvo)\n",
    "\n",
    "        # Now compute the stream model for this setup\n",
    "        dist= tdata[jj][2]*22.\n",
    "        pmra= -2.296+tdata[jj][3]+tdata[jj][4]\n",
    "        pmdecpar= 2.257/2.296\n",
    "        pmdecperp= -2.296/2.257\n",
    "        pmdec= -2.257+tdata[jj][3]*pmdecpar+tdata[jj][4]*pmdecperp\n",
    "        vlos= -58.7\n",
    "        sigv= 0.4*numpy.exp(tdata[jj][5])\n",
    "        \n",
    "        \n",
    "        prog= Orbit([229.018,-0.124,dist,pmra,pmdec,vlos],\n",
    "                    radec=True,ro=ro,vo=tvo,\n",
    "                    solarmotion=[-11.1,24.,7.25]).flip()\n",
    "        \n",
    "        prog.integrate(t_age,pot)\n",
    "        peri.append(prog.rperi())\n",
    "        \n",
    "    peri_all.append(peri)\n",
    "    \n",
    "    \n",
    "csvdens.flush()\n",
    "csvdens.close()\n"
   ]
  },
  {
   "cell_type": "code",
   "execution_count": null,
   "metadata": {},
   "outputs": [],
   "source": [
    "#plot histogram of pericenter\n",
    "\n",
    "plt.figure(figsize=(10,15))\n",
    "\n",
    "for ii in range(31):\n",
    "    plt.subplot(8,4,ii+1)\n",
    "    plt.hist(peri_all[ii],bins='scott')\n",
    "    plt.xlabel(r'$r_{peri}$ (kpc)')\n",
    "    \n",
    "plt.tight_layout()\n",
    "plt.show()"
   ]
  },
  {
   "cell_type": "code",
   "execution_count": null,
   "metadata": {},
   "outputs": [],
   "source": [
    "#pal5_mcmc_selected_chains_pot{}.dat files were generated on the cluster, they contain 2000 samples \n",
    "#from each mcmc chain file\n",
    "\n",
    "#peri  pmpar c/a  vc sigv 229.018,-0.124,dist,pmra,pmdec,vlos\n",
    "\n",
    "pot_ind=np.arange(0,32,1)\n",
    "pot_ind=np.delete(pot_ind,14)\n",
    "\n",
    "peri_all=[]\n",
    "pmpar=[]\n",
    "dist=[]\n",
    "pot_indx=[]\n",
    "\n",
    "\n",
    "for jj in range(31):\n",
    "    dat=numpy.genfromtxt('../GMC/pal5_mcmc/pal5_mcmc_selected_chains_pot{}.dat'.format(pot_ind[jj]),delimiter=',')\n",
    "    peri_all.append(dat[:,0])\n",
    "    pmpar.append(dat[:,1])\n",
    "    dist.append(dat[:,7])\n",
    "    pot_indx.append(pot_ind[jj])\n"
   ]
  },
  {
   "cell_type": "code",
   "execution_count": null,
   "metadata": {},
   "outputs": [],
   "source": [
    "#determine min and max pericenter, apply pmpar~ -0.4 selection and compare the pericenter distribution\n",
    "peri_flat_list = [item for sublist in peri_all for item in sublist]\n",
    "\n",
    "dist_flat_list = [item for sublist in dist for item in sublist]\n",
    "\n",
    "print (len(peri_flat_list))\n",
    "\n",
    "pmpar_flat_list = [item for sublist in pmpar for item in sublist]\n",
    "\n",
    "print (len(pmpar_flat_list))\n",
    "\n",
    "peri_pmpar_select=[]\n",
    "\n",
    "for ii in range(len(pmpar_flat_list)):\n",
    "    if -0.42 < pmpar_flat_list[ii] < -0.38 :\n",
    "        peri_pmpar_select.append(peri_flat_list[ii])\n",
    "        \n",
    "print (len(peri_pmpar_select))\n",
    "\n",
    "print (min(peri_flat_list),max(peri_flat_list))"
   ]
  },
  {
   "cell_type": "code",
   "execution_count": null,
   "metadata": {},
   "outputs": [],
   "source": [
    "plt.figure(figsize=(10,10))\n",
    "plt.hist(peri_flat_list,bins='scott',density=True)\n",
    "plt.hist(peri_pmpar_select,bins='scott',histtype='step',color='red',density=True)\n",
    "plt.xlim(4.,8.5)\n",
    "plt.xlabel(r'$r_{perp}$ (kpc)')\n",
    "#plt.savefig('pal5_mcmc_chains.pdf')\n",
    "plt.show()"
   ]
  },
  {
   "cell_type": "code",
   "execution_count": null,
   "metadata": {},
   "outputs": [],
   "source": [
    "#plot pericenter vs dist\n",
    "\n",
    "plt.figure()\n",
    "plt.scatter(peri_flat_list,dist_flat_list)\n",
    "plt.xlim(4,9)\n",
    "plt.ylim(18,25)\n",
    "plt.xlabel('pericenter (kpc)')\n",
    "plt.ylabel('distance (kpc)')\n",
    "plt.show()"
   ]
  },
  {
   "cell_type": "code",
   "execution_count": null,
   "metadata": {},
   "outputs": [],
   "source": [
    "#setup a grid of pericenters between min and max and select the corresponding Pal5 orbit and potential\n",
    "\n",
    "peri_min=4.68\n",
    "peri_max=8.01\n",
    "\n",
    "peri_grid=np.linspace(peri_min,peri_max,5)\n",
    "\n",
    "print (peri_grid)\n",
    "\n",
    "peri_bin_edge=[]\n",
    "\n",
    "fo=open('rperi_grid_select_test.dat','w')\n",
    "fowriter= csv.writer(fo,delimiter=',')\n",
    "\n",
    "#define fine bin width to collect a sample of points\n",
    "for ii in range(len(peri_grid)):\n",
    "    peri_bin_lo=peri_grid[ii]-0.1\n",
    "    peri_bin_hi=peri_grid[ii]+0.1\n",
    "    peri_ind=[]\n",
    "    \n",
    "    while len(peri_ind) == 0 :\n",
    "        \n",
    "    \n",
    "        pot_indx=np.random.choice(pot_ind,size=1)[0]\n",
    "        print ('pot_indx =%i'%pot_indx)\n",
    "\n",
    "        dat=numpy.genfromtxt('../GMC/pal5_mcmc/pal5_mcmc_selected_chains_pot{}.dat'.format(pot_indx),delimiter=',')\n",
    "        peri=dat[:,0]\n",
    "        flat_c=dat[:,2]\n",
    "        vc=dat[:,3]\n",
    "        sigv=dat[:,4]\n",
    "        orbits=dat[:,(5,6,7,8,9,10)]\n",
    "\n",
    "        for jj in range(len(peri)):\n",
    "            if peri_bin_lo <= peri[jj] <= peri_bin_hi :\n",
    "                peri_ind.append(jj)\n",
    "                \n",
    "        print (len(peri_ind))\n",
    "    \n",
    "            \n",
    "    orb_ind=np.random.choice(peri_ind,size=1)[0]\n",
    "    \n",
    "    out=[pot_indx,peri[orb_ind],flat_c[orb_ind],vc[orb_ind],sigv[orb_ind]]\n",
    "    out.extend(list(orbits[orb_ind]))\n",
    "    \n",
    "    fowriter.writerow(out)\n",
    "    \n",
    "fo.flush()\n",
    "fo.close()\n"
   ]
  },
  {
   "cell_type": "code",
   "execution_count": 7,
   "metadata": {},
   "outputs": [
    {
     "name": "stdout",
     "output_type": "stream",
     "text": [
      "galpyWarning: WARNING: Rnorm keyword input to streamdf is deprecated in favor of the standard ro keyword\n",
      "galpyWarning: WARNING: Vnorm keyword input to streamdf is deprecated in favor of the standard vo keyword\n",
      "galpyWarning: Using C implementation to integrate orbits\n",
      "galpyWarning: In versions >1.3, the output unit of streamdf.misalignment has been changed to radian (from degree before)\n"
     ]
    }
   ],
   "source": [
    "import GMC_util\n",
    "import pal5_util_old\n",
    "\n",
    "sdf= pal5_util_old.setup_pal5model()"
   ]
  },
  {
   "cell_type": "code",
   "execution_count": null,
   "metadata": {},
   "outputs": [],
   "source": [
    "sdf0=GMC_util.make_nondefault_pal5stream(0,td=7.)  #final  5735sampling: 90 chunks of size 64"
   ]
  },
  {
   "cell_type": "code",
   "execution_count": null,
   "metadata": {},
   "outputs": [],
   "source": [
    "sdf1=GMC_util.make_nondefault_pal5stream(1,td=9.6)   #final DONE!"
   ]
  },
  {
   "cell_type": "code",
   "execution_count": null,
   "metadata": {},
   "outputs": [],
   "source": [
    "sdf2=GMC_util.make_nondefault_pal5stream(2,td=10.2)  #final  8356sampling : 131 chunks of size 64"
   ]
  },
  {
   "cell_type": "code",
   "execution_count": null,
   "metadata": {},
   "outputs": [],
   "source": [
    "sdf3=GMC_util.make_nondefault_pal5stream(3,td=11.7)#final     9585sampling : 150 chunks of size 64"
   ]
  },
  {
   "cell_type": "code",
   "execution_count": null,
   "metadata": {},
   "outputs": [],
   "source": [
    "sdf4=GMC_util.make_nondefault_pal5stream(4,td=6.7)  #final     5489sampling : 86 chunks of size 64"
   ]
  },
  {
   "cell_type": "code",
   "execution_count": 17,
   "metadata": {},
   "outputs": [
    {
     "name": "stdout",
     "output_type": "stream",
     "text": [
      "6.44\n",
      "galpyWarning: Using C implementation to integrate orbits\n",
      "galpyWarning: In versions >1.3, the output unit of streamdf.misalignment has been changed to radian (from degree before)\n"
     ]
    }
   ],
   "source": [
    "sdf5=GMC_util.make_nondefault_pal5stream(5,td=10.8) #final   8848sampling : 139 chunks for size 64"
   ]
  },
  {
   "cell_type": "code",
   "execution_count": 18,
   "metadata": {},
   "outputs": [
    {
     "data": {
      "image/png": "[encoded data removed]",
      "text/plain": [
       "<Figure size 1080x864 with 1 Axes>"
      ]
     },
     "metadata": {},
     "output_type": "display_data"
    }
   ],
   "source": [
    "import numpy\n",
    "import matplotlib.pyplot as plt\n",
    "apar=numpy.arange(0.,1.75,0.01)\n",
    "\n",
    "dens_unp= [sdf._density_par(a) for a in apar]\n",
    "#dens_unp0= [sdf0._density_par(a) for a in apar]\n",
    "#dens_unp1= [sdf1._density_par(a) for a in apar]\n",
    "#dens_unp2= [sdf2._density_par(a) for a in apar]\n",
    "#dens_unp3= [sdf3._density_par(a) for a in apar]\n",
    "#dens_unp4= [sdf4._density_par(a) for a in apar]\n",
    "dens_unp5= [sdf5._density_par(a) for a in apar]\n",
    "\n",
    "\n",
    "plt.figure(figsize=(15,12))\n",
    "plt.plot(apar,dens_unp,label='fid')\n",
    "#plt.plot(apar,dens_unp0,label='0')\n",
    "#plt.plot(apar,dens_unp1,label='1')\n",
    "#plt.plot(apar,dens_unp2,label='2')\n",
    "#plt.plot(apar,dens_unp3,label='3')\n",
    "#plt.plot(apar,dens_unp4,label='4')\n",
    "plt.plot(apar,dens_unp5,label='5')\n",
    "plt.legend(loc='lower left')\n",
    "#plt.savefig('pal5_smooth_dens_diffchains.pdf')\n",
    "plt.show()\n"
   ]
  },
  {
   "cell_type": "code",
   "execution_count": null,
   "metadata": {},
   "outputs": [],
   "source": [
    "sdf.plotTrack(xrange=[-1.4,-0.4],yrange=[-0.5,2.2],label='Fid')\n",
    "sdf0.plotTrack(overplot=True,c='k',label='4.68 kpc')\n",
    "sdf1.plotTrack(overplot=True,label='5.52 kpc')\n",
    "sdf2.plotTrack(overplot=True,label='6.4 kpc')\n",
    "sdf3.plotTrack(overplot=True,label='7.19 kpc')\n",
    "sdf4.plotTrack(overplot=True,label='7.92 kpc')\n",
    "plt.legend(loc='lower left')\n",
    "plt.savefig('track.pdf')"
   ]
  },
  {
   "cell_type": "code",
   "execution_count": null,
   "metadata": {},
   "outputs": [],
   "source": [
    "sdf.plotTrack(d1='x',d2='y',xrange=[-1.5,-0.2],yrange=[-0.2,1.4],label='Fid')\n",
    "sdf0.plotTrack(overplot=True,c='k',d1='x',d2='y',label='4.68 kpc')\n",
    "sdf1.plotTrack(overplot=True,d1='x',d2='y',label='5.52 kpc')\n",
    "sdf2.plotTrack(overplot=True,d1='x',d2='y',label='6.4 kpc')\n",
    "sdf3.plotTrack(overplot=True,d1='x',d2='y',label='7.19 kpc')\n",
    "sdf4.plotTrack(overplot=True,d1='x',d2='y',label='7.92 kpc')\n",
    "plt.legend(loc='lower right')\n",
    "plt.savefig('track_xy.pdf')"
   ]
  },
  {
   "cell_type": "code",
   "execution_count": null,
   "metadata": {},
   "outputs": [],
   "source": [
    "sdf.plotTrack(d1='ll',d2='bb',xrange=[-5,40],yrange=[0,50],label='Fid')\n",
    "sdf0.plotTrack(overplot=True,c='k',d1='ll',d2='bb',label='4.68 kpc')\n",
    "sdf1.plotTrack(overplot=True,d1='ll',d2='bb',label='5.52 kpc')\n",
    "sdf2.plotTrack(overplot=True,d1='ll',d2='bb',label='6.4 kpc')\n",
    "sdf3.plotTrack(overplot=True,d1='ll',d2='bb',label='7.19 kpc')\n",
    "sdf4.plotTrack(overplot=True,d1='ll',d2='bb',label='7.92 kpc')\n",
    "plt.legend(loc='lower left')\n",
    "plt.savefig('track_lb.pdf')"
   ]
  },
  {
   "cell_type": "markdown",
   "metadata": {},
   "source": [
    "# set impacts"
   ]
  },
  {
   "cell_type": "code",
   "execution_count": null,
   "metadata": {},
   "outputs": [],
   "source": [
    "from simulate_streampepper import parse_times\n",
    "\n",
    "timpacts=np.array(parse_times('1sampling',5))\n",
    "\n",
    "print (timpacts)\n",
    "\n"
   ]
  },
  {
   "cell_type": "code",
   "execution_count": null,
   "metadata": {},
   "outputs": [],
   "source": [
    "sdf_pepper_fid=pal5_util.setup_pal5model(timpact=timpacts)\n",
    "sdf_pepper0=GMC_util.make_nondefault_pal5stream(0,timpact=timpacts)\n",
    "sdf_pepper1=GMC_util.make_nondefault_pal5stream(1,timpact=timpacts)\n",
    "sdf_pepper2=GMC_util.make_nondefault_pal5stream(2,timpact=timpacts)\n",
    "sdf_pepper3=GMC_util.make_nondefault_pal5stream(3,timpact=timpacts)\n",
    "sdf_pepper4=GMC_util.make_nondefault_pal5stream(4,timpact=timpacts)"
   ]
  },
  {
   "cell_type": "code",
   "execution_count": null,
   "metadata": {},
   "outputs": [],
   "source": [
    "#check sign of apars, should be -1 since trailing\n",
    "print (sdf_pepper_fid._sigMeanSign,sdf_pepper0._sigMeanSign,sdf_pepper1._sigMeanSign,sdf_pepper2._sigMeanSign,\n",
    "      sdf_pepper3._sigMeanSign,sdf_pepper4._sigMeanSign)\n"
   ]
  },
  {
   "cell_type": "code",
   "execution_count": null,
   "metadata": {},
   "outputs": [],
   "source": [
    "#plot the stream at different timpacts\n",
    "\n",
    "for kk in range(len(timpacts)):\n",
    "    \n",
    "    x=[]\n",
    "    y=[]\n",
    "    z=[]\n",
    "    \n",
    "    x0=[]\n",
    "    y0=[]\n",
    "    z0=[]\n",
    "    \n",
    "    x3=[]\n",
    "    y3=[]\n",
    "    z3=[]\n",
    "    \n",
    "    a= sdf_pepper_fid._sgapdfs_coordtransform[timpacts[kk]]._kick_interpolatedObsTrackXY\n",
    "    apar_all=sdf_pepper_fid._sgapdfs_coordtransform[timpacts[kk]]._kick_interpolatedThetasTrack\n",
    "    \n",
    "    a0= sdf_pepper0._sgapdfs_coordtransform[timpacts[kk]]._kick_interpolatedObsTrackXY\n",
    "    apar_all0=sdf_pepper0._sgapdfs_coordtransform[timpacts[kk]]._kick_interpolatedThetasTrack\n",
    "    \n",
    "    a3= sdf_pepper3._sgapdfs_coordtransform[timpacts[kk]]._kick_interpolatedObsTrackXY\n",
    "    apar_all3=sdf_pepper3._sgapdfs_coordtransform[timpacts[kk]]._kick_interpolatedThetasTrack\n",
    "    \n",
    "    bovy_plot.bovy_print(axes_labelsize=18.,xtick_labelsize=14.,ytick_labelsize=14.)\n",
    "    figsize(10,10)\n",
    "       \n",
    "    #at each timpact compute apar_max\n",
    "    apar_max=sdf.length(tdisrupt=sdf_pepper_fid._tdisrupt-timpacts[kk])*sdf_pepper_fid._length_factor\n",
    "    apar_max0=sdf0.length(tdisrupt=sdf_pepper0._tdisrupt-timpacts[kk])*sdf_pepper0._length_factor\n",
    "    apar_max3=sdf3.length(tdisrupt=sdf_pepper3._tdisrupt-timpacts[kk])*sdf_pepper3._length_factor\n",
    "    \n",
    "    #considering the stream until apar_max, store xyzvxvyvz \n",
    "    for ii in range(len(apar_all)):\n",
    "        if apar_all[ii] <= apar_max : \n",
    "            x.append(a[:,0][ii])\n",
    "            y.append(a[:,1][ii])\n",
    "            z.append(a[:,2][ii])\n",
    "      \n",
    "    for ii in range(len(apar_all0)):\n",
    "        if apar_all0[ii] <= apar_max0 : \n",
    "            x0.append(a0[:,0][ii])\n",
    "            y0.append(a0[:,1][ii])\n",
    "            z0.append(a0[:,2][ii])\n",
    "            \n",
    "    for ii in range(len(apar_all3)):\n",
    "        if apar_all3[ii] <= apar_max3 : \n",
    "            x3.append(a3[:,0][ii])\n",
    "            y3.append(a3[:,1][ii])\n",
    "            z3.append(a3[:,2][ii])\n",
    "    \n",
    "    \n",
    "    plt.scatter(np.array(x)*ro,np.array(y)*ro,c='k',s=1,label='fid')\n",
    "    plt.scatter(np.array(x0)*ro,np.array(y0)*ro,c='r',s=1,label='4.68 kpc')\n",
    "    plt.scatter(np.array(x3)*ro,np.array(y3)*ro,c='g',s=1,label='7.18 kpc')\n",
    "    plt.xlim(-20.,20.)\n",
    "    plt.ylim(-17.,17.)\n",
    "    plt.legend(loc='lower right')\n",
    "    plt.show()"
   ]
  },
  {
   "cell_type": "code",
   "execution_count": null,
   "metadata": {},
   "outputs": [],
   "source": [
    "\n",
    "#load the saved pickle file for converting apars to obs coords, any sdf_pepper does the job\n",
    "with open('../GMC/pkl_files/pal5pepper_Plummer_128sampling_chainind3_10.pkl','rb') as savefile:\n",
    "            #sdf_smooth= pickle.load(savefile,encoding='latin1')\n",
    "            sdf_pepper= pickle.load(savefile,encoding='latin1')\n",
    "\n",
    "print (sdf_pepper._sigMeanSign)"
   ]
  },
  {
   "cell_type": "code",
   "execution_count": null,
   "metadata": {},
   "outputs": [],
   "source": [
    "import GMC_GC_util\n",
    "prog,pot,sigv,tvo=GMC_GC_util.set_prog_potential(1)\n",
    "\n",
    "def parse_times(times,age,ro,vo):\n",
    "    if 'sampling' in times:\n",
    "        nsam= int(times.split('sampling')[0])\n",
    "        return [float(ti)/bovy_conversion.time_in_Gyr(vo,ro)\n",
    "                for ti in numpy.arange(1,nsam+1)/(nsam+1.)*age]\n",
    "    return [float(ti)/bovy_conversion.time_in_Gyr(vo,ro)\n",
    "            for ti in times.split(',')]\n",
    "            \n",
    "timpacts= parse_times('4096sampling',5.,ro=_REFR0,vo=tvo)\n",
    "\n",
    "\n",
    "nchunk= 64\n",
    "\n",
    "ntim=int(len(timpacts)/nchunk)\n",
    "\n",
    "tim_array=[]\n",
    "\n",
    "for ii in range(nchunk):\n",
    "    tim_array.append(timpacts[ii*ntim:(ii+1)*ntim])\n",
    "    \n",
    "timpactn=tim_array[31]\n",
    "\n",
    "print (timpactn)"
   ]
  },
  {
   "cell_type": "code",
   "execution_count": null,
   "metadata": {},
   "outputs": [],
   "source": [
    "timpacts1= parse_times('64sampling',5.,ro=_REFR0,vo=_REFV0)\n",
    "print (np.array(timpacts)-np.array(timpacts1))"
   ]
  },
  {
   "cell_type": "code",
   "execution_count": null,
   "metadata": {},
   "outputs": [],
   "source": [
    "print (tvo,_REFV0)\n"
   ]
  },
  {
   "cell_type": "code",
   "execution_count": null,
   "metadata": {},
   "outputs": [],
   "source": [
    "print (timpacts1)"
   ]
  },
  {
   "cell_type": "code",
   "execution_count": null,
   "metadata": {},
   "outputs": [],
   "source": [
    "def parse_times(times,age,ro,vo):\n",
    "    if 'sampling' in times:\n",
    "        nsam= int(times.split('sampling')[0])\n",
    "        return [float(ti)/bovy_conversion.time_in_Gyr(vo,ro)\n",
    "                for ti in numpy.arange(1,nsam+1)/(nsam+1.)*age]\n",
    "    return [float(ti)/bovy_conversion.time_in_Gyr(vo,ro)\n",
    "            for ti in times.split(',')]\n",
    "\n",
    "prog,pot,sigv,tvo=GMC_util.set_prog_potential(1)\n",
    "print(parse_times('64sampling',9.6,ro=_REFR0,vo=tvo))"
   ]
  },
  {
   "cell_type": "code",
   "execution_count": null,
   "metadata": {},
   "outputs": [],
   "source": [
    "print (150./bovy_conversion.time_in_Gyr(_REFV0,_REFR0))"
   ]
  },
  {
   "cell_type": "code",
   "execution_count": null,
   "metadata": {},
   "outputs": [],
   "source": []
  }
 ],
 "metadata": {
  "kernelspec": {
   "display_name": "Python 3",
   "language": "python",
   "name": "python3"
  },
  "language_info": {
   "codemirror_mode": {
    "name": "ipython",
    "version": 3
   },
   "file_extension": ".py",
   "mimetype": "text/x-python",
   "name": "python",
   "nbconvert_exporter": "python",
   "pygments_lexer": "ipython3",
   "version": "3.6.6"
  }
 },
 "nbformat": 4,
 "nbformat_minor": 2
}
